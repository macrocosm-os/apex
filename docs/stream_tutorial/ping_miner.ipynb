{
 "cells": [
  {
   "cell_type": "code",
   "execution_count": 1,
   "metadata": {},
   "outputs": [
    {
     "name": "stderr",
     "output_type": "stream",
     "text": [
      "/Users/brianmccrindle/anaconda3/envs/prompting/lib/python3.9/site-packages/bitsandbytes/cextension.py:34: UserWarning: The installed version of bitsandbytes was compiled without GPU support. 8-bit optimizers, 8-bit multiplication, and GPU quantization are unavailable.\n",
      "  warn(\"The installed version of bitsandbytes was compiled without GPU support. \"\n",
      "/Users/brianmccrindle/anaconda3/envs/prompting/lib/python3.9/site-packages/tqdm/auto.py:21: TqdmWarning: IProgress not found. Please update jupyter and ipywidgets. See https://ipywidgets.readthedocs.io/en/stable/user_install.html\n",
      "  from .autonotebook import tqdm as notebook_tqdm\n"
     ]
    },
    {
     "name": "stdout",
     "output_type": "stream",
     "text": [
      "'NoneType' object has no attribute 'cadam32bit_grad_fp32'\n"
     ]
    }
   ],
   "source": [
    "%load_ext autoreload\n",
    "%autoreload 2\n",
    "\n",
    "import os \n",
    "import pandas as pd \n",
    "import client as cl\n",
    "import bittensor as bt \n",
    "import asyncio\n",
    "\n",
    "from prompting.protocol import StreamPromptingSynapse, PromptingSynapse\n"
   ]
  },
  {
   "cell_type": "code",
   "execution_count": 8,
   "metadata": {},
   "outputs": [
    {
     "name": "stdout",
     "output_type": "stream",
     "text": [
      "metagraph.axons:  [AxonInfo( /ipv4/129.146.127.82:8091, 5DhKVLE5bsg8BYY7QC94AJzGHC1LJQ9oCW4R33GekuVMqDY1, 5G1XChmwskSD26xgmdPsJxd4t9EP1CCTHA5KvSNN6uJ73N8D, 660 ), AxonInfo( /ipv4/129.146.127.82:9001, 5CdJRFCwnahgTKquJ92HnbCdp2tb73LmPamvMtWfEUH1cdkp, 5G1XChmwskSD26xgmdPsJxd4t9EP1CCTHA5KvSNN6uJ73N8D, 660 ), AxonInfo( /ipv4/129.146.127.82:9002, 5H9AVNRo135552roWVL5BW8rLcoBi9HrRSQnrgfipE8vXdSH, 5G1XChmwskSD26xgmdPsJxd4t9EP1CCTHA5KvSNN6uJ73N8D, 660 ), AxonInfo( /ipv4/129.146.127.82:9003, 5Gk23dLJVdTpLU1fi1oAnkghc3VJQuPe2dQEJNUR2VqnBLZv, 5G1XChmwskSD26xgmdPsJxd4t9EP1CCTHA5KvSNN6uJ73N8D, 660 ), AxonInfo( /ipv4/129.146.127.82:9004, 5F1dDnWxQGnBCE5VDa7RvnPnKg7SYGdvEoLuf2mjnBu43WDJ, 5G1XChmwskSD26xgmdPsJxd4t9EP1CCTHA5KvSNN6uJ73N8D, 660 ), AxonInfo( /ipv4/129.146.127.82:9005, 5CdT2QvbpsWEiCu7ZkZr7XZG27vkQUg4mqdpTEeHSGXoZD6p, 5G1XChmwskSD26xgmdPsJxd4t9EP1CCTHA5KvSNN6uJ73N8D, 660 ), AxonInfo( /ipv4/129.146.127.82:9006, 5DrEZkh5KrpC7GpyXKy8ZKSj35iKHetniDnYg8Q6NJuTynAE, 5G1XChmwskSD26xgmdPsJxd4t9EP1CCTHA5KvSNN6uJ73N8D, 660 ), AxonInfo( /ipv4/129.146.127.82:9007, 5C83qhujAfEpezM97r6bvLfuPcmByKZ2UVzMcwaYcLrqRRbZ, 5G1XChmwskSD26xgmdPsJxd4t9EP1CCTHA5KvSNN6uJ73N8D, 660 ), AxonInfo( /ipv4/129.146.127.82:9008, 5FF11KxiYAJvrsPvWV2peopyDvZi82pwH7t8SzmZDpGrBcj4, 5G1XChmwskSD26xgmdPsJxd4t9EP1CCTHA5KvSNN6uJ73N8D, 660 ), AxonInfo( /ipv4/129.146.127.82:9009, 5H3rZ1aE31wSHpY9Fauerrn5hB12tSasVi1LE1NCHsEknSqw, 5G1XChmwskSD26xgmdPsJxd4t9EP1CCTHA5KvSNN6uJ73N8D, 660 ), AxonInfo( /ipv4/129.146.127.82:9010, 5GbvMECKS4H5poqzLg4Xagotu3ivbkffihei46JCBuhdqLkh, 5G1XChmwskSD26xgmdPsJxd4t9EP1CCTHA5KvSNN6uJ73N8D, 660 ), AxonInfo( /ipv4/129.146.127.82:9011, 5CkZ9Xrthh6LB9hKtyiAgRDvcajYfDCT8GJFT1vFK7WPb9TD, 5G1XChmwskSD26xgmdPsJxd4t9EP1CCTHA5KvSNN6uJ73N8D, 660 ), AxonInfo( /ipv4/69.30.85.17:8091, 5CaT1KRBVXASre9qtjLH4qMSocsKwuicVb13aq5KF2soJuaR, 5HiyCfKGduJg5GRA9YE9sH6e9pipNScFMAHCGYb97BxciQDs, 660 ), AxonInfo( /ipv4/45.135.57.174:9090, 5DsxJkSsAGuunT1cE3eYNVaugH4KMtqW3NjyejwHw8pJxnLm, 5D8E9HqYjNgtn1GtHHegsnv2uXEAuA3hT8bfqCEnthq2K819, 650 ), AxonInfo( /ipv4/69.30.85.17:9100, 5F7U991jo6WDLdBZYZVXqFBixzaoxqfU6kVGnaaJd26ip7z5, 5HiyCfKGduJg5GRA9YE9sH6e9pipNScFMAHCGYb97BxciQDs, 660 ), AxonInfo( /ipv4/69.30.85.17:9200, 5EZsXXxC5rYcJboUmYV4GmWGGuycZuRQ2ww2P75VJjzxy6V9, 5HiyCfKGduJg5GRA9YE9sH6e9pipNScFMAHCGYb97BxciQDs, 660 ), AxonInfo( /ipv4/69.30.85.17:9400, 5DhKi78J7Tx6owD2uWfhNKR9RoTHUo5pzzMtjLSrVejacR47, 5HiyCfKGduJg5GRA9YE9sH6e9pipNScFMAHCGYb97BxciQDs, 660 ), AxonInfo( /ipv4/69.30.85.17:9300, 5FPJH4QeYPca4HSbHQS6vN44RiZY9ioXVUWeLXv235BWEvEM, 5HiyCfKGduJg5GRA9YE9sH6e9pipNScFMAHCGYb97BxciQDs, 660 ), AxonInfo( /ipv4/152.70.121.20:8091, 5GRBME6fn4UT3pFhHoDdQNF15d4AgWH59TeZJyajdLhg2v7r, 5GgYinWgdY3ygLAZYFj3okWJHo6DiWJ2YDp4DPNRkvLagzAc, 660 ), AxonInfo( /ipv4/73.150.32.202:9200, 5E4FwiywDMHyhv3bHGwyRKBHU36AUbXuFikUYgNfmyGAE9rv, 5DAUBoXCqTsA9CHCSeQ1VjRy3Thcba65NtMzY1QNS8gp65b3, 660 ), AxonInfo( /ipv4/192.9.139.126:9100, 5EWaLbtsdSRc5pVkbsf8Gf4LA2a1WvshciYpqjcfA5QrdpP9, 5HiyCfKGduJg5GRA9YE9sH6e9pipNScFMAHCGYb97BxciQDs, 660 ), AxonInfo( /ipv4/69.30.85.17:9101, 5Ew4u6enCAWe1vnv2eU8oT3QtMPVvfnoqzvQh3GeAaMwsLiG, 5HiyCfKGduJg5GRA9YE9sH6e9pipNScFMAHCGYb97BxciQDs, 660 ), AxonInfo( /ipv4/69.30.85.17:9600, 5EyKa2mEqw6xfUtVa9sT8gJp2975Gc5Y4zMFzaFMcoX5uYLo, 5HiyCfKGduJg5GRA9YE9sH6e9pipNScFMAHCGYb97BxciQDs, 660 ), AxonInfo( /ipv4/104.171.202.244:8091, 5GvYD2cyb8UKGm41AYuErbya66QsMmHizsB2GexHH6XyeTNq, 5D9kGC6fWERpXnwTB8tqmDgYxQvyf2UXqv13hK3qUZFQvAjh, 650 ), AxonInfo( /ipv4/198.16.234.0:9100, 5E7kEjThgDZebbBpRpcJGU8Jdaosc5qy2W4TJu4bGsiLEKmX, 5HiyCfKGduJg5GRA9YE9sH6e9pipNScFMAHCGYb97BxciQDs, 660 ), AxonInfo( /ipv4/69.30.85.17:9800, 5EhpAAXZvMP1FyaedwvQ94JvqKLTzvW6U8Ch4R7YvS4X7JJF, 5HiyCfKGduJg5GRA9YE9sH6e9pipNScFMAHCGYb97BxciQDs, 660 ), AxonInfo( /ipv4/69.30.85.17:9700, 5FvoGzwJf6YDAwf62Hz6AU1itMXsp6YYd4hpagTdSuDjTwPn, 5HiyCfKGduJg5GRA9YE9sH6e9pipNScFMAHCGYb97BxciQDs, 660 ), AxonInfo( /ipv4/69.30.85.17:9900, 5FJ9vwq5zNDSs3MRobZaYHfniVtCwrSRoB23WMB7Sh1fnLSB, 5HiyCfKGduJg5GRA9YE9sH6e9pipNScFMAHCGYb97BxciQDs, 660 ), AxonInfo( /ipv4/100.38.79.176:8091, 5DfBk4fo4g4KpnurrV8We3nqvobemoR3293jfxpxw6kUppHm, 5GCUPqE6Kd6NYsqTzvPbTbhsBiGsHgt7gbV4FqZwfuVitJ2K, 661 ), AxonInfo( /ipv4/3.89.36.67:8091, 5Eq14XJSnooQEwQeBQxETJ3sgJD3KfXBQD7VUhzP3MCmH1x5, 5DFLvMV2gxEB41ZHKdHqGz1xBtaSPFicsPFcxT2L8YyKd4V7, 660 ), AxonInfo( /ipv4/204.12.201.58:6485, 5DvuSUDqR1UUsun9ZkQe67SYcqyTy1VxJiiu7v2YFWtKZ7yt, 5CcE5Lm62GG2241MR29EtFKeojfosVVdyQzGQZN3Q9cfVmN1, 660 ), AxonInfo( /ipv4/204.12.201.58:6487, 5ExvvGortR82msWECGpC1awYrepJFEHg3NLBTbFywPwc95Vz, 5CcE5Lm62GG2241MR29EtFKeojfosVVdyQzGQZN3Q9cfVmN1, 660 ), AxonInfo( /ipv4/3.89.36.67:8092, 5HVxEmN87qFjTFtekWzrTaXx6BYfE49hubcgEqq6U2iZ3Eba, 5DFLvMV2gxEB41ZHKdHqGz1xBtaSPFicsPFcxT2L8YyKd4V7, 660 ), AxonInfo( /ipv4/3.89.36.67:8093, 5HaftpEppTVcsLhEQbt4ZYrRYsV7ePQ2jiMgZnFLeVx37UsB, 5DFLvMV2gxEB41ZHKdHqGz1xBtaSPFicsPFcxT2L8YyKd4V7, 660 ), AxonInfo( /ipv4/23.16.27.129:3303, 5EncH6qELTNnYJcyDk5wx8SrWoq82YNx1rc7MB3haVAZd9kw, 5DJWRbigpM4qifs2o1pfuuGowvRXDRznVJ2QbScvLzeWjCL6, 660 ), AxonInfo( /ipv4/207.216.69.8:8091, 5FHyXWRJ9FnQfChDdQT6B8zbeUoeEUcSAv9udy2AhTuDhXZB, 5G7NGi3eHR1rG7nWTLiGuhHzfB1Rexq7ynpx9Czn5f2LFNWR, 661 ), AxonInfo( /ipv0/0.0.0.0:0, 5FC4zTUMt9f9cyZ3MWrkGiQrhczQXyWaR2drZVje9oXWvW6u, 5G7NGi3eHR1rG7nWTLiGuhHzfB1Rexq7ynpx9Czn5f2LFNWR, 0 )]\n",
      "axon:  AxonInfo( /ipv4/207.216.69.8:8091, 5FHyXWRJ9FnQfChDdQT6B8zbeUoeEUcSAv9udy2AhTuDhXZB, 5G7NGi3eHR1rG7nWTLiGuhHzfB1Rexq7ynpx9Czn5f2LFNWR, 661 )\n",
      "dendrite:  dendrite(5FC4zTUMt9f9cyZ3MWrkGiQrhczQXyWaR2drZVje9oXWvW6u)\n",
      "Synapse: required_hash_fields=['messages'] roles=['user'] messages=['hello this is a test of a streaming response. Lorem ipsum dolor sit amet, consectetur adipiscing elit, sed do eiusmod tempor incididunt ut labore et dolore magna aliqua.'] completion=''\n",
      "Synapse type: StreamPromptingSynapse\n",
      "Responses: [<async_generator object dendrite.call_stream at 0x1690e2670>]\n"
     ]
    }
   ],
   "source": [
    "uid = 35\n",
    "wallet_name = \"testnet\" \n",
    "hotkey = \"validator\"\n",
    "network = \"test\"\n",
    "netuid = 61 \n",
    "\n",
    "# result = asyncio.run(cl.query_synapse(my_uid, wallet_name, hotkey, network, netuid))\n",
    "response = asyncio.run(cl.query_miner(uid = uid, wallet_name = wallet_name, hotkey=hotkey, network=network, netuid=netuid))"
   ]
  },
  {
   "cell_type": "code",
   "execution_count": 16,
   "metadata": {},
   "outputs": [
    {
     "name": "stdout",
     "output_type": "stream",
     "text": [
      "full_response for uid 35: \n"
     ]
    }
   ],
   "source": [
    "full_response = \"\"\n",
    "\n",
    "for resp in response:\n",
    "    async for chunk in resp:\n",
    "        print('chunk: ', chunk)\n",
    "        if isinstance(chunk, str):\n",
    "            # print(chunk)\n",
    "            full_response += chunk\n",
    "    print(f\"full_response for uid {uid}: {full_response}\")"
   ]
  },
  {
   "cell_type": "code",
   "execution_count": 17,
   "metadata": {},
   "outputs": [
    {
     "data": {
      "text/plain": [
       "([<async_generator object dendrite.call_stream at 0x1690e2670>], list)"
      ]
     },
     "execution_count": 17,
     "metadata": {},
     "output_type": "execute_result"
    }
   ],
   "source": [
    "response, type(response)"
   ]
  },
  {
   "cell_type": "code",
   "execution_count": 2,
   "metadata": {},
   "outputs": [],
   "source": [
    "uid = 35\n",
    "wallet_name = \"testnet\" \n",
    "hotkey = \"validator\"\n",
    "network = \"test\"\n",
    "netuid = 61 \n",
    "\n",
    "synapse_protocol = PromptingSynapse\n",
    "\n",
    "syn, dendrite, metagraph = cl.setup(\n",
    "    synapse_protocol, wallet_name, hotkey, network, netuid, uid\n",
    ")\n",
    "\n",
    "response = cl.query_miner(syn, dendrite, metagraph, uid)"
   ]
  },
  {
   "cell_type": "code",
   "execution_count": 6,
   "metadata": {},
   "outputs": [],
   "source": [
    "from functools import partial "
   ]
  },
  {
   "cell_type": "code",
   "execution_count": 7,
   "metadata": {},
   "outputs": [],
   "source": [
    "fn = partial(sample, 1)"
   ]
  },
  {
   "cell_type": "code",
   "execution_count": 8,
   "metadata": {},
   "outputs": [
    {
     "data": {
      "text/plain": [
       "3"
      ]
     },
     "execution_count": 8,
     "metadata": {},
     "output_type": "execute_result"
    }
   ],
   "source": [
    "fn(2)\n"
   ]
  },
  {
   "cell_type": "code",
   "execution_count": null,
   "metadata": {},
   "outputs": [],
   "source": []
  }
 ],
 "metadata": {
  "kernelspec": {
   "display_name": "prompting",
   "language": "python",
   "name": "python3"
  },
  "language_info": {
   "codemirror_mode": {
    "name": "ipython",
    "version": 3
   },
   "file_extension": ".py",
   "mimetype": "text/x-python",
   "name": "python",
   "nbconvert_exporter": "python",
   "pygments_lexer": "ipython3",
   "version": "3.9.18"
  }
 },
 "nbformat": 4,
 "nbformat_minor": 2
}
