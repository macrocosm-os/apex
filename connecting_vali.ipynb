{
 "cells": [
  {
   "cell_type": "code",
   "execution_count": 2,
   "metadata": {},
   "outputs": [
    {
     "name": "stdout",
     "output_type": "stream",
     "text": [
      "Hotkey 5Fk35HgrTqqUffK7WN8FG4euZ8MpKx35mUYz9kgwj3UDnNHr is registered. UID: 0\n"
     ]
    }
   ],
   "source": [
    "# https://docs.bittensor.com/subnets/register-validate-mine#check-the-permit-status\n",
    "import bittensor as bt\n",
    "import asyncio\n",
    "\n",
    "# NET_UID = 61\n",
    "NET_UID = 170\n",
    "NETWORK = \"test\"\n",
    "WALLET = \"validator\"\n",
    "wallet = bt.wallet(name=WALLET)\n",
    "subtensor = bt.subtensor(network=NETWORK)\n",
    "subnet = subtensor.metagraph(netuid=NET_UID)\n",
    "\n",
    "hotkey = wallet.hotkey.ss58_address\n",
    "my_uid = subnet.hotkeys.index(wallet.hotkey.ss58_address)\n",
    "sub = bt.subtensor(NETWORK)\n",
    "mg = sub.metagraph(NET_UID)\n",
    "if hotkey not in mg.hotkeys:\n",
    "    print(f\"Hotkey {hotkey} deregistered\")\n",
    "else:\n",
    "    print(f\"Hotkey {hotkey} is registered. UID: {my_uid}\")\n",
    "active_uids = subnet.uids.tolist()\n",
    "print(f\"Active UIDs (total: {len(active_uids)}): {active_uids}\")\n",
    "print(f\"My hotkey is active: {my_uid in active_uids}\")\n",
    "print(f\"Is val permit: {subnet.validator_permit[my_uid]}\")\n",
    "print(f\"1000+ TAO:\")"
   ]
  },
  {
   "cell_type": "code",
   "execution_count": 11,
   "metadata": {},
   "outputs": [
    {
     "name": "stderr",
     "output_type": "stream",
     "text": [
      "Special tokens have been added in the vocabulary, make sure the associated word embeddings are fine-tuned or trained.\n",
      "INFO:bittensor: - Response:\n",
      " [SynapseStreamResult(exception=None, uid=0, accumulated_chunks=['The capital of Zimbabwe is Harare.'], accumulated_chunks_timings=[6.252922296524048], tokens_per_chunk=[8], synapse=StreamPromptingSynapse(required_hash_fields=['messages'], roles=['user'], messages=['Organic prompt query. Question: Capital of Zimbabwe?'], completion='The capital of Zimbabwe is Harare.'))] - \n"
     ]
    }
   ],
   "source": [
    "# Sample validators.\n",
    "# TODO: Stress test: how many queries\n",
    "from prompting.protocol import StreamPromptingSynapse\n",
    "from prompting.forward import handle_response\n",
    "from transformers import AutoTokenizer\n",
    "\n",
    "uids = [my_uid]\n",
    "axons = [subnet.axons[uid] for uid in uids]\n",
    "\n",
    "# Directly call dendrite and process responses in parallel\n",
    "dendrite = bt.dendrite(wallet=wallet)\n",
    "roles = [\"user\"]\n",
    "messages = [\"Organic prompt query. Question: Capital of Zimbabwe?\"]\n",
    "timeout = 40\n",
    "model_name = \"casperhansen/llama-3-8b-instruct-awq\"\n",
    "tokenizer = AutoTokenizer.from_pretrained(model_name)\n",
    "\n",
    "streams_responses = await dendrite(\n",
    "    axons=axons,\n",
    "    synapse=StreamPromptingSynapse(roles=roles, messages=messages),\n",
    "    timeout=timeout,\n",
    "    deserialize=False,\n",
    "    streaming=True,\n",
    ")\n",
    "\n",
    "stream_results_dict = dict(zip(uids, streams_responses))\n",
    "handle_stream_responses_task = asyncio.create_task(handle_response(stream_results_dict, tokenizer))\n",
    "stream_results = await handle_stream_responses_task\n",
    "\n",
    "bt.logging.info(f\"Response:\\n {stream_results[0].synapse.completion}\")"
   ]
  },
  {
   "cell_type": "code",
   "execution_count": 21,
   "metadata": {},
   "outputs": [
    {
     "name": "stderr",
     "output_type": "stream",
     "text": [
      "Special tokens have been added in the vocabulary, make sure the associated word embeddings are fine-tuned or trained.\n"
     ]
    },
    {
     "name": "stdout",
     "output_type": "stream",
     "text": [
      "User: Hey my name is John, and I live in Zimbabwe\n",
      "Assistant Hello, John! It's nice to meet you. How can I assist you today?\n"
     ]
    }
   ],
   "source": [
    "# TODO: Stress test: how many queries\n",
    "from prompting.protocol import StreamPromptingSynapse\n",
    "from prompting.forward import handle_response\n",
    "from transformers import AutoTokenizer\n",
    "\n",
    "uids = [my_uid]\n",
    "axons = [subnet.axons[uid] for uid in uids]\n",
    "\n",
    "# Directly call dendrite and process responses in parallel\n",
    "dendrite = bt.dendrite(wallet=wallet)\n",
    "roles = []\n",
    "messages = []\n",
    "timeout = 40\n",
    "model_name = \"casperhansen/llama-3-8b-instruct-awq\"\n",
    "tokenizer = AutoTokenizer.from_pretrained(model_name)\n",
    "while True:\n",
    "    message = input()\n",
    "    if message == \"exit\":\n",
    "        break\n",
    "    roles.append(\"user\")\n",
    "    messages.append(message)\n",
    "    streams_responses = await dendrite(\n",
    "        axons=axons,\n",
    "        synapse=StreamPromptingSynapse(roles=roles, messages=messages),\n",
    "        timeout=timeout,\n",
    "        deserialize=False,\n",
    "        streaming=True,\n",
    "    )\n",
    "    stream_results_dict = dict(zip(uids, streams_responses))\n",
    "    handle_stream_responses_task = asyncio.create_task(handle_response(stream_results_dict, tokenizer))\n",
    "    stream_results = await handle_stream_responses_task\n",
    "    response = stream_results[0].synapse.completion\n",
    "\n",
    "    print(f\"User: {message}\")\n",
    "    print(f\"Assistant {response}\")\n",
    "\n",
    "    messages.append(response)\n",
    "    roles.append(\"assistant\")"
   ]
  },
  {
   "cell_type": "code",
   "execution_count": 13,
   "metadata": {},
   "outputs": [
    {
     "data": {
      "text/plain": [
       "'The capital of Zimbabwe is Harare.'"
      ]
     },
     "execution_count": 13,
     "metadata": {},
     "output_type": "execute_result"
    }
   ],
   "source": [
    "stream_results[0].synapse.completion"
   ]
  },
  {
   "cell_type": "code",
   "execution_count": 53,
   "metadata": {},
   "outputs": [
    {
     "data": {
      "text/plain": [
       "[SynapseStreamResult(exception=UnboundLocalError(\"local variable 'chunk' referenced before assignment\"), uid=166, accumulated_chunks=[], accumulated_chunks_timings=[], tokens_per_chunk=[], synapse=StreamPromptingSynapse(required_hash_fields=['messages'], roles=['user'], messages=['failure'], completion=''))]"
      ]
     },
     "execution_count": 53,
     "metadata": {},
     "output_type": "execute_result"
    }
   ],
   "source": [
    "stream_results"
   ]
  },
  {
   "cell_type": "code",
   "execution_count": 44,
   "metadata": {},
   "outputs": [
    {
     "data": {
      "text/plain": [
       "DendriteResponseEvent(uids=[166], completions=[''], timings=[0], status_messages=['Service at 194.68.245.74:8091/StreamPromptingSynapse unavailable.'], status_codes=[503])"
      ]
     },
     "execution_count": 44,
     "metadata": {},
     "output_type": "execute_result"
    }
   ],
   "source": [
    "response_event"
   ]
  },
  {
   "cell_type": "code",
   "execution_count": 35,
   "metadata": {},
   "outputs": [
    {
     "data": {
      "text/plain": [
       "[<async_generator object DendriteMixin.call_stream at 0x7f2dc3d30fc0>]"
      ]
     },
     "execution_count": 35,
     "metadata": {},
     "output_type": "execute_result"
    }
   ],
   "source": [
    "streams_responses"
   ]
  }
 ],
 "metadata": {
  "kernelspec": {
   "display_name": "venv",
   "language": "python",
   "name": "python3"
  },
  "language_info": {
   "codemirror_mode": {
    "name": "ipython",
    "version": 3
   },
   "file_extension": ".py",
   "mimetype": "text/x-python",
   "name": "python",
   "nbconvert_exporter": "python",
   "pygments_lexer": "ipython3",
   "version": "3.10.12"
  }
 },
 "nbformat": 4,
 "nbformat_minor": 2
}
