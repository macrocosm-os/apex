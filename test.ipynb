{
 "cells": [
  {
   "cell_type": "code",
   "execution_count": 1,
   "metadata": {},
   "outputs": [],
   "source": [
    "import wandb \n",
    "import pandas as pd "
   ]
  },
  {
   "cell_type": "code",
   "execution_count": 4,
   "metadata": {},
   "outputs": [
    {
     "name": "stderr",
     "output_type": "stream",
     "text": [
      "\u001b[34m\u001b[1mwandb\u001b[0m: \u001b[33mWARNING\u001b[0m Calling wandb.login() after wandb.init() has no effect.\n"
     ]
    },
    {
     "data": {
      "text/html": [
       "Finishing last run (ID:7hgjs21z) before initializing another..."
      ],
      "text/plain": [
       "<IPython.core.display.HTML object>"
      ]
     },
     "metadata": {},
     "output_type": "display_data"
    },
    {
     "data": {
      "text/html": [
       " View run <strong style=\"color:#cdcd00\">iconic-sun-1</strong> at: <a href='https://wandb.ai/dbobrenko-mc/prompting/runs/7hgjs21z' target=\"_blank\">https://wandb.ai/dbobrenko-mc/prompting/runs/7hgjs21z</a><br/> View project at: <a href='https://wandb.ai/dbobrenko-mc/prompting' target=\"_blank\">https://wandb.ai/dbobrenko-mc/prompting</a><br/>Synced 5 W&B file(s), 0 media file(s), 0 artifact file(s) and 0 other file(s)"
      ],
      "text/plain": [
       "<IPython.core.display.HTML object>"
      ]
     },
     "metadata": {},
     "output_type": "display_data"
    },
    {
     "data": {
      "text/html": [
       "Find logs at: <code>./wandb/run-20240808_062404-7hgjs21z/logs</code>"
      ],
      "text/plain": [
       "<IPython.core.display.HTML object>"
      ]
     },
     "metadata": {},
     "output_type": "display_data"
    },
    {
     "data": {
      "text/html": [
       "The new W&B backend becomes opt-out in version 0.18.0; try it out with `wandb.require(\"core\")`! See https://wandb.me/wandb-core for more information."
      ],
      "text/plain": [
       "<IPython.core.display.HTML object>"
      ]
     },
     "metadata": {},
     "output_type": "display_data"
    },
    {
     "data": {
      "text/html": [
       "Successfully finished last run (ID:7hgjs21z). Initializing new run:<br/>"
      ],
      "text/plain": [
       "<IPython.core.display.HTML object>"
      ]
     },
     "metadata": {},
     "output_type": "display_data"
    },
    {
     "data": {
      "text/html": [
       "wandb version 0.17.6 is available!  To upgrade, please run:\n",
       " $ pip install wandb --upgrade"
      ],
      "text/plain": [
       "<IPython.core.display.HTML object>"
      ]
     },
     "metadata": {},
     "output_type": "display_data"
    },
    {
     "data": {
      "text/html": [
       "Tracking run with wandb version 0.17.5"
      ],
      "text/plain": [
       "<IPython.core.display.HTML object>"
      ]
     },
     "metadata": {},
     "output_type": "display_data"
    },
    {
     "data": {
      "text/html": [
       "Run data is saved locally in <code>/workspace/prompting/wandb/run-20240808_062428-uiq0iuqc</code>"
      ],
      "text/plain": [
       "<IPython.core.display.HTML object>"
      ]
     },
     "metadata": {},
     "output_type": "display_data"
    },
    {
     "data": {
      "text/html": [
       "Syncing run <strong><a href='https://wandb.ai/macrocosmos/prompting-validators/runs/uiq0iuqc' target=\"_blank\">gallant-music-447</a></strong> to <a href='https://wandb.ai/macrocosmos/prompting-validators' target=\"_blank\">Weights & Biases</a> (<a href='https://wandb.me/run' target=\"_blank\">docs</a>)<br/>"
      ],
      "text/plain": [
       "<IPython.core.display.HTML object>"
      ]
     },
     "metadata": {},
     "output_type": "display_data"
    },
    {
     "data": {
      "text/html": [
       " View project at <a href='https://wandb.ai/macrocosmos/prompting-validators' target=\"_blank\">https://wandb.ai/macrocosmos/prompting-validators</a>"
      ],
      "text/plain": [
       "<IPython.core.display.HTML object>"
      ]
     },
     "metadata": {},
     "output_type": "display_data"
    },
    {
     "data": {
      "text/html": [
       " View run at <a href='https://wandb.ai/macrocosmos/prompting-validators/runs/uiq0iuqc' target=\"_blank\">https://wandb.ai/macrocosmos/prompting-validators/runs/uiq0iuqc</a>"
      ],
      "text/plain": [
       "<IPython.core.display.HTML object>"
      ]
     },
     "metadata": {},
     "output_type": "display_data"
    },
    {
     "data": {
      "text/html": [
       "<button onClick=\"this.nextSibling.style.display='block';this.style.display='none';\">Display W&B run</button><iframe src='https://wandb.ai/macrocosmos/prompting-validators/runs/uiq0iuqc?jupyter=true' style='border:none;width:100%;height:420px;display:none;'></iframe>"
      ],
      "text/plain": [
       "<wandb.sdk.wandb_run.Run at 0x77b7ceb94430>"
      ]
     },
     "execution_count": 4,
     "metadata": {},
     "output_type": "execute_result"
    }
   ],
   "source": [
    "wandb.login()\n",
    "wandb.init(\n",
    "    project=\"prompting-validators\",\n",
    "    entity=\"macrocosmos\",\n",
    ")"
   ]
  },
  {
   "cell_type": "code",
   "execution_count": 51,
   "metadata": {},
   "outputs": [
    {
     "ename": "KeyError",
     "evalue": "['is_organic_sample']",
     "output_type": "error",
     "traceback": [
      "\u001b[0;31m---------------------------------------------------------------------------\u001b[0m",
      "\u001b[0;31mKeyError\u001b[0m                                  Traceback (most recent call last)",
      "\u001b[0;32m/tmp/ipykernel_529002/1447874609.py\u001b[0m in \u001b[0;36m?\u001b[0;34m()\u001b[0m\n\u001b[1;32m      6\u001b[0m \u001b[0mrun\u001b[0m \u001b[0;34m=\u001b[0m \u001b[0mapi\u001b[0m\u001b[0;34m.\u001b[0m\u001b[0mrun\u001b[0m\u001b[0;34m(\u001b[0m\u001b[0;34mf\"{entity}/{project}/{run_id}\"\u001b[0m\u001b[0;34m)\u001b[0m\u001b[0;34m\u001b[0m\u001b[0;34m\u001b[0m\u001b[0m\n\u001b[1;32m      7\u001b[0m \u001b[0mhistory\u001b[0m \u001b[0;34m=\u001b[0m \u001b[0mrun\u001b[0m\u001b[0;34m.\u001b[0m\u001b[0mhistory\u001b[0m\u001b[0;34m(\u001b[0m\u001b[0;34m)\u001b[0m\u001b[0;34m\u001b[0m\u001b[0;34m\u001b[0m\u001b[0m\n\u001b[1;32m      8\u001b[0m \u001b[0mwb_df\u001b[0m \u001b[0;34m=\u001b[0m \u001b[0mpd\u001b[0m\u001b[0;34m.\u001b[0m\u001b[0mDataFrame\u001b[0m\u001b[0;34m(\u001b[0m\u001b[0mhistory\u001b[0m\u001b[0;34m)\u001b[0m\u001b[0;34m\u001b[0m\u001b[0;34m\u001b[0m\u001b[0m\n\u001b[1;32m      9\u001b[0m \u001b[0;31m# Filter the DataFrame to keep rows where 'is_organic' is not NaN\u001b[0m\u001b[0;34m\u001b[0m\u001b[0;34m\u001b[0m\u001b[0m\n\u001b[0;32m---> 10\u001b[0;31m \u001b[0mfiltered_df\u001b[0m \u001b[0;34m=\u001b[0m \u001b[0mwb_df\u001b[0m\u001b[0;34m.\u001b[0m\u001b[0mdropna\u001b[0m\u001b[0;34m(\u001b[0m\u001b[0msubset\u001b[0m\u001b[0;34m=\u001b[0m\u001b[0;34m[\u001b[0m\u001b[0;34m\"is_organic_sample\"\u001b[0m\u001b[0;34m]\u001b[0m\u001b[0;34m)\u001b[0m\u001b[0;34m\u001b[0m\u001b[0;34m\u001b[0m\u001b[0m\n\u001b[0m\u001b[1;32m     11\u001b[0m \u001b[0mfiltered_df\u001b[0m\u001b[0;34m[\u001b[0m\u001b[0;34m\"is_organic_sample\"\u001b[0m\u001b[0;34m]\u001b[0m\u001b[0;34m.\u001b[0m\u001b[0mvalue_counts\u001b[0m\u001b[0;34m(\u001b[0m\u001b[0;34m)\u001b[0m\u001b[0;34m\u001b[0m\u001b[0;34m\u001b[0m\u001b[0m\n",
      "\u001b[0;32m/workspace/prompting/.venv/lib/python3.10/site-packages/pandas/core/frame.py\u001b[0m in \u001b[0;36m?\u001b[0;34m(self, axis, how, thresh, subset, inplace, ignore_index)\u001b[0m\n\u001b[1;32m   6653\u001b[0m             \u001b[0max\u001b[0m \u001b[0;34m=\u001b[0m \u001b[0mself\u001b[0m\u001b[0;34m.\u001b[0m\u001b[0m_get_axis\u001b[0m\u001b[0;34m(\u001b[0m\u001b[0magg_axis\u001b[0m\u001b[0;34m)\u001b[0m\u001b[0;34m\u001b[0m\u001b[0;34m\u001b[0m\u001b[0m\n\u001b[1;32m   6654\u001b[0m             \u001b[0mindices\u001b[0m \u001b[0;34m=\u001b[0m \u001b[0max\u001b[0m\u001b[0;34m.\u001b[0m\u001b[0mget_indexer_for\u001b[0m\u001b[0;34m(\u001b[0m\u001b[0msubset\u001b[0m\u001b[0;34m)\u001b[0m\u001b[0;34m\u001b[0m\u001b[0;34m\u001b[0m\u001b[0m\n\u001b[1;32m   6655\u001b[0m             \u001b[0mcheck\u001b[0m \u001b[0;34m=\u001b[0m \u001b[0mindices\u001b[0m \u001b[0;34m==\u001b[0m \u001b[0;34m-\u001b[0m\u001b[0;36m1\u001b[0m\u001b[0;34m\u001b[0m\u001b[0;34m\u001b[0m\u001b[0m\n\u001b[1;32m   6656\u001b[0m             \u001b[0;32mif\u001b[0m \u001b[0mcheck\u001b[0m\u001b[0;34m.\u001b[0m\u001b[0many\u001b[0m\u001b[0;34m(\u001b[0m\u001b[0;34m)\u001b[0m\u001b[0;34m:\u001b[0m\u001b[0;34m\u001b[0m\u001b[0;34m\u001b[0m\u001b[0m\n\u001b[0;32m-> 6657\u001b[0;31m                 \u001b[0;32mraise\u001b[0m \u001b[0mKeyError\u001b[0m\u001b[0;34m(\u001b[0m\u001b[0mnp\u001b[0m\u001b[0;34m.\u001b[0m\u001b[0marray\u001b[0m\u001b[0;34m(\u001b[0m\u001b[0msubset\u001b[0m\u001b[0;34m)\u001b[0m\u001b[0;34m[\u001b[0m\u001b[0mcheck\u001b[0m\u001b[0;34m]\u001b[0m\u001b[0;34m.\u001b[0m\u001b[0mtolist\u001b[0m\u001b[0;34m(\u001b[0m\u001b[0;34m)\u001b[0m\u001b[0;34m)\u001b[0m\u001b[0;34m\u001b[0m\u001b[0;34m\u001b[0m\u001b[0m\n\u001b[0m\u001b[1;32m   6658\u001b[0m             \u001b[0magg_obj\u001b[0m \u001b[0;34m=\u001b[0m \u001b[0mself\u001b[0m\u001b[0;34m.\u001b[0m\u001b[0mtake\u001b[0m\u001b[0;34m(\u001b[0m\u001b[0mindices\u001b[0m\u001b[0;34m,\u001b[0m \u001b[0maxis\u001b[0m\u001b[0;34m=\u001b[0m\u001b[0magg_axis\u001b[0m\u001b[0;34m)\u001b[0m\u001b[0;34m\u001b[0m\u001b[0;34m\u001b[0m\u001b[0m\n\u001b[1;32m   6659\u001b[0m \u001b[0;34m\u001b[0m\u001b[0m\n\u001b[1;32m   6660\u001b[0m         \u001b[0;32mif\u001b[0m \u001b[0mthresh\u001b[0m \u001b[0;32mis\u001b[0m \u001b[0;32mnot\u001b[0m \u001b[0mlib\u001b[0m\u001b[0;34m.\u001b[0m\u001b[0mno_default\u001b[0m\u001b[0;34m:\u001b[0m\u001b[0;34m\u001b[0m\u001b[0;34m\u001b[0m\u001b[0m\n",
      "\u001b[0;31mKeyError\u001b[0m: ['is_organic_sample']"
     ]
    }
   ],
   "source": [
    "wandb.login()\n",
    "entity = \"macrocosmos\"\n",
    "project = \"prompting-validators\"\n",
    "run_id = \"lnpiqdt4\"\n",
    "api = wandb.Api()\n",
    "run = api.run(f\"{entity}/{project}/{run_id}\")\n",
    "history = run.history()\n",
    "wb_df = pd.DataFrame(history)\n",
    "# Filter the DataFrame to keep rows where 'is_organic' is not NaN\n",
    "filtered_df = wb_df.dropna(subset=[\"is_organic_sample\"])\n",
    "filtered_df[\"is_organic_sample\"].value_counts()"
   ]
  },
  {
   "cell_type": "code",
   "execution_count": 36,
   "metadata": {},
   "outputs": [
    {
     "name": "stdout",
     "output_type": "stream",
     "text": [
      "Number of runs: 0\n"
     ]
    },
    {
     "data": {
      "text/plain": [
       "[]"
      ]
     },
     "execution_count": 36,
     "metadata": {},
     "output_type": "execute_result"
    }
   ],
   "source": [
    "def fetch_data_from_runs(project_name, netuid, required_tag=\"2.6.2\"):\n",
    "    dataframes = []\n",
    "    runs = wandb.Api(timeout=120).runs(f\"{project_name}\")\n",
    "\n",
    "    # Filter runs based on 'netuid', 'state', and 'tag'\n",
    "    filtered_runs = [\n",
    "        run for run in runs\n",
    "        if run.config.get('netuid') == netuid\n",
    "        and run.state == 'running'\n",
    "        and required_tag in run.tags\n",
    "    ]\n",
    "\n",
    "    print(f\"Number of runs: {len(filtered_runs)}\")\n",
    "\n",
    "    for run in filtered_runs:\n",
    "        run_id = run.id\n",
    "        print(run_id)\n",
    "        try:\n",
    "            run_data = run.history()\n",
    "            df = pd.DataFrame(run_data)\n",
    "            df = df[['uids', 'status_messages', '_timestamp', 'completions', 'rewards', 'reference', 'task', 'challenge', 'turn', 'step', 'is_organic_sample']]\n",
    "            df['run_id'] = run_id\n",
    "            print(df.is_organic_sample.value_counts())\n",
    "        except Exception as e:\n",
    "            print(f\"Error: {e}\")\n",
    "            continue\n",
    "        dataframes.append(df)\n",
    "    return dataframes\n",
    "\n",
    "fetch_data_from_runs(project_name=\"macrocosmos/prompting-validators\", netuid=\"1\")"
   ]
  },
  {
   "cell_type": "code",
   "execution_count": 50,
   "metadata": {},
   "outputs": [
    {
     "name": "stdout",
     "output_type": "stream",
     "text": [
      "Number of filtered runs: 6\n",
      "lnpiqdt4\n",
      "cua9tfhk\n",
      "906fzg99\n",
      "y4x1bp6w\n",
      "bcjllbpr\n",
      "v8uhfy9i\n",
      "lnpiqdt4\n",
      "Index(['rouge_penalty_batch_time', 'rouge_reward_batch_time', 'challenge',\n",
      "       'reference', 'step', 'stream_results_exceptions', 'timings',\n",
      "       'system_prompt', '_step', 'completions', 'relevance_raw_reward',\n",
      "       'streaming_raw_penalty', 'streaming_penalty', 'relevance_reward',\n",
      "       'rouge_reward_extra_info.avg', 'rouge_penalty_extra_info.avg',\n",
      "       'rouge_penalty_timings', 'profile', 'status_messages', 'rewards',\n",
      "       'stream_results_all_chunks_timings', 'rouge_reward',\n",
      "       'streaming_penalty_timings', 'stream_results_all_chunks',\n",
      "       'stream_results_all_tokens_per_chunk', 'uids', 'stream_results_uids',\n",
      "       'context_time', 'rouge_raw_penalty', 'rouge_penalty', 'desc',\n",
      "       'status_codes', 'relevance_reward_timings', 'rouge_reward_timings',\n",
      "       'rouge_raw_reward', 'relevance_reward_extra_info.threshold',\n",
      "       'rouge_penalty_extra_info.metric', 'turn',\n",
      "       'rouge_penalty_extra_info.ngram', '_runtime', 'mood',\n",
      "       'rouge_reward_extra_info.ngram', 'query', 'best',\n",
      "       'streaming_penalty_batch_time', 'forward_time', 'query_time', 'task',\n",
      "       'goal', 'rouge_reward_extra_info.metric', 'relevance_reward_batch_time',\n",
      "       'reference_time', 'streaming_penalty_extra_info.type', 'challenge_time',\n",
      "       'step_time', 'subtopic', 'topic', '_timestamp', 'tone', 'block',\n",
      "       'float_diff_reward_batch_time', 'float_diff_reward_timings',\n",
      "       'float_diff_raw_reward', 'float_diff_reward',\n",
      "       'float_diff_reward_extra_info.type', 'ordinal_reward_timings',\n",
      "       'ordinal_reward', 'ordinal_raw_reward', 'ordinal_reward_batch_time',\n",
      "       'ordinal_reward_extra_info.type', 'date_reward_extra_info.type',\n",
      "       'date_reward', 'date_raw_reward', 'date_reward_timings',\n",
      "       'date_reward_batch_time'],\n",
      "      dtype='object')\n",
      "KeyError: \"['is_organic_sample'] not in index\"\n",
      "cua9tfhk\n",
      "Index(['rouge_penalty_batch_time', 'rouge_reward_batch_time', 'challenge',\n",
      "       'reference', 'step', 'stream_results_exceptions', 'timings',\n",
      "       'system_prompt', '_step', 'completions', 'relevance_raw_reward',\n",
      "       'streaming_raw_penalty', 'streaming_penalty', 'relevance_reward',\n",
      "       'rouge_reward_extra_info.avg', 'rouge_penalty_extra_info.avg',\n",
      "       'rouge_penalty_timings', 'profile', 'status_messages', 'rewards',\n",
      "       'stream_results_all_chunks_timings', 'rouge_reward',\n",
      "       'streaming_penalty_timings', 'stream_results_all_chunks',\n",
      "       'stream_results_all_tokens_per_chunk', 'uids', 'stream_results_uids',\n",
      "       'context_time', 'rouge_raw_penalty', 'rouge_penalty', 'desc',\n",
      "       'status_codes', 'relevance_reward_timings', 'rouge_reward_timings',\n",
      "       'rouge_raw_reward', 'relevance_reward_extra_info.threshold',\n",
      "       'rouge_penalty_extra_info.metric', 'turn',\n",
      "       'rouge_penalty_extra_info.ngram', '_runtime', 'mood',\n",
      "       'rouge_reward_extra_info.ngram', 'query', 'best',\n",
      "       'streaming_penalty_batch_time', 'forward_time', 'query_time', 'task',\n",
      "       'goal', 'rouge_reward_extra_info.metric', 'relevance_reward_batch_time',\n",
      "       'reference_time', 'streaming_penalty_extra_info.type', 'challenge_time',\n",
      "       'step_time', 'subtopic', 'topic', '_timestamp', 'tone', 'block',\n",
      "       'float_diff_reward_batch_time', 'float_diff_reward_timings',\n",
      "       'float_diff_raw_reward', 'float_diff_reward',\n",
      "       'float_diff_reward_extra_info.type', 'ordinal_reward_timings',\n",
      "       'ordinal_reward', 'ordinal_raw_reward', 'ordinal_reward_batch_time',\n",
      "       'ordinal_reward_extra_info.type', 'date_reward_extra_info.type',\n",
      "       'date_reward', 'date_raw_reward', 'date_reward_timings',\n",
      "       'date_reward_batch_time'],\n",
      "      dtype='object')\n",
      "KeyError: \"['is_organic_sample'] not in index\"\n",
      "906fzg99\n",
      "Index(['rouge_penalty_batch_time', 'rouge_reward_batch_time', 'challenge',\n",
      "       'reference', 'step', 'stream_results_exceptions', 'timings',\n",
      "       'system_prompt', '_step', 'completions', 'relevance_raw_reward',\n",
      "       'streaming_raw_penalty', 'streaming_penalty', 'relevance_reward',\n",
      "       'rouge_reward_extra_info.avg', 'rouge_penalty_extra_info.avg',\n",
      "       'rouge_penalty_timings', 'profile', 'status_messages', 'rewards',\n",
      "       'stream_results_all_chunks_timings', 'rouge_reward',\n",
      "       'streaming_penalty_timings', 'stream_results_all_chunks',\n",
      "       'stream_results_all_tokens_per_chunk', 'uids', 'stream_results_uids',\n",
      "       'context_time', 'rouge_raw_penalty', 'rouge_penalty', 'desc',\n",
      "       'status_codes', 'relevance_reward_timings', 'rouge_reward_timings',\n",
      "       'rouge_raw_reward', 'relevance_reward_extra_info.threshold',\n",
      "       'rouge_penalty_extra_info.metric', 'turn',\n",
      "       'rouge_penalty_extra_info.ngram', '_runtime', 'mood',\n",
      "       'rouge_reward_extra_info.ngram', 'query', 'best',\n",
      "       'streaming_penalty_batch_time', 'forward_time', 'query_time', 'task',\n",
      "       'goal', 'rouge_reward_extra_info.metric', 'relevance_reward_batch_time',\n",
      "       'reference_time', 'streaming_penalty_extra_info.type', 'challenge_time',\n",
      "       'step_time', 'subtopic', 'topic', '_timestamp', 'tone', 'block',\n",
      "       'float_diff_reward_batch_time', 'float_diff_reward_timings',\n",
      "       'float_diff_raw_reward', 'float_diff_reward',\n",
      "       'float_diff_reward_extra_info.type', 'ordinal_reward_timings',\n",
      "       'ordinal_reward', 'ordinal_raw_reward', 'ordinal_reward_batch_time',\n",
      "       'ordinal_reward_extra_info.type', 'date_reward_extra_info.type',\n",
      "       'date_reward', 'date_raw_reward', 'date_reward_timings',\n",
      "       'date_reward_batch_time'],\n",
      "      dtype='object')\n",
      "KeyError: \"['is_organic_sample'] not in index\"\n",
      "y4x1bp6w\n",
      "Index(['rouge_penalty_batch_time', 'rouge_reward_batch_time', 'challenge',\n",
      "       'reference', 'step', 'stream_results_exceptions', 'timings',\n",
      "       'system_prompt', '_step', 'completions', 'relevance_raw_reward',\n",
      "       'streaming_raw_penalty', 'streaming_penalty', 'relevance_reward',\n",
      "       'rouge_reward_extra_info.avg', 'rouge_penalty_extra_info.avg',\n",
      "       'rouge_penalty_timings', 'profile', 'status_messages', 'rewards',\n",
      "       'stream_results_all_chunks_timings', 'rouge_reward',\n",
      "       'streaming_penalty_timings', 'stream_results_all_chunks',\n",
      "       'stream_results_all_tokens_per_chunk', 'uids', 'stream_results_uids',\n",
      "       'context_time', 'rouge_raw_penalty', 'rouge_penalty', 'desc',\n",
      "       'status_codes', 'relevance_reward_timings', 'rouge_reward_timings',\n",
      "       'rouge_raw_reward', 'relevance_reward_extra_info.threshold',\n",
      "       'rouge_penalty_extra_info.metric', 'turn',\n",
      "       'rouge_penalty_extra_info.ngram', '_runtime', 'mood',\n",
      "       'rouge_reward_extra_info.ngram', 'query', 'best',\n",
      "       'streaming_penalty_batch_time', 'forward_time', 'query_time', 'task',\n",
      "       'goal', 'rouge_reward_extra_info.metric', 'relevance_reward_batch_time',\n",
      "       'reference_time', 'streaming_penalty_extra_info.type', 'challenge_time',\n",
      "       'step_time', 'subtopic', 'topic', '_timestamp', 'tone', 'block',\n",
      "       'float_diff_reward_batch_time', 'float_diff_reward_timings',\n",
      "       'float_diff_raw_reward', 'float_diff_reward',\n",
      "       'float_diff_reward_extra_info.type', 'ordinal_reward_timings',\n",
      "       'ordinal_reward', 'ordinal_raw_reward', 'ordinal_reward_batch_time',\n",
      "       'ordinal_reward_extra_info.type', 'date_reward_extra_info.type',\n",
      "       'date_reward', 'date_raw_reward', 'date_reward_timings',\n",
      "       'date_reward_batch_time', 'unexpected_errors'],\n",
      "      dtype='object')\n",
      "KeyError: \"['is_organic_sample'] not in index\"\n",
      "bcjllbpr\n",
      "Index(['rouge_penalty_batch_time', 'rouge_reward_batch_time', 'challenge',\n",
      "       'reference', 'step', 'stream_results_exceptions', 'timings',\n",
      "       'system_prompt', '_step', 'completions', 'relevance_raw_reward',\n",
      "       'streaming_raw_penalty', 'streaming_penalty', 'relevance_reward',\n",
      "       'rouge_reward_extra_info.avg', 'rouge_penalty_extra_info.avg',\n",
      "       'rouge_penalty_timings', 'profile', 'status_messages', 'rewards',\n",
      "       'stream_results_all_chunks_timings', 'rouge_reward',\n",
      "       'streaming_penalty_timings', 'stream_results_all_chunks',\n",
      "       'stream_results_all_tokens_per_chunk', 'uids', 'stream_results_uids',\n",
      "       'context_time', 'rouge_raw_penalty', 'rouge_penalty', 'desc',\n",
      "       'status_codes', 'relevance_reward_timings', 'rouge_reward_timings',\n",
      "       'rouge_raw_reward', 'relevance_reward_extra_info.threshold',\n",
      "       'rouge_penalty_extra_info.metric', 'turn',\n",
      "       'rouge_penalty_extra_info.ngram', '_runtime', 'mood',\n",
      "       'rouge_reward_extra_info.ngram', 'query', 'best',\n",
      "       'streaming_penalty_batch_time', 'forward_time', 'query_time', 'task',\n",
      "       'goal', 'rouge_reward_extra_info.metric', 'relevance_reward_batch_time',\n",
      "       'reference_time', 'streaming_penalty_extra_info.type', 'challenge_time',\n",
      "       'step_time', 'subtopic', 'topic', '_timestamp', 'tone', 'block',\n",
      "       'float_diff_reward_batch_time', 'float_diff_reward_timings',\n",
      "       'float_diff_raw_reward', 'float_diff_reward',\n",
      "       'float_diff_reward_extra_info.type', 'ordinal_reward_timings',\n",
      "       'ordinal_reward', 'ordinal_raw_reward', 'ordinal_reward_batch_time',\n",
      "       'ordinal_reward_extra_info.type', 'date_reward_extra_info.type',\n",
      "       'date_reward', 'date_raw_reward', 'date_reward_timings',\n",
      "       'date_reward_batch_time'],\n",
      "      dtype='object')\n",
      "KeyError: \"['is_organic_sample'] not in index\"\n",
      "v8uhfy9i\n",
      "Index(['organic_time_total', 'rouge_reward_batch_time', 'step',\n",
      "       'organic_response_mean_chars', '_step', 'relevance_raw_reward',\n",
      "       'organic_queue_size', 'streaming_raw_penalty', 'streaming_penalty',\n",
      "       'relevance_reward', 'rouge_reward_extra_info.avg', 'is_organic_sample',\n",
      "       'relevance_penalty_extra_info.threshold', 'rewards', 'rouge_reward',\n",
      "       'streaming_penalty_timings', 'uids', 'relevance_penalty',\n",
      "       'relevance_penalty_timings', 'organic_time_rewards',\n",
      "       'relevance_reward_timings', 'rouge_reward_timings',\n",
      "       'relevance_raw_penalty', 'rouge_raw_reward',\n",
      "       'relevance_reward_extra_info.threshold', 'organic_time_sample', 'turn',\n",
      "       '_runtime', 'rouge_reward_extra_info.ngram', 'organic_reference_chars',\n",
      "       'streaming_penalty_batch_time', 'rouge_reward_extra_info.metric',\n",
      "       'relevance_reward_batch_time', 'streaming_penalty_extra_info.type',\n",
      "       'organic_response_std_chars', 'organic_time_weights',\n",
      "       'relevance_penalty_batch_time', '_timestamp', 'organic_time_responses',\n",
      "       'block', 'rouge_penalty_batch_time', 'challenge', 'reference',\n",
      "       'stream_results_exceptions', 'timings', 'system_prompt', 'completions',\n",
      "       'rouge_penalty_extra_info.avg', 'rouge_penalty_timings', 'profile',\n",
      "       'status_messages', 'stream_results_all_chunks_timings',\n",
      "       'stream_results_all_chunks', 'stream_results_all_tokens_per_chunk',\n",
      "       'stream_results_uids', 'context_time', 'rouge_raw_penalty',\n",
      "       'rouge_penalty', 'desc', 'status_codes',\n",
      "       'rouge_penalty_extra_info.metric', 'rouge_penalty_extra_info.ngram',\n",
      "       'mood', 'query', 'best', 'forward_time', 'query_time', 'task', 'goal',\n",
      "       'reference_time', 'challenge_time', 'step_time', 'subtopic', 'topic',\n",
      "       'tone', 'float_diff_reward_batch_time', 'float_diff_reward_timings',\n",
      "       'float_diff_raw_reward', 'float_diff_reward',\n",
      "       'float_diff_reward_extra_info.type', 'ordinal_reward_timings',\n",
      "       'ordinal_reward', 'ordinal_raw_reward', 'ordinal_reward_batch_time',\n",
      "       'ordinal_reward_extra_info.type', 'date_reward_extra_info.type',\n",
      "       'date_reward', 'date_raw_reward', 'date_reward_timings',\n",
      "       'date_reward_batch_time'],\n",
      "      dtype='object')\n"
     ]
    },
    {
     "ename": "NameError",
     "evalue": "name 'df_m' is not defined",
     "output_type": "error",
     "traceback": [
      "\u001b[0;31m---------------------------------------------------------------------------\u001b[0m",
      "\u001b[0;31mNameError\u001b[0m                                 Traceback (most recent call last)",
      "Cell \u001b[0;32mIn[50], line 79\u001b[0m\n\u001b[1;32m     76\u001b[0m required_tag \u001b[38;5;241m=\u001b[39m \u001b[38;5;124m\"\u001b[39m\u001b[38;5;124m2.6.2\u001b[39m\u001b[38;5;124m\"\u001b[39m\n\u001b[1;32m     78\u001b[0m \u001b[38;5;66;03m# Fetch data from runs with the specified tag and conditions\u001b[39;00m\n\u001b[0;32m---> 79\u001b[0m combined_data \u001b[38;5;241m=\u001b[39m \u001b[43mfetch_data_from_runs\u001b[49m\u001b[43m(\u001b[49m\u001b[43mproject_name\u001b[49m\u001b[43m)\u001b[49m\n\u001b[1;32m     81\u001b[0m \u001b[38;5;28;01mif\u001b[39;00m combined_data \u001b[38;5;129;01mis\u001b[39;00m \u001b[38;5;129;01mnot\u001b[39;00m \u001b[38;5;28;01mNone\u001b[39;00m:\n\u001b[1;32m     82\u001b[0m     \u001b[38;5;28mprint\u001b[39m(combined_data\u001b[38;5;241m.\u001b[39mhead())\n",
      "Cell \u001b[0;32mIn[50], line 50\u001b[0m, in \u001b[0;36mfetch_data_from_runs\u001b[0;34m(project_name, required_tags)\u001b[0m\n\u001b[1;32m     47\u001b[0m df \u001b[38;5;241m=\u001b[39m df\u001b[38;5;241m.\u001b[39mexplode(columns_to_pad)\n\u001b[1;32m     49\u001b[0m \u001b[38;5;66;03m# Filter DataFrame based on 'our_miners' (assuming df_m is defined with 'our_miners')\u001b[39;00m\n\u001b[0;32m---> 50\u001b[0m our_uids \u001b[38;5;241m=\u001b[39m \u001b[43mdf_m\u001b[49m[df_m[\u001b[38;5;124m'\u001b[39m\u001b[38;5;124mour_miners\u001b[39m\u001b[38;5;124m'\u001b[39m]][\u001b[38;5;124m'\u001b[39m\u001b[38;5;124muid\u001b[39m\u001b[38;5;124m'\u001b[39m]\u001b[38;5;241m.\u001b[39mtolist()\n\u001b[1;32m     51\u001b[0m \u001b[38;5;28;01mif\u001b[39;00m \u001b[38;5;28mlen\u001b[39m(our_uids) \u001b[38;5;241m>\u001b[39m\u001b[38;5;241m=\u001b[39m \u001b[38;5;241m50\u001b[39m:\n\u001b[1;32m     52\u001b[0m     selected_uids \u001b[38;5;241m=\u001b[39m our_uids[:\u001b[38;5;241m50\u001b[39m]\n",
      "\u001b[0;31mNameError\u001b[0m: name 'df_m' is not defined"
     ]
    }
   ],
   "source": [
    "###specific version of software\n",
    "from datetime import datetime, timedelta\n",
    "def fetch_data_from_runs(project_name, required_tags=[\"2.6.2\", \"netuid_1\"]):\n",
    "    dataframes = []\n",
    "    filters = {\n",
    "        \"tags\": {\"$all\": required_tags},\n",
    "        \"state\": \"running\"\n",
    "    }\n",
    "    runs = wandb.Api(timeout=120).runs(f\"{project_name}\", filters=filters)\n",
    "    filtered_runs = [run for run in runs]\n",
    "    print(f\"Number of filtered runs: {len(filtered_runs)}\")\n",
    "    for run in filtered_runs:\n",
    "        print(run.id)\n",
    "\n",
    "    timeframe = datetime.now() - timedelta(hours=7)\n",
    "\n",
    "    for run in filtered_runs:\n",
    "        run_id = run.id\n",
    "        print(run_id)\n",
    "        try:\n",
    "            run_data = run.history()\n",
    "            df = pd.DataFrame(run_data)\n",
    "            print(df.columns)\n",
    "            df = df[['uids', 'status_messages', '_timestamp', 'completions', 'rewards', 'reference', 'task', 'challenge', 'turn', 'step', 'is_organic_sample']]\n",
    "            df['run_id'] = run_id\n",
    "\n",
    "            # Convert timestamp to datetime and filter for the last 24 hours\n",
    "            df['_timestamp'] = pd.to_datetime(df['_timestamp'], unit='s')\n",
    "            df = df[df['_timestamp'] >= timeframe]\n",
    "\n",
    "            # Standardize 'reference' column by converting all to strings or correcting types\n",
    "            df['reference'] = df['reference'].apply(lambda x: str(x))\n",
    "\n",
    "            # Function to pad lists to match the longest list in each row\n",
    "            def pad_lists(row, columns):\n",
    "                max_len = max(len(row[col]) if isinstance(row[col], list) else 0 for col in columns)\n",
    "                for col in columns:\n",
    "                    if isinstance(row[col], list):\n",
    "                        row[col] += [None] * (max_len - len(row[col]))\n",
    "                    else:\n",
    "                        row[col] = [None] * max_len\n",
    "                return row\n",
    "            columns_to_pad = ['uids', 'status_messages', 'completions', 'rewards']\n",
    "            df = df.apply(lambda row: pad_lists(row, columns_to_pad), axis=1)\n",
    "\n",
    "            # Explode relevant columns after padding\n",
    "            df = df.explode(columns_to_pad)\n",
    "\n",
    "            # Filter DataFrame based on 'our_miners' (assuming df_m is defined with 'our_miners')\n",
    "            our_uids = df_m[df_m['our_miners']]['uid'].tolist()\n",
    "            if len(our_uids) >= 50:\n",
    "                selected_uids = our_uids[:50]\n",
    "            else:\n",
    "                selected_uids = our_uids\n",
    "            filtered_df = df[df['uids'].isin(selected_uids)]\n",
    "\n",
    "            # Add run ID as a column to identify data from different runs\n",
    "            filtered_df['run_id'] = run_id\n",
    "\n",
    "            # Append the correctly filtered DataFrame\n",
    "            dataframes.append(filtered_df)\n",
    "        except wandb.errors.CommError as e:\n",
    "            print(f\"Failed to fetch data for run {run_id}: {e}\")\n",
    "        except KeyError as e:\n",
    "            print(f\"KeyError: {e}\")\n",
    "\n",
    "    if dataframes:\n",
    "        combined_df = pd.concat(dataframes, ignore_index=True)\n",
    "        return combined_df\n",
    "    else:\n",
    "        return None\n",
    "\n",
    "# Specify project name, netuid, and the required tag\n",
    "project_name = \"macrocosmos/prompting-validators\"\n",
    "\n",
    "# Fetch data from runs with the specified tag and conditions\n",
    "combined_data = fetch_data_from_runs(project_name)\n",
    "\n",
    "if combined_data is not None:\n",
    "    print(combined_data.head())\n",
    "else:\n",
    "    print(\"No data fetched from runs.\")"
   ]
  },
  {
   "cell_type": "code",
   "execution_count": 38,
   "metadata": {},
   "outputs": [
    {
     "data": {
      "text/plain": [
       "task\n",
       "qa               0.365535\n",
       "math             0.135770\n",
       "sentiment        0.109661\n",
       "date_qa          0.107050\n",
       "generic          0.096606\n",
       "summarization    0.093995\n",
       "translation      0.091384\n",
       "Name: proportion, dtype: float64"
      ]
     },
     "execution_count": 38,
     "metadata": {},
     "output_type": "execute_result"
    }
   ],
   "source": [
    "#### ARXIV DATASET RUN macrocosmos/prompting-validators/nc9e9ydv\n",
    "api = wandb.Api()\n",
    "run = api.run(\"macrocosmos/prompting-validators/sivqx3fx\")\n",
    "df = run.history()\n",
    "df = df.dropna(subset=['reference'])\n",
    "df.task.value_counts(normalize=True)"
   ]
  },
  {
   "cell_type": "code",
   "execution_count": 39,
   "metadata": {},
   "outputs": [
    {
     "data": {
      "text/html": [
       "<div>\n",
       "<style scoped>\n",
       "    .dataframe tbody tr th:only-of-type {\n",
       "        vertical-align: middle;\n",
       "    }\n",
       "\n",
       "    .dataframe tbody tr th {\n",
       "        vertical-align: top;\n",
       "    }\n",
       "\n",
       "    .dataframe thead th {\n",
       "        text-align: right;\n",
       "    }\n",
       "</style>\n",
       "<table border=\"1\" class=\"dataframe\">\n",
       "  <thead>\n",
       "    <tr style=\"text-align: right;\">\n",
       "      <th></th>\n",
       "      <th>challenge</th>\n",
       "      <th>task</th>\n",
       "    </tr>\n",
       "  </thead>\n",
       "  <tbody>\n",
       "    <tr>\n",
       "      <th>1</th>\n",
       "      <td>\\n\\nwhat specific technological innovations did ada lovelace, often considered the first computer programmer, envision and describe in her notes on charles babbage's analytical engine, and how did her work on bernoulli numbers and her understanding of the engine's capabilities inform her predictions about its potential to go beyond mere calculation and perform any task that could be expressed in a series of steps?</td>\n",
       "      <td>generic</td>\n",
       "    </tr>\n",
       "    <tr>\n",
       "      <th>2</th>\n",
       "      <td>\\n\\nwhat specific insights did this visionary's work on bernoulli numbers provide into the analytical engine's capabilities, and how did these insights influence her predictions about its potential to perform tasks beyond calculation?</td>\n",
       "      <td>qa</td>\n",
       "    </tr>\n",
       "    <tr>\n",
       "      <th>3</th>\n",
       "      <td>I was wondering if you could help translate this into Spanish? \\nOs feijões de outras espécies de Parkia (por exemplo, Parkia javanica e Parkia singularis) também são populares como ingrediente culinário na Indonésia, Malásia, Singapura, Brunei, Laos, sul da Tailândia, Birmânia e nordeste da Índia, especialmente Assam, Nagaland, Manipur, Mizoram e Tripura (consumidos principalmente pelo povo Tiprasa). Eles são vendidos em cachos, ainda na vagem, ou as sementes são vendidas em sacos de plástico. Pods são recolhidos da natureza, ou de árvores cultivadas: são exportados em jarros ou latas, picados em salmoura, ou congelados. [5]\\n</td>\n",
       "      <td>translation</td>\n",
       "    </tr>\n",
       "    <tr>\n",
       "      <th>4</th>\n",
       "      <td>The definite integral within limits $0$ to $1$ of the equation $67x^2 + 52x + 62 = $\\nWould you mind giving me some assistance?</td>\n",
       "      <td>math</td>\n",
       "    </tr>\n",
       "    <tr>\n",
       "      <th>6</th>\n",
       "      <td>\\n\\nwhat circumstances led to the 2013 horse meat scandal in europe, where beef products from major retailers were found to contain horse meat, and how did the subsequent investigation and recall process impact the meat industry's supply chain transparency and consumer trust in the region?</td>\n",
       "      <td>generic</td>\n",
       "    </tr>\n",
       "    <tr>\n",
       "      <th>...</th>\n",
       "      <td>...</td>\n",
       "      <td>...</td>\n",
       "    </tr>\n",
       "    <tr>\n",
       "      <th>478</th>\n",
       "      <td>I require assistance translating the following into English. Can you help? \\nO Tar Heels terminou a temporada 2017–18 com um recorde de 26–11, 11–7 na peça ACC para terminar em uma gravata de quatro vias para o terceiro lugar. Como a semente no 6 no torneio ACC, eles derrotaram Syracuse,[1] Miami,[2] e Duke[3] antes de perder para Virginia no jogo do campeonato. [4] Eles receberam uma grande oferta para o torneio da NCAA como a semente No. 2 na região Oeste, onde derrotaram Lipscomb[5] antes de perder para o Texas A&amp;M na segunda rodada. [6]\\n</td>\n",
       "      <td>translation</td>\n",
       "    </tr>\n",
       "    <tr>\n",
       "      <th>479</th>\n",
       "      <td>Simplify $37^{1^{10}}$</td>\n",
       "      <td>math</td>\n",
       "    </tr>\n",
       "    <tr>\n",
       "      <th>480</th>\n",
       "      <td>\\n\\ncan you break down the step-by-step process you used to arrive at that result, as i'd like to understand the reasoning behind the simplified form of the given expression?</td>\n",
       "      <td>qa</td>\n",
       "    </tr>\n",
       "    <tr>\n",
       "      <th>481</th>\n",
       "      <td>\\n\\nso i'm tryin to find out about elizabeth payne's family... Does it say anywhere what her grandpa peregrine bertie did for a living?</td>\n",
       "      <td>qa</td>\n",
       "    </tr>\n",
       "    <tr>\n",
       "      <th>482</th>\n",
       "      <td>\\n\\nwhat's the deal with fort washington in california? Is it an actual fort or just some historic site?</td>\n",
       "      <td>summarization</td>\n",
       "    </tr>\n",
       "  </tbody>\n",
       "</table>\n",
       "<p>383 rows × 2 columns</p>\n",
       "</div>"
      ],
      "text/plain": [
       "                                                                                                                                                                                                                                                                                                                                                                                                                                                                                                                                                                                                                                                       challenge  \\\n",
       "1                                                                                                                                                                                                                              \\n\\nwhat specific technological innovations did ada lovelace, often considered the first computer programmer, envision and describe in her notes on charles babbage's analytical engine, and how did her work on bernoulli numbers and her understanding of the engine's capabilities inform her predictions about its potential to go beyond mere calculation and perform any task that could be expressed in a series of steps?   \n",
       "2                                                                                                                                                                                                                                                                                                                                                                                                                     \\n\\nwhat specific insights did this visionary's work on bernoulli numbers provide into the analytical engine's capabilities, and how did these insights influence her predictions about its potential to perform tasks beyond calculation?   \n",
       "3    I was wondering if you could help translate this into Spanish? \\nOs feijões de outras espécies de Parkia (por exemplo, Parkia javanica e Parkia singularis) também são populares como ingrediente culinário na Indonésia, Malásia, Singapura, Brunei, Laos, sul da Tailândia, Birmânia e nordeste da Índia, especialmente Assam, Nagaland, Manipur, Mizoram e Tripura (consumidos principalmente pelo povo Tiprasa). Eles são vendidos em cachos, ainda na vagem, ou as sementes são vendidas em sacos de plástico. Pods são recolhidos da natureza, ou de árvores cultivadas: são exportados em jarros ou latas, picados em salmoura, ou congelados. [5]\\n   \n",
       "4                                                                                                                                                                                                                                                                                                                                                                                                                                                                                                                                The definite integral within limits $0$ to $1$ of the equation $67x^2 + 52x + 62 = $\\nWould you mind giving me some assistance?   \n",
       "6                                                                                                                                                                                                                                                                                                                                                             \\n\\nwhat circumstances led to the 2013 horse meat scandal in europe, where beef products from major retailers were found to contain horse meat, and how did the subsequent investigation and recall process impact the meat industry's supply chain transparency and consumer trust in the region?   \n",
       "..                                                                                                                                                                                                                                                                                                                                                                                                                                                                                                                                                                                                                                                           ...   \n",
       "478                                                                                         I require assistance translating the following into English. Can you help? \\nO Tar Heels terminou a temporada 2017–18 com um recorde de 26–11, 11–7 na peça ACC para terminar em uma gravata de quatro vias para o terceiro lugar. Como a semente no 6 no torneio ACC, eles derrotaram Syracuse,[1] Miami,[2] e Duke[3] antes de perder para Virginia no jogo do campeonato. [4] Eles receberam uma grande oferta para o torneio da NCAA como a semente No. 2 na região Oeste, onde derrotaram Lipscomb[5] antes de perder para o Texas A&M na segunda rodada. [6]\\n   \n",
       "479                                                                                                                                                                                                                                                                                                                                                                                                                                                                                                                                                                                                                                       Simplify $37^{1^{10}}$   \n",
       "480                                                                                                                                                                                                                                                                                                                                                                                                                                                                               \\n\\ncan you break down the step-by-step process you used to arrive at that result, as i'd like to understand the reasoning behind the simplified form of the given expression?   \n",
       "481                                                                                                                                                                                                                                                                                                                                                                                                                                                                                                                      \\n\\nso i'm tryin to find out about elizabeth payne's family... Does it say anywhere what her grandpa peregrine bertie did for a living?   \n",
       "482                                                                                                                                                                                                                                                                                                                                                                                                                                                                                                                                                     \\n\\nwhat's the deal with fort washington in california? Is it an actual fort or just some historic site?   \n",
       "\n",
       "              task  \n",
       "1          generic  \n",
       "2               qa  \n",
       "3      translation  \n",
       "4             math  \n",
       "6          generic  \n",
       "..             ...  \n",
       "478    translation  \n",
       "479           math  \n",
       "480             qa  \n",
       "481             qa  \n",
       "482  summarization  \n",
       "\n",
       "[383 rows x 2 columns]"
      ]
     },
     "execution_count": 39,
     "metadata": {},
     "output_type": "execute_result"
    }
   ],
   "source": [
    "api = wandb.Api()\n",
    "run = api.run(\"macrocosmos/prompting-validators/sivqx3fx\")\n",
    "df = run.history()\n",
    "df = df.dropna(subset=['challenge'])\n",
    "df[['challenge', 'task']]"
   ]
  },
  {
   "cell_type": "code",
   "execution_count": 22,
   "metadata": {},
   "outputs": [
    {
     "data": {
      "text/plain": [
       "context\n",
       "False    0.981723\n",
       "True     0.018277\n",
       "Name: proportion, dtype: float64"
      ]
     },
     "execution_count": 22,
     "metadata": {},
     "output_type": "execute_result"
    }
   ],
   "source": [
    "# Get the percentage of rows that have \"context\" in the reference column\n",
    "df['context'] = df.reference.str.contains('no context')\n",
    "df.context.value_counts(normalize=True)"
   ]
  },
  {
   "cell_type": "code",
   "execution_count": 20,
   "metadata": {},
   "outputs": [
    {
     "data": {
      "text/html": [
       "<div>\n",
       "<style scoped>\n",
       "    .dataframe tbody tr th:only-of-type {\n",
       "        vertical-align: middle;\n",
       "    }\n",
       "\n",
       "    .dataframe tbody tr th {\n",
       "        vertical-align: top;\n",
       "    }\n",
       "\n",
       "    .dataframe thead th {\n",
       "        text-align: right;\n",
       "    }\n",
       "</style>\n",
       "<table border=\"1\" class=\"dataframe\">\n",
       "  <thead>\n",
       "    <tr style=\"text-align: right;\">\n",
       "      <th></th>\n",
       "      <th>challenge</th>\n",
       "      <th>reference</th>\n",
       "      <th>task</th>\n",
       "    </tr>\n",
       "  </thead>\n",
       "  <tbody>\n",
       "    <tr>\n",
       "      <th>7</th>\n",
       "      <td>\\n\\nugh, can you just give me the cliffsnotes version of san giorgio in kemonia already? Like, what's the main point of this stupid church?</td>\n",
       "      <td>\\n\\nhere is a concise and accurate summary of the \\n\\nthe san giorgio in kemonia church, now known as san giuseppe cafasso, is a roman catholic parish church in palermo, sicily, italy. The church has undergone multiple transformations, with a possible 4th-century presence, and was later affiliated with cistercian and olivetan orders. In 1765, it was refurbished in a late-baroque style, and in 1953, it was rededicated to joseph cafasso, patron saint of prisoners, due to a former nearby female prison.</td>\n",
       "      <td>summarization</td>\n",
       "    </tr>\n",
       "    <tr>\n",
       "      <th>16</th>\n",
       "      <td>\\n\\nso what's the deal with susanne puddefoot? Who is she and why is she important?</td>\n",
       "      <td>\\n\\nsusanne puddefoot (1934-2010) was a renowned english journalist, editor, and charity director. She was the first editor of the times women's page and a cambridge graduate. Born in blackpool, she was educated at girton college, where she was involved with granta and varsity. Puddefoot won a special award at the british press awards in 1967.</td>\n",
       "      <td>summarization</td>\n",
       "    </tr>\n",
       "    <tr>\n",
       "      <th>48</th>\n",
       "      <td>\\n\\nwhat can you tell me about mycobacterium parmense? Is it a type of bacteria that can cause infections in humans?</td>\n",
       "      <td>\\n\\nthere is no context provided. Please provide the context you'd like me to summarize. I'll be happy to help!</td>\n",
       "      <td>summarization</td>\n",
       "    </tr>\n",
       "    <tr>\n",
       "      <th>70</th>\n",
       "      <td>\\n\\nwhats the deal with cytora? Is it some kinda insurance company or smthn?</td>\n",
       "      <td>\\n\\nhere is a concise and accurate summary of the \\n\\nthe genus cytora comprises 42 species, with 23 of them being first described in 2007, and the shell height is less than 7 mm.</td>\n",
       "      <td>summarization</td>\n",
       "    </tr>\n",
       "    <tr>\n",
       "      <th>86</th>\n",
       "      <td>\\n\\nwhats the main point of mile high edge? Is it some kinda building or something?</td>\n",
       "      <td>\\n\\nthe mile high edge was a w-league soccer club based in denver, colorado, previously known as the mile high mustangs until 2005. The team ceased operations after the 2007 season.</td>\n",
       "      <td>summarization</td>\n",
       "    </tr>\n",
       "    <tr>\n",
       "      <th>87</th>\n",
       "      <td>\\n\\nwhat's the deal with evergreen high school in colorado? Is it a good school?</td>\n",
       "      <td>\\n\\nhere is a concise and accurate summary of the \\n\\nevergreen high school is a public high school in colorado, known for its academic, athletic, and extracurricular excellence. It has won two blue ribbon awards from the us department of education. The school has a long history, dating back to the 19th century, and currently serves students from evergreen and surrounding areas. The school's student demographics are diverse, and its sports teams, the cougars, have a strong rivalry with conifer high school's lobos, with an annual tradition called the mountain bowl.</td>\n",
       "      <td>summarization</td>\n",
       "    </tr>\n",
       "    <tr>\n",
       "      <th>112</th>\n",
       "      <td>\\n\\nwhos george brown pitcher?</td>\n",
       "      <td>\\n\\ngeorge brown was a negro league pitcher who played in the 1920s.</td>\n",
       "      <td>summarization</td>\n",
       "    </tr>\n",
       "    <tr>\n",
       "      <th>134</th>\n",
       "      <td>\\n\\nwhat's the deal with the chi rho symbol? Is it just some fancy ancient graffiti or does it actually mean something?</td>\n",
       "      <td>\\n\\nthe chi rho (☧) is an early christogram formed by superimposing the greek letters chi (χ) and rho (ρ) from the word \"christos\" (χριστος). According to lactantius, emperor constantine used this symbol on his soldiers' shields after a dream, leading to his victory in the battle of the milvian bridge in 312 ad. The symbol represents the connection between jesus' crucifixion and resurrection, often surrounded by a wreath to signify the victory of the resurrection over death.</td>\n",
       "      <td>summarization</td>\n",
       "    </tr>\n",
       "    <tr>\n",
       "      <th>136</th>\n",
       "      <td>\\n\\nwhats the deal with the 1868 surinamese general election? Was it like a big deal or somethin?</td>\n",
       "      <td>\\n\\nhere is a concise and accurate summary of the \\n\\nin 1868, partial general elections were held in suriname to elect 3 out of 9 members of the colonial states. The 3 members served 6-year terms, with 3 elected every 2 years. Two candidates were elected in the first round, and a runoff was held for the third seat. The governor-general also appointed 4 members, with 1 replacement made in 1869.</td>\n",
       "      <td>summarization</td>\n",
       "    </tr>\n",
       "    <tr>\n",
       "      <th>139</th>\n",
       "      <td>\\n\\nwhat's the most important thing i need to know about wilbert king's life and accomplishments?</td>\n",
       "      <td>\\n\\nwilbert king was an american athlete who played professional basketball and baseball from 1944 to 1947. He played in the negro leagues for several teams and had a stint in the national basketball league with the detroit gems, averaging 8.2 points per game in the 1946-1947 season.</td>\n",
       "      <td>summarization</td>\n",
       "    </tr>\n",
       "    <tr>\n",
       "      <th>155</th>\n",
       "      <td>\\n\\nwhat are the key characteristics of conus paschalli, and what makes it distinct from other species of cone snails?</td>\n",
       "      <td>\\n\\nthe caribbean cone snail, found in the caribbean sea off nicaragua and honduras, has a shell size ranging from 19mm to 27mm.</td>\n",
       "      <td>summarization</td>\n",
       "    </tr>\n",
       "    <tr>\n",
       "      <th>162</th>\n",
       "      <td>\\n\\nugh, fine. So, kokinac... What's the deal with that thing? Is it a person, place, or thing? Just give me the basics, i don't have all day.</td>\n",
       "      <td>\\n\\nkokinac is a village in croatia with a population of 155 as of 2021.</td>\n",
       "      <td>summarization</td>\n",
       "    </tr>\n",
       "    <tr>\n",
       "      <th>187</th>\n",
       "      <td>\\n\\nwhats the deal with victor ad? Like whats his story?</td>\n",
       "      <td>\\n\\nvictor eugenie adere was born in kirikiri, lagos state, and grew up with his family as the first of four children. He attended heritage international school in lagos and ekpan secondary school in warri.</td>\n",
       "      <td>summarization</td>\n",
       "    </tr>\n",
       "    <tr>\n",
       "      <th>189</th>\n",
       "      <td>\\n\\nwhat's the deal with svetilnoye? Is it a town or something?</td>\n",
       "      <td>\\n\\nsvetilnoye is a rural locality in amur oblast, russia, with a population of 97 as of 2018, situated on the bolshaya pyora river, 17 km southeast of shimanovsk.</td>\n",
       "      <td>summarization</td>\n",
       "    </tr>\n",
       "    <tr>\n",
       "      <th>204</th>\n",
       "      <td>\\n\\nwhat's the deal with edwin schulz? Was he some kinda famous dude or somethin?</td>\n",
       "      <td>\\n\\nthere is no context provided to summarize. Please provide the context you would like me to summarize.</td>\n",
       "      <td>summarization</td>\n",
       "    </tr>\n",
       "    <tr>\n",
       "      <th>210</th>\n",
       "      <td>\\n\\nwhats the deal with ikaruga nara? Is it a city or somethin?</td>\n",
       "      <td>\\n\\nikaruga is a town located in ikoma district, nara, japan.</td>\n",
       "      <td>summarization</td>\n",
       "    </tr>\n",
       "    <tr>\n",
       "      <th>213</th>\n",
       "      <td>\\n\\nok so like what's the deal with the 2020 internazionali di tennis emilia romagna doubles tournament? Who won it?</td>\n",
       "      <td>\\n\\nlaurynas grigelis and andrea pellegrino, the previous champions, have opted not to defend their title.</td>\n",
       "      <td>summarization</td>\n",
       "    </tr>\n",
       "    <tr>\n",
       "      <th>221</th>\n",
       "      <td>\\n\\nomg what is haff disease?! Is it contagious?!</td>\n",
       "      <td>\\n\\nhaff disease is a condition that occurs within 24 hours of eating fish, characterized by rhabdomyolysis (muscle breakdown and swelling) and a risk of acute kidney failure. It was first identified in 1924 in the königsberg area (now kaliningrad, russia) near the baltic coast.</td>\n",
       "      <td>summarization</td>\n",
       "    </tr>\n",
       "    <tr>\n",
       "      <th>236</th>\n",
       "      <td>\\n\\nso i'm trying to get the scoop on chitipa central, a constituency in malawi's parliament... Can you give me the lowdown on its demographics? Like, what's the population and stuff?</td>\n",
       "      <td>\\n\\nchitipa central is a constituency in malawi's northern region, electing one mp by first-past-the-post system, currently represented by clement fukumele mukumbwa of the democratic progressive party.</td>\n",
       "      <td>summarization</td>\n",
       "    </tr>\n",
       "    <tr>\n",
       "      <th>265</th>\n",
       "      <td>\\n\\nwhat's the deal with simpson, minnesota? Like, what's so special about this tiny town?</td>\n",
       "      <td>\\n\\nsimpson was founded in 1890, named after railroad official thomas simpson, and had a post office that operated from 1890 to 1956.</td>\n",
       "      <td>summarization</td>\n",
       "    </tr>\n",
       "    <tr>\n",
       "      <th>279</th>\n",
       "      <td>\\n\\nugh, fine. So, can you just sum up who lottie pearl mitchell was and what she did or whatever? I don't got all day to read through a bunch of boring text.</td>\n",
       "      <td>\\n\\nlottie pearl mitchell (1883-1974) was a multifaceted american figure who served as a probation officer, civil rights activist, and clubwoman. She was the third national president of alpha kappa alpha sorority and a national vice-president of the naacp. Mitchell worked in juvenile courts, chaired the pan-hellenic council and naacp's cleveland chapter, and was involved in various social and cultural organizations. She also pursued music and theatre, and her papers are preserved at the western reserve historical society.</td>\n",
       "      <td>summarization</td>\n",
       "    </tr>\n",
       "    <tr>\n",
       "      <th>293</th>\n",
       "      <td>\\n\\nwhats the deal with ulao wisconsin? Is it even a real place?</td>\n",
       "      <td>\\n\\nhere is a concise and accurate summary of the \\n\\nthe community of ulao's name has multiple explanations, including a possible corruption of the spanish word \"ulloa\" or a reference to a native american leader. Ulao was founded by james t. Gifford, who built port ulao on lake michigan in 1847 as a refueling station for steamships, which consumed large amounts of wood for fuel. Gifford constructed a sawmill, warehouse, and pier, using a chute to transport logs down the 140-foot clay bluffs to supply the steamships.</td>\n",
       "      <td>summarization</td>\n",
       "    </tr>\n",
       "    <tr>\n",
       "      <th>320</th>\n",
       "      <td>\\n\\nwat r grade 2 star listed buildings in fenland?</td>\n",
       "      <td>\\n\\nthere is no context provided to summarize. Please provide the context you would like me to summarize, and i'll be happy to assist you!</td>\n",
       "      <td>summarization</td>\n",
       "    </tr>\n",
       "    <tr>\n",
       "      <th>321</th>\n",
       "      <td>\\n\\nugh, can you just give me the lowdown on scott vermillion already? Like what's the deal with this guy?</td>\n",
       "      <td>\\n\\nscott vermillion was an american soccer player born on december 23, 1976, and passed away on december 25, 2020. He played for the kansas city wizards and colorado rapids after joining the league in 1998 through generation adidas (formerly project 40). Vermillion was a third team all-american in his junior year at the university of virginia, where his team finished as runner-up in the 1997 ncaa division i men's soccer tournament.</td>\n",
       "      <td>summarization</td>\n",
       "    </tr>\n",
       "    <tr>\n",
       "      <th>339</th>\n",
       "      <td>\\n\\nomg can you pls summarize who ron cutler is? Like, what's the deal with this bishop dude?</td>\n",
       "      <td>\\n\\nronald wayne \"ron\" cutler is a canadian anglican bishop who became bishop of nova scotia and prince edward island in 2014 and later metropolitan of canada in 2017.</td>\n",
       "      <td>summarization</td>\n",
       "    </tr>\n",
       "    <tr>\n",
       "      <th>343</th>\n",
       "      <td>\\n\\nugh, can you just summarize this whole page about thomas murray, the provost of eton, for me? Like, what's the most important stuff i need to know about the guy?</td>\n",
       "      <td>\\n\\nthomas murray (1564-1623) was a scottish courtier who served in the court of james vi of scotland. He was a poet and presented a latin poem to the king in 1587. Murray married jean drummond, a lady-in-waiting to anne of denmark, and later became the provost of eton.</td>\n",
       "      <td>summarization</td>\n",
       "    </tr>\n",
       "    <tr>\n",
       "      <th>365</th>\n",
       "      <td>\\n\\nwhat's the deal with catocala sponsalis? Is it some kinda moth or what?</td>\n",
       "      <td>\\n\\nthere is no context provided. Please provide the context you would like me to summarize. I'll be happy to assist you!</td>\n",
       "      <td>summarization</td>\n",
       "    </tr>\n",
       "    <tr>\n",
       "      <th>366</th>\n",
       "      <td>\\n\\nwhat is an anemometer, and what is its primary function in measuring wind speed and direction?</td>\n",
       "      <td>\\n\\nhere is a concise and accurate summary of the \\n\\nthe anemometer has undergone developments since its invention in the 15th century. Notable improvements include thomas romney robinson's 1846 design with four hemispherical cups, john patterson's 1926 three-cup anemometer, and derek weston's 1991 addition of wind direction measurement. Modern anemometers are used in various applications, including airports and wind turbines, and must be designed to withstand harsh conditions, such as freezing precipitation. To ensure accurate wind speed measurements, anemometers must be placed at a standard height of 10 meters in open rural terrain, and consideration must be given to surrounding terrain features.</td>\n",
       "      <td>summarization</td>\n",
       "    </tr>\n",
       "    <tr>\n",
       "      <th>399</th>\n",
       "      <td>\\n\\nwhat's the most important thing i should know about the blackledge-kearney house?</td>\n",
       "      <td>\\n\\nhere is a concise and accurate summary of the \\n\\nthe house at closter landing was built in the 1760s and had various owners, including maria blackledge and her husband, and later james and rachel kearney, who expanded it to operate as a tavern after james' death in 1831. The house was eventually purchased by the palisades interstate park commission in 1907 and served as a police station in the 1920s.</td>\n",
       "      <td>summarization</td>\n",
       "    </tr>\n",
       "    <tr>\n",
       "      <th>400</th>\n",
       "      <td>\\n\\nlook, i don't have all day, can you just tell me what warwickslade cutting railway is in like, 2 sentences or less?</td>\n",
       "      <td>\\n\\nthe warwickslade lawn sssi was in decline due to an artificially deepened cutting, which prevented seasonal flooding of habitats. To restore the site, 10,000 tonnes of hoggin and clay were used to fill in the cutting and reinstate the original pre-1850s stream course.</td>\n",
       "      <td>summarization</td>\n",
       "    </tr>\n",
       "    <tr>\n",
       "      <th>415</th>\n",
       "      <td>\\n\\nomg, can you like, summarize karene agono's life and achievements for me? I wanna know everything about this amazing lady!</td>\n",
       "      <td>\\n\\nthere is no context provided to summarize. Please provide the context you would like me to summarize.</td>\n",
       "      <td>summarization</td>\n",
       "    </tr>\n",
       "    <tr>\n",
       "      <th>425</th>\n",
       "      <td>\\n\\nso i'm trying to learn more about this microorganism called anaerofilum... Can you tell me what kind of environment does it typically thrive in? Is it found in soil, water, or maybe even the human gut?</td>\n",
       "      <td>\\n\\nthere is no context provided to summarize. Please provide the context you'd like me to summarize, and i'll be happy to assist you!</td>\n",
       "      <td>summarization</td>\n",
       "    </tr>\n",
       "    <tr>\n",
       "      <th>440</th>\n",
       "      <td>\\n\\nwhats the deal with etyma icima? Is it like a bug or somethin?</td>\n",
       "      <td>\\n\\nthere is no context provided. Please provide the context you would like me to summarize.</td>\n",
       "      <td>summarization</td>\n",
       "    </tr>\n",
       "    <tr>\n",
       "      <th>464</th>\n",
       "      <td>\\n\\nwhat's the deal with littleton, iowa? Is it even a real place?</td>\n",
       "      <td>\\n\\nhere is a concise and accurate summary of the \\n\\nlittleton and chatham were platted in 1855 by moses little and dr. Robert w. Wright, respectively. The post office, established in 1851, was initially in chatham but was later moved to littleton in the 1880s. By 1902, littleton's population was 88.</td>\n",
       "      <td>summarization</td>\n",
       "    </tr>\n",
       "    <tr>\n",
       "      <th>475</th>\n",
       "      <td>\\n\\nwhat's the deal with marchegger ostbahn? Is it a railway company or something?</td>\n",
       "      <td>\\n\\nthe railway line splits from laaer ostbahn near wien stadlau station in vienna, running east to marchegg, crossing the morava river into slovakia, and continuing as the bratislava-marchegg railway line. The line is serviced by vienna s-bahn's s80, regionalzug, and regional-express trains, connecting vienna to marchegg and bratislava.</td>\n",
       "      <td>summarization</td>\n",
       "    </tr>\n",
       "    <tr>\n",
       "      <th>482</th>\n",
       "      <td>\\n\\nwhat's the deal with fort washington in california? Is it an actual fort or just some historic site?</td>\n",
       "      <td>\\n\\nhere is a concise and accurate summary of the \\n\\nfort washington's 2010 census reported a population of 233, with a density of 1,879.0 inhabitants per square mile. The racial makeup consisted of 89.7% white, 1.7% african american, 0.4% native american, 3.0% asian, and 4.7% from two or more races, with 11.2% identifying as hispanic or latino.</td>\n",
       "      <td>summarization</td>\n",
       "    </tr>\n",
       "  </tbody>\n",
       "</table>\n",
       "</div>"
      ],
      "text/plain": [
       "                                                                                                                                                                                                         challenge  \\\n",
       "7                                                                      \\n\\nugh, can you just give me the cliffsnotes version of san giorgio in kemonia already? Like, what's the main point of this stupid church?   \n",
       "16                                                                                                                             \\n\\nso what's the deal with susanne puddefoot? Who is she and why is she important?   \n",
       "48                                                                                            \\n\\nwhat can you tell me about mycobacterium parmense? Is it a type of bacteria that can cause infections in humans?   \n",
       "70                                                                                                                                    \\n\\nwhats the deal with cytora? Is it some kinda insurance company or smthn?   \n",
       "86                                                                                                                             \\n\\nwhats the main point of mile high edge? Is it some kinda building or something?   \n",
       "87                                                                                                                                \\n\\nwhat's the deal with evergreen high school in colorado? Is it a good school?   \n",
       "112                                                                                                                                                                                 \\n\\nwhos george brown pitcher?   \n",
       "134                                                                                        \\n\\nwhat's the deal with the chi rho symbol? Is it just some fancy ancient graffiti or does it actually mean something?   \n",
       "136                                                                                                              \\n\\nwhats the deal with the 1868 surinamese general election? Was it like a big deal or somethin?   \n",
       "139                                                                                                              \\n\\nwhat's the most important thing i need to know about wilbert king's life and accomplishments?   \n",
       "155                                                                                         \\n\\nwhat are the key characteristics of conus paschalli, and what makes it distinct from other species of cone snails?   \n",
       "162                                                                 \\n\\nugh, fine. So, kokinac... What's the deal with that thing? Is it a person, place, or thing? Just give me the basics, i don't have all day.   \n",
       "187                                                                                                                                                       \\n\\nwhats the deal with victor ad? Like whats his story?   \n",
       "189                                                                                                                                                \\n\\nwhat's the deal with svetilnoye? Is it a town or something?   \n",
       "204                                                                                                                              \\n\\nwhat's the deal with edwin schulz? Was he some kinda famous dude or somethin?   \n",
       "210                                                                                                                                                \\n\\nwhats the deal with ikaruga nara? Is it a city or somethin?   \n",
       "213                                                                                           \\n\\nok so like what's the deal with the 2020 internazionali di tennis emilia romagna doubles tournament? Who won it?   \n",
       "221                                                                                                                                                              \\n\\nomg what is haff disease?! Is it contagious?!   \n",
       "236                        \\n\\nso i'm trying to get the scoop on chitipa central, a constituency in malawi's parliament... Can you give me the lowdown on its demographics? Like, what's the population and stuff?   \n",
       "265                                                                                                                     \\n\\nwhat's the deal with simpson, minnesota? Like, what's so special about this tiny town?   \n",
       "279                                                 \\n\\nugh, fine. So, can you just sum up who lottie pearl mitchell was and what she did or whatever? I don't got all day to read through a bunch of boring text.   \n",
       "293                                                                                                                                               \\n\\nwhats the deal with ulao wisconsin? Is it even a real place?   \n",
       "320                                                                                                                                                            \\n\\nwat r grade 2 star listed buildings in fenland?   \n",
       "321                                                                                                     \\n\\nugh, can you just give me the lowdown on scott vermillion already? Like what's the deal with this guy?   \n",
       "339                                                                                                                  \\n\\nomg can you pls summarize who ron cutler is? Like, what's the deal with this bishop dude?   \n",
       "343                                          \\n\\nugh, can you just summarize this whole page about thomas murray, the provost of eton, for me? Like, what's the most important stuff i need to know about the guy?   \n",
       "365                                                                                                                                    \\n\\nwhat's the deal with catocala sponsalis? Is it some kinda moth or what?   \n",
       "366                                                                                                             \\n\\nwhat is an anemometer, and what is its primary function in measuring wind speed and direction?   \n",
       "399                                                                                                                          \\n\\nwhat's the most important thing i should know about the blackledge-kearney house?   \n",
       "400                                                                                        \\n\\nlook, i don't have all day, can you just tell me what warwickslade cutting railway is in like, 2 sentences or less?   \n",
       "415                                                                                 \\n\\nomg, can you like, summarize karene agono's life and achievements for me? I wanna know everything about this amazing lady!   \n",
       "425  \\n\\nso i'm trying to learn more about this microorganism called anaerofilum... Can you tell me what kind of environment does it typically thrive in? Is it found in soil, water, or maybe even the human gut?   \n",
       "440                                                                                                                                             \\n\\nwhats the deal with etyma icima? Is it like a bug or somethin?   \n",
       "464                                                                                                                                             \\n\\nwhat's the deal with littleton, iowa? Is it even a real place?   \n",
       "475                                                                                                                             \\n\\nwhat's the deal with marchegger ostbahn? Is it a railway company or something?   \n",
       "482                                                                                                       \\n\\nwhat's the deal with fort washington in california? Is it an actual fort or just some historic site?   \n",
       "\n",
       "                                                                                                                                                                                                                                                                                                                                                                                                                                                                                                                                                                                                                                                                                                                                reference  \\\n",
       "7                                                                                                                                                                                                                \\n\\nhere is a concise and accurate summary of the \\n\\nthe san giorgio in kemonia church, now known as san giuseppe cafasso, is a roman catholic parish church in palermo, sicily, italy. The church has undergone multiple transformations, with a possible 4th-century presence, and was later affiliated with cistercian and olivetan orders. In 1765, it was refurbished in a late-baroque style, and in 1953, it was rededicated to joseph cafasso, patron saint of prisoners, due to a former nearby female prison.   \n",
       "16                                                                                                                                                                                                                                                                                                                                                                              \\n\\nsusanne puddefoot (1934-2010) was a renowned english journalist, editor, and charity director. She was the first editor of the times women's page and a cambridge graduate. Born in blackpool, she was educated at girton college, where she was involved with granta and varsity. Puddefoot won a special award at the british press awards in 1967.   \n",
       "48                                                                                                                                                                                                                                                                                                                                                                                                                                                                                                                                                                                                                        \\n\\nthere is no context provided. Please provide the context you'd like me to summarize. I'll be happy to help!   \n",
       "70                                                                                                                                                                                                                                                                                                                                                                                                                                                                                                                                                    \\n\\nhere is a concise and accurate summary of the \\n\\nthe genus cytora comprises 42 species, with 23 of them being first described in 2007, and the shell height is less than 7 mm.   \n",
       "86                                                                                                                                                                                                                                                                                                                                                                                                                                                                                                                                                  \\n\\nthe mile high edge was a w-league soccer club based in denver, colorado, previously known as the mile high mustangs until 2005. The team ceased operations after the 2007 season.   \n",
       "87                                                                                                                                             \\n\\nhere is a concise and accurate summary of the \\n\\nevergreen high school is a public high school in colorado, known for its academic, athletic, and extracurricular excellence. It has won two blue ribbon awards from the us department of education. The school has a long history, dating back to the 19th century, and currently serves students from evergreen and surrounding areas. The school's student demographics are diverse, and its sports teams, the cougars, have a strong rivalry with conifer high school's lobos, with an annual tradition called the mountain bowl.   \n",
       "112                                                                                                                                                                                                                                                                                                                                                                                                                                                                                                                                                                                                                                                                  \\n\\ngeorge brown was a negro league pitcher who played in the 1920s.   \n",
       "134                                                                                                                                                                                                                                       \\n\\nthe chi rho (☧) is an early christogram formed by superimposing the greek letters chi (χ) and rho (ρ) from the word \"christos\" (χριστος). According to lactantius, emperor constantine used this symbol on his soldiers' shields after a dream, leading to his victory in the battle of the milvian bridge in 312 ad. The symbol represents the connection between jesus' crucifixion and resurrection, often surrounded by a wreath to signify the victory of the resurrection over death.   \n",
       "136                                                                                                                                                                                                                                                                                                                         \\n\\nhere is a concise and accurate summary of the \\n\\nin 1868, partial general elections were held in suriname to elect 3 out of 9 members of the colonial states. The 3 members served 6-year terms, with 3 elected every 2 years. Two candidates were elected in the first round, and a runoff was held for the third seat. The governor-general also appointed 4 members, with 1 replacement made in 1869.   \n",
       "139                                                                                                                                                                                                                                                                                                                                                                                                                                          \\n\\nwilbert king was an american athlete who played professional basketball and baseball from 1944 to 1947. He played in the negro leagues for several teams and had a stint in the national basketball league with the detroit gems, averaging 8.2 points per game in the 1946-1947 season.   \n",
       "155                                                                                                                                                                                                                                                                                                                                                                                                                                                                                                                                                                                                      \\n\\nthe caribbean cone snail, found in the caribbean sea off nicaragua and honduras, has a shell size ranging from 19mm to 27mm.   \n",
       "162                                                                                                                                                                                                                                                                                                                                                                                                                                                                                                                                                                                                                                                              \\n\\nkokinac is a village in croatia with a population of 155 as of 2021.   \n",
       "187                                                                                                                                                                                                                                                                                                                                                                                                                                                                                                                        \\n\\nvictor eugenie adere was born in kirikiri, lagos state, and grew up with his family as the first of four children. He attended heritage international school in lagos and ekpan secondary school in warri.   \n",
       "189                                                                                                                                                                                                                                                                                                                                                                                                                                                                                                                                                                   \\n\\nsvetilnoye is a rural locality in amur oblast, russia, with a population of 97 as of 2018, situated on the bolshaya pyora river, 17 km southeast of shimanovsk.   \n",
       "204                                                                                                                                                                                                                                                                                                                                                                                                                                                                                                                                                                                                                             \\n\\nthere is no context provided to summarize. Please provide the context you would like me to summarize.   \n",
       "210                                                                                                                                                                                                                                                                                                                                                                                                                                                                                                                                                                                                                                                                         \\n\\nikaruga is a town located in ikoma district, nara, japan.   \n",
       "213                                                                                                                                                                                                                                                                                                                                                                                                                                                                                                                                                                                                                            \\n\\nlaurynas grigelis and andrea pellegrino, the previous champions, have opted not to defend their title.   \n",
       "221                                                                                                                                                                                                                                                                                                                                                                                                                                               \\n\\nhaff disease is a condition that occurs within 24 hours of eating fish, characterized by rhabdomyolysis (muscle breakdown and swelling) and a risk of acute kidney failure. It was first identified in 1924 in the königsberg area (now kaliningrad, russia) near the baltic coast.   \n",
       "236                                                                                                                                                                                                                                                                                                                                                                                                                                                                                                                             \\n\\nchitipa central is a constituency in malawi's northern region, electing one mp by first-past-the-post system, currently represented by clement fukumele mukumbwa of the democratic progressive party.   \n",
       "265                                                                                                                                                                                                                                                                                                                                                                                                                                                                                                                                                                                                 \\n\\nsimpson was founded in 1890, named after railroad official thomas simpson, and had a post office that operated from 1890 to 1956.   \n",
       "279                                                                                                                                                                                       \\n\\nlottie pearl mitchell (1883-1974) was a multifaceted american figure who served as a probation officer, civil rights activist, and clubwoman. She was the third national president of alpha kappa alpha sorority and a national vice-president of the naacp. Mitchell worked in juvenile courts, chaired the pan-hellenic council and naacp's cleveland chapter, and was involved in various social and cultural organizations. She also pursued music and theatre, and her papers are preserved at the western reserve historical society.   \n",
       "293                                                                                                                                                                                            \\n\\nhere is a concise and accurate summary of the \\n\\nthe community of ulao's name has multiple explanations, including a possible corruption of the spanish word \"ulloa\" or a reference to a native american leader. Ulao was founded by james t. Gifford, who built port ulao on lake michigan in 1847 as a refueling station for steamships, which consumed large amounts of wood for fuel. Gifford constructed a sawmill, warehouse, and pier, using a chute to transport logs down the 140-foot clay bluffs to supply the steamships.   \n",
       "320                                                                                                                                                                                                                                                                                                                                                                                                                                                                                                                                                                                            \\n\\nthere is no context provided to summarize. Please provide the context you would like me to summarize, and i'll be happy to assist you!   \n",
       "321                                                                                                                                                                                                                                                                                  \\n\\nscott vermillion was an american soccer player born on december 23, 1976, and passed away on december 25, 2020. He played for the kansas city wizards and colorado rapids after joining the league in 1998 through generation adidas (formerly project 40). Vermillion was a third team all-american in his junior year at the university of virginia, where his team finished as runner-up in the 1997 ncaa division i men's soccer tournament.   \n",
       "339                                                                                                                                                                                                                                                                                                                                                                                                                                                                                                                                                               \\n\\nronald wayne \"ron\" cutler is a canadian anglican bishop who became bishop of nova scotia and prince edward island in 2014 and later metropolitan of canada in 2017.   \n",
       "343                                                                                                                                                                                                                                                                                                                                                                                                                                                        \\n\\nthomas murray (1564-1623) was a scottish courtier who served in the court of james vi of scotland. He was a poet and presented a latin poem to the king in 1587. Murray married jean drummond, a lady-in-waiting to anne of denmark, and later became the provost of eton.   \n",
       "365                                                                                                                                                                                                                                                                                                                                                                                                                                                                                                                                                                                                             \\n\\nthere is no context provided. Please provide the context you would like me to summarize. I'll be happy to assist you!   \n",
       "366  \\n\\nhere is a concise and accurate summary of the \\n\\nthe anemometer has undergone developments since its invention in the 15th century. Notable improvements include thomas romney robinson's 1846 design with four hemispherical cups, john patterson's 1926 three-cup anemometer, and derek weston's 1991 addition of wind direction measurement. Modern anemometers are used in various applications, including airports and wind turbines, and must be designed to withstand harsh conditions, such as freezing precipitation. To ensure accurate wind speed measurements, anemometers must be placed at a standard height of 10 meters in open rural terrain, and consideration must be given to surrounding terrain features.   \n",
       "399                                                                                                                                                                                                                                                                                                              \\n\\nhere is a concise and accurate summary of the \\n\\nthe house at closter landing was built in the 1760s and had various owners, including maria blackledge and her husband, and later james and rachel kearney, who expanded it to operate as a tavern after james' death in 1831. The house was eventually purchased by the palisades interstate park commission in 1907 and served as a police station in the 1920s.   \n",
       "400                                                                                                                                                                                                                                                                                                                                                                                                                                                      \\n\\nthe warwickslade lawn sssi was in decline due to an artificially deepened cutting, which prevented seasonal flooding of habitats. To restore the site, 10,000 tonnes of hoggin and clay were used to fill in the cutting and reinstate the original pre-1850s stream course.   \n",
       "415                                                                                                                                                                                                                                                                                                                                                                                                                                                                                                                                                                                                                             \\n\\nthere is no context provided to summarize. Please provide the context you would like me to summarize.   \n",
       "425                                                                                                                                                                                                                                                                                                                                                                                                                                                                                                                                                                                                \\n\\nthere is no context provided to summarize. Please provide the context you'd like me to summarize, and i'll be happy to assist you!   \n",
       "440                                                                                                                                                                                                                                                                                                                                                                                                                                                                                                                                                                                                                                          \\n\\nthere is no context provided. Please provide the context you would like me to summarize.   \n",
       "464                                                                                                                                                                                                                                                                                                                                                                                                                        \\n\\nhere is a concise and accurate summary of the \\n\\nlittleton and chatham were platted in 1855 by moses little and dr. Robert w. Wright, respectively. The post office, established in 1851, was initially in chatham but was later moved to littleton in the 1880s. By 1902, littleton's population was 88.   \n",
       "475                                                                                                                                                                                                                                                                                                                                                                                   \\n\\nthe railway line splits from laaer ostbahn near wien stadlau station in vienna, running east to marchegg, crossing the morava river into slovakia, and continuing as the bratislava-marchegg railway line. The line is serviced by vienna s-bahn's s80, regionalzug, and regional-express trains, connecting vienna to marchegg and bratislava.   \n",
       "482                                                                                                                                                                                                                                                                                                                                                                          \\n\\nhere is a concise and accurate summary of the \\n\\nfort washington's 2010 census reported a population of 233, with a density of 1,879.0 inhabitants per square mile. The racial makeup consisted of 89.7% white, 1.7% african american, 0.4% native american, 3.0% asian, and 4.7% from two or more races, with 11.2% identifying as hispanic or latino.   \n",
       "\n",
       "              task  \n",
       "7    summarization  \n",
       "16   summarization  \n",
       "48   summarization  \n",
       "70   summarization  \n",
       "86   summarization  \n",
       "87   summarization  \n",
       "112  summarization  \n",
       "134  summarization  \n",
       "136  summarization  \n",
       "139  summarization  \n",
       "155  summarization  \n",
       "162  summarization  \n",
       "187  summarization  \n",
       "189  summarization  \n",
       "204  summarization  \n",
       "210  summarization  \n",
       "213  summarization  \n",
       "221  summarization  \n",
       "236  summarization  \n",
       "265  summarization  \n",
       "279  summarization  \n",
       "293  summarization  \n",
       "320  summarization  \n",
       "321  summarization  \n",
       "339  summarization  \n",
       "343  summarization  \n",
       "365  summarization  \n",
       "366  summarization  \n",
       "399  summarization  \n",
       "400  summarization  \n",
       "415  summarization  \n",
       "425  summarization  \n",
       "440  summarization  \n",
       "464  summarization  \n",
       "475  summarization  \n",
       "482  summarization  "
      ]
     },
     "execution_count": 20,
     "metadata": {},
     "output_type": "execute_result"
    }
   ],
   "source": [
    "# Set the max width of the columns\n",
    "pd.set_option('display.max_colwidth', 1000)\n",
    "date_f = df[df.task == 'summarization']\n",
    "date_f[['challenge', 'reference', 'task']]"
   ]
  },
  {
   "cell_type": "code",
   "execution_count": 23,
   "metadata": {},
   "outputs": [
    {
     "data": {
      "text/plain": [
       "Series([], Name: proportion, dtype: float64)"
      ]
     },
     "execution_count": 23,
     "metadata": {},
     "output_type": "execute_result"
    }
   ],
   "source": [
    "\n",
    "\n",
    "api = wandb.Api()\n",
    "run = api.run(\"macrocosmos/prompting-validators/m034psa4\")\n",
    "df = run.history()\n",
    "df = df.dropna(subset=['reference'])\n",
    "df.task.value_counts(normalize=True)\n",
    "df[df.reference.str.contains(\"no context\")].task.value_counts(normalize=True)"
   ]
  },
  {
   "cell_type": "code",
   "execution_count": 24,
   "metadata": {},
   "outputs": [
    {
     "data": {
      "text/plain": [
       "Series([], Name: proportion, dtype: float64)"
      ]
     },
     "execution_count": 24,
     "metadata": {},
     "output_type": "execute_result"
    }
   ],
   "source": [
    "df[df.reference.str.contains(\"no context\")].task.value_counts(normalize=True)"
   ]
  },
  {
   "cell_type": "code",
   "execution_count": 16,
   "metadata": {},
   "outputs": [
    {
     "data": {
      "text/plain": [
       "196"
      ]
     },
     "execution_count": 16,
     "metadata": {},
     "output_type": "execute_result"
    }
   ],
   "source": [
    "len(df)"
   ]
  },
  {
   "cell_type": "code",
   "execution_count": 4,
   "metadata": {},
   "outputs": [
    {
     "ename": "CommError",
     "evalue": "It appears that you do not have permission to access the requested resource. Please reach out to the project owner to grant you access. If you have the correct permissions, verify that there are no issues with your networking setup.(Error 404: Not Found)",
     "output_type": "error",
     "traceback": [
      "\u001b[0;31m---------------------------------------------------------------------------\u001b[0m",
      "\u001b[0;31mHTTPError\u001b[0m                                 Traceback (most recent call last)",
      "File \u001b[0;32m/workspace/prompting/.venv/lib/python3.10/site-packages/wandb/sdk/lib/retry.py:131\u001b[0m, in \u001b[0;36mRetry.__call__\u001b[0;34m(self, *args, **kwargs)\u001b[0m\n\u001b[1;32m    130\u001b[0m \u001b[38;5;28;01mtry\u001b[39;00m:\n\u001b[0;32m--> 131\u001b[0m     result \u001b[38;5;241m=\u001b[39m \u001b[38;5;28;43mself\u001b[39;49m\u001b[38;5;241;43m.\u001b[39;49m\u001b[43m_call_fn\u001b[49m\u001b[43m(\u001b[49m\u001b[38;5;241;43m*\u001b[39;49m\u001b[43margs\u001b[49m\u001b[43m,\u001b[49m\u001b[43m \u001b[49m\u001b[38;5;241;43m*\u001b[39;49m\u001b[38;5;241;43m*\u001b[39;49m\u001b[43mkwargs\u001b[49m\u001b[43m)\u001b[49m\n\u001b[1;32m    132\u001b[0m     \u001b[38;5;66;03m# Only print resolved attempts once every minute\u001b[39;00m\n",
      "File \u001b[0;32m/workspace/prompting/.venv/lib/python3.10/site-packages/wandb/apis/public/files.py:172\u001b[0m, in \u001b[0;36mFile.download\u001b[0;34m(self, root, replace, exist_ok, api)\u001b[0m\n\u001b[1;32m    168\u001b[0m         \u001b[38;5;28;01mraise\u001b[39;00m \u001b[38;5;167;01mValueError\u001b[39;00m(\n\u001b[1;32m    169\u001b[0m             \u001b[38;5;124m\"\u001b[39m\u001b[38;5;124mFile already exists, pass replace=True to overwrite or exist_ok=True to leave it as is and don\u001b[39m\u001b[38;5;124m'\u001b[39m\u001b[38;5;124mt error.\u001b[39m\u001b[38;5;124m\"\u001b[39m\n\u001b[1;32m    170\u001b[0m         )\n\u001b[0;32m--> 172\u001b[0m \u001b[43mutil\u001b[49m\u001b[38;5;241;43m.\u001b[39;49m\u001b[43mdownload_file_from_url\u001b[49m\u001b[43m(\u001b[49m\u001b[43mpath\u001b[49m\u001b[43m,\u001b[49m\u001b[43m \u001b[49m\u001b[38;5;28;43mself\u001b[39;49m\u001b[38;5;241;43m.\u001b[39;49m\u001b[43murl\u001b[49m\u001b[43m,\u001b[49m\u001b[43m \u001b[49m\u001b[43mapi\u001b[49m\u001b[38;5;241;43m.\u001b[39;49m\u001b[43mapi_key\u001b[49m\u001b[43m)\u001b[49m\n\u001b[1;32m    173\u001b[0m \u001b[38;5;28;01mreturn\u001b[39;00m \u001b[38;5;28mopen\u001b[39m(path)\n",
      "File \u001b[0;32m/workspace/prompting/.venv/lib/python3.10/site-packages/wandb/util.py:1321\u001b[0m, in \u001b[0;36mdownload_file_from_url\u001b[0;34m(dest_path, source_url, api_key)\u001b[0m\n\u001b[1;32m   1313\u001b[0m response \u001b[38;5;241m=\u001b[39m requests\u001b[38;5;241m.\u001b[39mget(\n\u001b[1;32m   1314\u001b[0m     source_url,\n\u001b[1;32m   1315\u001b[0m     auth\u001b[38;5;241m=\u001b[39mauth,\n\u001b[0;32m   (...)\u001b[0m\n\u001b[1;32m   1319\u001b[0m     timeout\u001b[38;5;241m=\u001b[39m\u001b[38;5;241m5\u001b[39m,\n\u001b[1;32m   1320\u001b[0m )\n\u001b[0;32m-> 1321\u001b[0m \u001b[43mresponse\u001b[49m\u001b[38;5;241;43m.\u001b[39;49m\u001b[43mraise_for_status\u001b[49m\u001b[43m(\u001b[49m\u001b[43m)\u001b[49m\n\u001b[1;32m   1323\u001b[0m \u001b[38;5;28;01mif\u001b[39;00m os\u001b[38;5;241m.\u001b[39msep \u001b[38;5;129;01min\u001b[39;00m dest_path:\n",
      "File \u001b[0;32m/workspace/prompting/.venv/lib/python3.10/site-packages/requests/models.py:1024\u001b[0m, in \u001b[0;36mResponse.raise_for_status\u001b[0;34m(self)\u001b[0m\n\u001b[1;32m   1023\u001b[0m \u001b[38;5;28;01mif\u001b[39;00m http_error_msg:\n\u001b[0;32m-> 1024\u001b[0m     \u001b[38;5;28;01mraise\u001b[39;00m HTTPError(http_error_msg, response\u001b[38;5;241m=\u001b[39m\u001b[38;5;28mself\u001b[39m)\n",
      "\u001b[0;31mHTTPError\u001b[0m: 404 Client Error: Not Found for url: https://api.wandb.ai/files/macrocosmos/prompting-validators/ifdif8uj/logs.txt",
      "\nDuring handling of the above exception, another exception occurred:\n",
      "\u001b[0;31mCommError\u001b[0m                                 Traceback (most recent call last)",
      "Cell \u001b[0;32mIn[4], line 2\u001b[0m\n\u001b[1;32m      1\u001b[0m \u001b[38;5;66;03m# Download the logs from the run\u001b[39;00m\n\u001b[0;32m----> 2\u001b[0m \u001b[43mrun\u001b[49m\u001b[38;5;241;43m.\u001b[39;49m\u001b[43mfile\u001b[49m\u001b[43m(\u001b[49m\u001b[38;5;124;43m\"\u001b[39;49m\u001b[38;5;124;43mlogs.txt\u001b[39;49m\u001b[38;5;124;43m\"\u001b[39;49m\u001b[43m)\u001b[49m\u001b[38;5;241;43m.\u001b[39;49m\u001b[43mdownload\u001b[49m\u001b[43m(\u001b[49m\u001b[43mreplace\u001b[49m\u001b[38;5;241;43m=\u001b[39;49m\u001b[38;5;28;43;01mTrue\u001b[39;49;00m\u001b[43m)\u001b[49m\n\u001b[1;32m      4\u001b[0m \u001b[38;5;66;03m# Load the logs and print the number of times 'AttributeError: 'NoneType' object has no attribute 'isdigit'' appears\u001b[39;00m\n\u001b[1;32m      5\u001b[0m \u001b[38;5;28;01mwith\u001b[39;00m \u001b[38;5;28mopen\u001b[39m(\u001b[38;5;124m\"\u001b[39m\u001b[38;5;124mlogs.txt\u001b[39m\u001b[38;5;124m\"\u001b[39m) \u001b[38;5;28;01mas\u001b[39;00m f:\n",
      "File \u001b[0;32m/workspace/prompting/.venv/lib/python3.10/site-packages/wandb/apis/normalize.py:73\u001b[0m, in \u001b[0;36mnormalize_exceptions.<locals>.wrapper\u001b[0;34m(*args, **kwargs)\u001b[0m\n\u001b[1;32m     69\u001b[0m         \u001b[38;5;28;01mraise\u001b[39;00m CommError(message, err\u001b[38;5;241m.\u001b[39mlast_exception)\u001b[38;5;241m.\u001b[39mwith_traceback(\n\u001b[1;32m     70\u001b[0m             sys\u001b[38;5;241m.\u001b[39mexc_info()[\u001b[38;5;241m2\u001b[39m]\n\u001b[1;32m     71\u001b[0m         )\n\u001b[1;32m     72\u001b[0m \u001b[38;5;28;01mexcept\u001b[39;00m Error \u001b[38;5;28;01mas\u001b[39;00m err:\n\u001b[0;32m---> 73\u001b[0m     \u001b[38;5;28;01mraise\u001b[39;00m err\n\u001b[1;32m     74\u001b[0m \u001b[38;5;28;01mexcept\u001b[39;00m \u001b[38;5;167;01mException\u001b[39;00m \u001b[38;5;28;01mas\u001b[39;00m err:\n\u001b[1;32m     75\u001b[0m     \u001b[38;5;66;03m# gql raises server errors with dict's as strings...\u001b[39;00m\n\u001b[1;32m     76\u001b[0m     \u001b[38;5;28;01mif\u001b[39;00m \u001b[38;5;28mlen\u001b[39m(err\u001b[38;5;241m.\u001b[39margs) \u001b[38;5;241m>\u001b[39m \u001b[38;5;241m0\u001b[39m:\n",
      "File \u001b[0;32m/workspace/prompting/.venv/lib/python3.10/site-packages/wandb/apis/normalize.py:41\u001b[0m, in \u001b[0;36mnormalize_exceptions.<locals>.wrapper\u001b[0;34m(*args, **kwargs)\u001b[0m\n\u001b[1;32m     39\u001b[0m message \u001b[38;5;241m=\u001b[39m \u001b[38;5;124m\"\u001b[39m\u001b[38;5;124mWhoa, you found a bug.\u001b[39m\u001b[38;5;124m\"\u001b[39m\n\u001b[1;32m     40\u001b[0m \u001b[38;5;28;01mtry\u001b[39;00m:\n\u001b[0;32m---> 41\u001b[0m     \u001b[38;5;28;01mreturn\u001b[39;00m \u001b[43mfunc\u001b[49m\u001b[43m(\u001b[49m\u001b[38;5;241;43m*\u001b[39;49m\u001b[43margs\u001b[49m\u001b[43m,\u001b[49m\u001b[43m \u001b[49m\u001b[38;5;241;43m*\u001b[39;49m\u001b[38;5;241;43m*\u001b[39;49m\u001b[43mkwargs\u001b[49m\u001b[43m)\u001b[49m\n\u001b[1;32m     42\u001b[0m \u001b[38;5;28;01mexcept\u001b[39;00m requests\u001b[38;5;241m.\u001b[39mHTTPError \u001b[38;5;28;01mas\u001b[39;00m error:\n\u001b[1;32m     43\u001b[0m     errors \u001b[38;5;241m=\u001b[39m parse_backend_error_messages(error\u001b[38;5;241m.\u001b[39mresponse)\n",
      "File \u001b[0;32m/workspace/prompting/.venv/lib/python3.10/site-packages/wandb/sdk/lib/retry.py:212\u001b[0m, in \u001b[0;36mretriable.<locals>.decorator.<locals>.wrapped_fn\u001b[0;34m(*args, **kargs)\u001b[0m\n\u001b[1;32m    210\u001b[0m \u001b[38;5;129m@functools\u001b[39m\u001b[38;5;241m.\u001b[39mwraps(fn)\n\u001b[1;32m    211\u001b[0m \u001b[38;5;28;01mdef\u001b[39;00m \u001b[38;5;21mwrapped_fn\u001b[39m(\u001b[38;5;241m*\u001b[39margs: Any, \u001b[38;5;241m*\u001b[39m\u001b[38;5;241m*\u001b[39mkargs: Any) \u001b[38;5;241m-\u001b[39m\u001b[38;5;241m>\u001b[39m Any:\n\u001b[0;32m--> 212\u001b[0m     \u001b[38;5;28;01mreturn\u001b[39;00m \u001b[43mretrier\u001b[49m\u001b[43m(\u001b[49m\u001b[38;5;241;43m*\u001b[39;49m\u001b[43margs\u001b[49m\u001b[43m,\u001b[49m\u001b[43m \u001b[49m\u001b[38;5;241;43m*\u001b[39;49m\u001b[38;5;241;43m*\u001b[39;49m\u001b[43mkargs\u001b[49m\u001b[43m)\u001b[49m\n",
      "File \u001b[0;32m/workspace/prompting/.venv/lib/python3.10/site-packages/wandb/sdk/lib/retry.py:147\u001b[0m, in \u001b[0;36mRetry.__call__\u001b[0;34m(self, *args, **kwargs)\u001b[0m\n\u001b[1;32m    144\u001b[0m     \u001b[38;5;28;01mreturn\u001b[39;00m result\n\u001b[1;32m    145\u001b[0m \u001b[38;5;28;01mexcept\u001b[39;00m \u001b[38;5;28mself\u001b[39m\u001b[38;5;241m.\u001b[39m_retryable_exceptions \u001b[38;5;28;01mas\u001b[39;00m e:\n\u001b[1;32m    146\u001b[0m     \u001b[38;5;66;03m# if the secondary check fails, re-raise\u001b[39;00m\n\u001b[0;32m--> 147\u001b[0m     retry_timedelta_triggered \u001b[38;5;241m=\u001b[39m \u001b[43mcheck_retry_fn\u001b[49m\u001b[43m(\u001b[49m\u001b[43me\u001b[49m\u001b[43m)\u001b[49m\n\u001b[1;32m    148\u001b[0m     \u001b[38;5;28;01mif\u001b[39;00m \u001b[38;5;129;01mnot\u001b[39;00m retry_timedelta_triggered:\n\u001b[1;32m    149\u001b[0m         \u001b[38;5;28;01mraise\u001b[39;00m\n",
      "File \u001b[0;32m/workspace/prompting/.venv/lib/python3.10/site-packages/wandb/util.py:910\u001b[0m, in \u001b[0;36mno_retry_auth\u001b[0;34m(e)\u001b[0m\n\u001b[1;32m    908\u001b[0m     \u001b[38;5;28;01mraise\u001b[39;00m CommError(\u001b[38;5;124mf\u001b[39m\u001b[38;5;124m\"\u001b[39m\u001b[38;5;124mPermission denied to access \u001b[39m\u001b[38;5;132;01m{\u001b[39;00mwandb\u001b[38;5;241m.\u001b[39mrun\u001b[38;5;241m.\u001b[39mpath\u001b[38;5;132;01m}\u001b[39;00m\u001b[38;5;124m\"\u001b[39m)\n\u001b[1;32m    909\u001b[0m \u001b[38;5;28;01melse\u001b[39;00m:\n\u001b[0;32m--> 910\u001b[0m     \u001b[38;5;28;01mraise\u001b[39;00m CommError(\n\u001b[1;32m    911\u001b[0m         \u001b[38;5;124m\"\u001b[39m\u001b[38;5;124mIt appears that you do not have permission to access the requested resource. \u001b[39m\u001b[38;5;124m\"\u001b[39m\n\u001b[1;32m    912\u001b[0m         \u001b[38;5;124m\"\u001b[39m\u001b[38;5;124mPlease reach out to the project owner to grant you access. \u001b[39m\u001b[38;5;124m\"\u001b[39m\n\u001b[1;32m    913\u001b[0m         \u001b[38;5;124m\"\u001b[39m\u001b[38;5;124mIf you have the correct permissions, verify that there are no issues with your networking setup.\u001b[39m\u001b[38;5;124m\"\u001b[39m\n\u001b[1;32m    914\u001b[0m         \u001b[38;5;124mf\u001b[39m\u001b[38;5;124m\"\u001b[39m\u001b[38;5;124m(Error \u001b[39m\u001b[38;5;132;01m{\u001b[39;00me\u001b[38;5;241m.\u001b[39mresponse\u001b[38;5;241m.\u001b[39mstatus_code\u001b[38;5;132;01m}\u001b[39;00m\u001b[38;5;124m: \u001b[39m\u001b[38;5;132;01m{\u001b[39;00me\u001b[38;5;241m.\u001b[39mresponse\u001b[38;5;241m.\u001b[39mreason\u001b[38;5;132;01m}\u001b[39;00m\u001b[38;5;124m)\u001b[39m\u001b[38;5;124m\"\u001b[39m\n\u001b[1;32m    915\u001b[0m     )\n",
      "\u001b[0;31mCommError\u001b[0m: It appears that you do not have permission to access the requested resource. Please reach out to the project owner to grant you access. If you have the correct permissions, verify that there are no issues with your networking setup.(Error 404: Not Found)"
     ]
    }
   ],
   "source": [
    "# Download the logs from the run\n",
    "run.file(\"logs.txt\").download(replace=True)\n",
    "\n",
    "# Load the logs and print the number of times 'AttributeError: 'NoneType' object has no attribute 'isdigit'' appears\n",
    "with open(\"logs.txt\") as f:\n",
    "    logs = f.read()\n",
    "    print(logs.count(\"AttributeError: 'NoneType' object has no attribute 'isdigit'\"))"
   ]
  },
  {
   "cell_type": "code",
   "execution_count": 1,
   "metadata": {},
   "outputs": [
    {
     "name": "stderr",
     "output_type": "stream",
     "text": [
      "/workspace/prompting/.venv/lib/python3.10/site-packages/tqdm/auto.py:21: TqdmWarning: IProgress not found. Please update jupyter and ipywidgets. See https://ipywidgets.readthedocs.io/en/stable/user_install.html\n",
      "  from .autonotebook import tqdm as notebook_tqdm\n",
      "2024-07-22 13:28:29,780\tINFO util.py:154 -- Missing packages: ['ipywidgets']. Run `pip install -U ipywidgets`, then restart the notebook server for rich notebook output.\n"
     ]
    }
   ],
   "source": [
    "# Import all functions from /workspace/prompting/prompting/tools/datasets/wiki.py\n",
    "from prompting.tools.datasets.wiki import *\n"
   ]
  },
  {
   "cell_type": "code",
   "execution_count": 2,
   "metadata": {},
   "outputs": [],
   "source": [
    "data = WikiDataset()"
   ]
  },
  {
   "cell_type": "code",
   "execution_count": 3,
   "metadata": {},
   "outputs": [
    {
     "data": {
      "text/html": [
       "<pre style=\"white-space:pre;overflow-x:auto;line-height:normal;font-family:Menlo,'DejaVu Sans Mono',consolas,'Courier New',monospace\"><span style=\"color: #800000; text-decoration-color: #800000\">╭─────────────────────────────── </span><span style=\"color: #800000; text-decoration-color: #800000; font-weight: bold\">Traceback </span><span style=\"color: #bf7f7f; text-decoration-color: #bf7f7f; font-weight: bold\">(most recent call last)</span><span style=\"color: #800000; text-decoration-color: #800000\"> ────────────────────────────────╮</span>\n",
       "<span style=\"color: #800000; text-decoration-color: #800000\">│</span> in <span style=\"color: #00ff00; text-decoration-color: #00ff00\">&lt;module&gt;</span>:<span style=\"color: #0000ff; text-decoration-color: #0000ff\">1</span>                                                                                    <span style=\"color: #800000; text-decoration-color: #800000\">│</span>\n",
       "<span style=\"color: #800000; text-decoration-color: #800000\">│</span>                                                                                                  <span style=\"color: #800000; text-decoration-color: #800000\">│</span>\n",
       "<span style=\"color: #800000; text-decoration-color: #800000\">│</span> <span style=\"color: #800000; text-decoration-color: #800000\">❱ </span>1 page = data.random(selector=random.choice)                                                   <span style=\"color: #800000; text-decoration-color: #800000\">│</span>\n",
       "<span style=\"color: #800000; text-decoration-color: #800000\">│</span>   <span style=\"color: #7f7f7f; text-decoration-color: #7f7f7f\">2 </span><span style=\"color: #00ffff; text-decoration-color: #00ffff\">print</span>(page.title)                                                                            <span style=\"color: #800000; text-decoration-color: #800000\">│</span>\n",
       "<span style=\"color: #800000; text-decoration-color: #800000\">│</span>   <span style=\"color: #7f7f7f; text-decoration-color: #7f7f7f\">3 </span>                                                                                             <span style=\"color: #800000; text-decoration-color: #800000\">│</span>\n",
       "<span style=\"color: #800000; text-decoration-color: #800000\">│</span>                                                                                                  <span style=\"color: #800000; text-decoration-color: #800000\">│</span>\n",
       "<span style=\"color: #800000; text-decoration-color: #800000\">│</span> <span style=\"color: #bfbf7f; text-decoration-color: #bfbf7f\">/workspace/prompting/prompting/tools/datasets/</span><span style=\"color: #808000; text-decoration-color: #808000; font-weight: bold\">wiki.py</span>:<span style=\"color: #0000ff; text-decoration-color: #0000ff\">255</span> in <span style=\"color: #00ff00; text-decoration-color: #00ff00\">random</span>                              <span style=\"color: #800000; text-decoration-color: #800000\">│</span>\n",
       "<span style=\"color: #800000; text-decoration-color: #800000\">│</span>                                                                                                  <span style=\"color: #800000; text-decoration-color: #800000\">│</span>\n",
       "<span style=\"color: #800000; text-decoration-color: #800000\">│</span>   <span style=\"color: #7f7f7f; text-decoration-color: #7f7f7f\">252 </span><span style=\"color: #7f7f7f; text-decoration-color: #7f7f7f\">│   │   │   </span><span style=\"color: #0000ff; text-decoration-color: #0000ff\">else</span> _get_random_titles(pages=pages, seed=seed)                                <span style=\"color: #800000; text-decoration-color: #800000\">│</span>\n",
       "<span style=\"color: #800000; text-decoration-color: #800000\">│</span>   <span style=\"color: #7f7f7f; text-decoration-color: #7f7f7f\">253 </span><span style=\"color: #7f7f7f; text-decoration-color: #7f7f7f\">│   │   </span>)                                                                                  <span style=\"color: #800000; text-decoration-color: #800000\">│</span>\n",
       "<span style=\"color: #800000; text-decoration-color: #800000\">│</span>   <span style=\"color: #7f7f7f; text-decoration-color: #7f7f7f\">254 </span><span style=\"color: #7f7f7f; text-decoration-color: #7f7f7f\">│   │   </span>title = selector(titles)                                                           <span style=\"color: #800000; text-decoration-color: #800000\">│</span>\n",
       "<span style=\"color: #800000; text-decoration-color: #800000\">│</span> <span style=\"color: #800000; text-decoration-color: #800000\">❱ </span>255 <span style=\"color: #7f7f7f; text-decoration-color: #7f7f7f\">│   │   </span><span style=\"color: #0000ff; text-decoration-color: #0000ff\">return</span> <span style=\"color: #00ffff; text-decoration-color: #00ffff\">self</span>.get(title, selector=selector)                                          <span style=\"color: #800000; text-decoration-color: #800000\">│</span>\n",
       "<span style=\"color: #800000; text-decoration-color: #800000\">│</span>   <span style=\"color: #7f7f7f; text-decoration-color: #7f7f7f\">256 </span>                                                                                           <span style=\"color: #800000; text-decoration-color: #800000\">│</span>\n",
       "<span style=\"color: #800000; text-decoration-color: #800000\">│</span>   <span style=\"color: #7f7f7f; text-decoration-color: #7f7f7f\">257 </span>                                                                                           <span style=\"color: #800000; text-decoration-color: #800000\">│</span>\n",
       "<span style=\"color: #800000; text-decoration-color: #800000\">│</span>   <span style=\"color: #7f7f7f; text-decoration-color: #7f7f7f\">258 </span><span style=\"color: #0000ff; text-decoration-color: #0000ff\">class</span> <span style=\"color: #00ff00; text-decoration-color: #00ff00; text-decoration: underline\">WikiDateDataset</span>(Dataset):                                                            <span style=\"color: #800000; text-decoration-color: #800000\">│</span>\n",
       "<span style=\"color: #800000; text-decoration-color: #800000\">│</span>                                                                                                  <span style=\"color: #800000; text-decoration-color: #800000\">│</span>\n",
       "<span style=\"color: #800000; text-decoration-color: #800000\">│</span> <span style=\"color: #bfbf7f; text-decoration-color: #bfbf7f\">/workspace/prompting/prompting/tools/datasets/</span><span style=\"color: #808000; text-decoration-color: #808000; font-weight: bold\">wiki.py</span>:<span style=\"color: #0000ff; text-decoration-color: #0000ff\">218</span> in <span style=\"color: #00ff00; text-decoration-color: #00ff00\">get</span>                                 <span style=\"color: #800000; text-decoration-color: #800000\">│</span>\n",
       "<span style=\"color: #800000; text-decoration-color: #800000\">│</span>                                                                                                  <span style=\"color: #800000; text-decoration-color: #800000\">│</span>\n",
       "<span style=\"color: #800000; text-decoration-color: #800000\">│</span>   <span style=\"color: #7f7f7f; text-decoration-color: #7f7f7f\">215 </span><span style=\"color: #7f7f7f; text-decoration-color: #7f7f7f\">│   │   │   </span>section_length = <span style=\"color: #00ffff; text-decoration-color: #00ffff\">len</span>(content.split())                                          <span style=\"color: #800000; text-decoration-color: #800000\">│</span>\n",
       "<span style=\"color: #800000; text-decoration-color: #800000\">│</span>   <span style=\"color: #7f7f7f; text-decoration-color: #7f7f7f\">216 </span><span style=\"color: #7f7f7f; text-decoration-color: #7f7f7f\">│   │   │   </span>topic = <span style=\"color: #808000; text-decoration-color: #808000\">\"All Sections\"</span>                                                         <span style=\"color: #800000; text-decoration-color: #800000\">│</span>\n",
       "<span style=\"color: #800000; text-decoration-color: #800000\">│</span>   <span style=\"color: #7f7f7f; text-decoration-color: #7f7f7f\">217 </span><span style=\"color: #7f7f7f; text-decoration-color: #7f7f7f\">│   │   </span><span style=\"color: #0000ff; text-decoration-color: #0000ff\">else</span>:                                                                              <span style=\"color: #800000; text-decoration-color: #800000\">│</span>\n",
       "<span style=\"color: #800000; text-decoration-color: #800000\">│</span> <span style=\"color: #800000; text-decoration-color: #800000\">❱ </span>218 <span style=\"color: #7f7f7f; text-decoration-color: #7f7f7f\">│   │   │   </span>key = header, section_title = selector(<span style=\"color: #00ffff; text-decoration-color: #00ffff\">list</span>(sections.keys()))                  <span style=\"color: #800000; text-decoration-color: #800000\">│</span>\n",
       "<span style=\"color: #800000; text-decoration-color: #800000\">│</span>   <span style=\"color: #7f7f7f; text-decoration-color: #7f7f7f\">219 </span><span style=\"color: #7f7f7f; text-decoration-color: #7f7f7f\">│   │   │   </span>content = <span style=\"color: #808000; text-decoration-color: #808000\">\"\\n\"</span>.join(sections[key])                                             <span style=\"color: #800000; text-decoration-color: #800000\">│</span>\n",
       "<span style=\"color: #800000; text-decoration-color: #800000\">│</span>   <span style=\"color: #7f7f7f; text-decoration-color: #7f7f7f\">220 </span><span style=\"color: #7f7f7f; text-decoration-color: #7f7f7f\">│   │   │   </span>section_length = <span style=\"color: #00ffff; text-decoration-color: #00ffff\">len</span>(content.split())                                          <span style=\"color: #800000; text-decoration-color: #800000\">│</span>\n",
       "<span style=\"color: #800000; text-decoration-color: #800000\">│</span>   <span style=\"color: #7f7f7f; text-decoration-color: #7f7f7f\">221 </span><span style=\"color: #7f7f7f; text-decoration-color: #7f7f7f\">│   │   │   </span>topic = header <span style=\"color: #ff00ff; text-decoration-color: #ff00ff\">or</span> section_title                                                <span style=\"color: #800000; text-decoration-color: #800000\">│</span>\n",
       "<span style=\"color: #800000; text-decoration-color: #800000\">╰──────────────────────────────────────────────────────────────────────────────────────────────────╯</span>\n",
       "<span style=\"color: #ff0000; text-decoration-color: #ff0000; font-weight: bold\">ValueError: </span>too many values to unpack <span style=\"font-weight: bold\">(</span>expected <span style=\"color: #008080; text-decoration-color: #008080; font-weight: bold\">2</span><span style=\"font-weight: bold\">)</span>\n",
       "</pre>\n"
      ],
      "text/plain": [
       "\u001b[31m╭─\u001b[0m\u001b[31m──────────────────────────────\u001b[0m\u001b[31m \u001b[0m\u001b[1;31mTraceback \u001b[0m\u001b[1;2;31m(most recent call last)\u001b[0m\u001b[31m \u001b[0m\u001b[31m───────────────────────────────\u001b[0m\u001b[31m─╮\u001b[0m\n",
       "\u001b[31m│\u001b[0m in \u001b[92m<module>\u001b[0m:\u001b[94m1\u001b[0m                                                                                    \u001b[31m│\u001b[0m\n",
       "\u001b[31m│\u001b[0m                                                                                                  \u001b[31m│\u001b[0m\n",
       "\u001b[31m│\u001b[0m \u001b[31m❱ \u001b[0m1 page = data.random(selector=random.choice)                                                   \u001b[31m│\u001b[0m\n",
       "\u001b[31m│\u001b[0m   \u001b[2m2 \u001b[0m\u001b[96mprint\u001b[0m(page.title)                                                                            \u001b[31m│\u001b[0m\n",
       "\u001b[31m│\u001b[0m   \u001b[2m3 \u001b[0m                                                                                             \u001b[31m│\u001b[0m\n",
       "\u001b[31m│\u001b[0m                                                                                                  \u001b[31m│\u001b[0m\n",
       "\u001b[31m│\u001b[0m \u001b[2;33m/workspace/prompting/prompting/tools/datasets/\u001b[0m\u001b[1;33mwiki.py\u001b[0m:\u001b[94m255\u001b[0m in \u001b[92mrandom\u001b[0m                              \u001b[31m│\u001b[0m\n",
       "\u001b[31m│\u001b[0m                                                                                                  \u001b[31m│\u001b[0m\n",
       "\u001b[31m│\u001b[0m   \u001b[2m252 \u001b[0m\u001b[2m│   │   │   \u001b[0m\u001b[94melse\u001b[0m _get_random_titles(pages=pages, seed=seed)                                \u001b[31m│\u001b[0m\n",
       "\u001b[31m│\u001b[0m   \u001b[2m253 \u001b[0m\u001b[2m│   │   \u001b[0m)                                                                                  \u001b[31m│\u001b[0m\n",
       "\u001b[31m│\u001b[0m   \u001b[2m254 \u001b[0m\u001b[2m│   │   \u001b[0mtitle = selector(titles)                                                           \u001b[31m│\u001b[0m\n",
       "\u001b[31m│\u001b[0m \u001b[31m❱ \u001b[0m255 \u001b[2m│   │   \u001b[0m\u001b[94mreturn\u001b[0m \u001b[96mself\u001b[0m.get(title, selector=selector)                                          \u001b[31m│\u001b[0m\n",
       "\u001b[31m│\u001b[0m   \u001b[2m256 \u001b[0m                                                                                           \u001b[31m│\u001b[0m\n",
       "\u001b[31m│\u001b[0m   \u001b[2m257 \u001b[0m                                                                                           \u001b[31m│\u001b[0m\n",
       "\u001b[31m│\u001b[0m   \u001b[2m258 \u001b[0m\u001b[94mclass\u001b[0m \u001b[4;92mWikiDateDataset\u001b[0m(Dataset):                                                            \u001b[31m│\u001b[0m\n",
       "\u001b[31m│\u001b[0m                                                                                                  \u001b[31m│\u001b[0m\n",
       "\u001b[31m│\u001b[0m \u001b[2;33m/workspace/prompting/prompting/tools/datasets/\u001b[0m\u001b[1;33mwiki.py\u001b[0m:\u001b[94m218\u001b[0m in \u001b[92mget\u001b[0m                                 \u001b[31m│\u001b[0m\n",
       "\u001b[31m│\u001b[0m                                                                                                  \u001b[31m│\u001b[0m\n",
       "\u001b[31m│\u001b[0m   \u001b[2m215 \u001b[0m\u001b[2m│   │   │   \u001b[0msection_length = \u001b[96mlen\u001b[0m(content.split())                                          \u001b[31m│\u001b[0m\n",
       "\u001b[31m│\u001b[0m   \u001b[2m216 \u001b[0m\u001b[2m│   │   │   \u001b[0mtopic = \u001b[33m\"\u001b[0m\u001b[33mAll Sections\u001b[0m\u001b[33m\"\u001b[0m                                                         \u001b[31m│\u001b[0m\n",
       "\u001b[31m│\u001b[0m   \u001b[2m217 \u001b[0m\u001b[2m│   │   \u001b[0m\u001b[94melse\u001b[0m:                                                                              \u001b[31m│\u001b[0m\n",
       "\u001b[31m│\u001b[0m \u001b[31m❱ \u001b[0m218 \u001b[2m│   │   │   \u001b[0mkey = header, section_title = selector(\u001b[96mlist\u001b[0m(sections.keys()))                  \u001b[31m│\u001b[0m\n",
       "\u001b[31m│\u001b[0m   \u001b[2m219 \u001b[0m\u001b[2m│   │   │   \u001b[0mcontent = \u001b[33m\"\u001b[0m\u001b[33m\\n\u001b[0m\u001b[33m\"\u001b[0m.join(sections[key])                                             \u001b[31m│\u001b[0m\n",
       "\u001b[31m│\u001b[0m   \u001b[2m220 \u001b[0m\u001b[2m│   │   │   \u001b[0msection_length = \u001b[96mlen\u001b[0m(content.split())                                          \u001b[31m│\u001b[0m\n",
       "\u001b[31m│\u001b[0m   \u001b[2m221 \u001b[0m\u001b[2m│   │   │   \u001b[0mtopic = header \u001b[95mor\u001b[0m section_title                                                \u001b[31m│\u001b[0m\n",
       "\u001b[31m╰──────────────────────────────────────────────────────────────────────────────────────────────────╯\u001b[0m\n",
       "\u001b[1;91mValueError: \u001b[0mtoo many values to unpack \u001b[1m(\u001b[0mexpected \u001b[1;36m2\u001b[0m\u001b[1m)\u001b[0m\n"
      ]
     },
     "metadata": {},
     "output_type": "display_data"
    }
   ],
   "source": [
    "page = data.random(selector=random.choice)\n",
    "print(page.title)"
   ]
  },
  {
   "cell_type": "code",
   "execution_count": null,
   "metadata": {},
   "outputs": [
    {
     "data": {
      "text/plain": [
       "dict"
      ]
     },
     "execution_count": 19,
     "metadata": {},
     "output_type": "execute_result"
    }
   ],
   "source": [
    "type(data.get(name = 'Bridge (dentistry)', selector=random.choice))"
   ]
  },
  {
   "cell_type": "code",
   "execution_count": 14,
   "metadata": {},
   "outputs": [
    {
     "data": {
      "text/plain": [
       "{'title': 'Bridge (dentistry)',\n",
       " 'topic': 'Bridge failures',\n",
       " 'subtopic': 'Bridge failure management',\n",
       " 'content': 'Management of bridge failures depends upon the extent and type of failure and these can be prevented through forming a thorough treatment plan with the patient as well regularly emphasising the importance of maintaining a very good level of oral hygiene after the bridge has been placed. The importance of cleaning underneath the pontic, through the use of interdental cleaning aids, should also be reinforced as plaque control around fixed restorations is more difficult.\\nManagement options include:\\n\\nKeeping the bridge under observation/review\\nRepairing, replacing or removing the fault',\n",
       " 'internal_links': ['hey'],\n",
       " 'external_links': ['Dental restoration',\n",
       "  'Human tooth',\n",
       "  'Maryland bridge',\n",
       "  'Resin-retained bridge',\n",
       "  'Rochette bridge',\n",
       "  'Resin retained bridge',\n",
       "  'Commonly used terms of relationship and comparison in dentistry',\n",
       "  'Acrylic resin',\n",
       "  'Alveolar ridge',\n",
       "  \"Ante's law\"],\n",
       " 'tags': ['Prosthodontology', 'Restorative dentistry'],\n",
       " 'source': 'Wikipedia',\n",
       " 'extra': {'url': 'https://en.wikipedia.org/wiki/Bridge_(dentistry)',\n",
       "  'page_length': 3731,\n",
       "  'section_length': 88}}"
      ]
     },
     "execution_count": 14,
     "metadata": {},
     "output_type": "execute_result"
    }
   ],
   "source": [
    "p = data.get(name = 'Bridge (dentistry)', selector=random.choice)\n",
    "p['internal_links'] = ['hey']\n",
    "p"
   ]
  },
  {
   "cell_type": "code",
   "execution_count": 17,
   "metadata": {},
   "outputs": [
    {
     "data": {
      "text/plain": [
       "'Management of bridge failures depends upon the extent and type of failure and these can be prevented through forming a thorough treatment plan with the patient as well regularly emphasising the importance of maintaining a very good level of oral hygiene after the bridge has been placed. The importance of cleaning underneath the pontic, through the use of interdental cleaning aids, should also be reinforced as plaque control around fixed restorations is more difficult.\\nManagement options include:\\n\\nKeeping the bridge under observation/review\\nRepairing, replacing or removing the fault'"
      ]
     },
     "execution_count": 17,
     "metadata": {},
     "output_type": "execute_result"
    }
   ],
   "source": [
    "p['content']"
   ]
  },
  {
   "cell_type": "code",
   "execution_count": 7,
   "metadata": {},
   "outputs": [],
   "source": [
    "def _get_page(\n",
    "    title, pageid=None, auto_suggest=False, redirect=True, seed=None\n",
    ") -> wiki.WikipediaPage:\n",
    "    \"\"\"Cached Wikipedia page loading.\"\"\"\n",
    "    try:\n",
    "        page = wiki.page(\n",
    "            title=title, pageid=pageid, auto_suggest=auto_suggest, redirect=redirect\n",
    "        )\n",
    "        # create sections manually if not found\n",
    "        if not page.sections:\n",
    "            print(\"Manually Creating Sections\")\n",
    "            page._sections = [\n",
    "                line.strip(\"= \")\n",
    "                for line in page.content.splitlines()\n",
    "                if re.search(r\"=+\\s+.*\\s+=+\", line)\n",
    "            ]\n",
    "        return page\n",
    "\n",
    "    except wiki.DisambiguationError as e:\n",
    "        bt.logging.debug(f\"{e.__class__.__name__} loading page {title!r}: {e}\")\n",
    "        # exc info contains a tuple of (requested_title: str, possible_matches: List[str])\n",
    "        pages = sys.exc_info()[1].args[1]\n",
    "        if not type(pages) == list:\n",
    "            return None\n",
    "        title = random.Random(seed).choice(pages)\n",
    "        return _get_page(title, auto_suggest=auto_suggest, redirect=redirect)\n",
    "\n",
    "    except wiki.PageError as e:\n",
    "        bt.logging.warning(f\"{e.__class__.__name__} loading page {title!r}: {e}\")\n",
    "        if not auto_suggest:\n",
    "            return _get_page(title, auto_suggest=True, redirect=redirect)\n",
    "        return None"
   ]
  },
  {
   "cell_type": "code",
   "execution_count": 8,
   "metadata": {},
   "outputs": [],
   "source": [
    "page = _get_page('Anneslie Historic District')"
   ]
  },
  {
   "cell_type": "code",
   "execution_count": 11,
   "metadata": {},
   "outputs": [
    {
     "data": {
      "text/plain": [
       "'The Anneslie Historic District () encompasses a residential area just north of the city line of Baltimore, Maryland in Towson.  It is a grid of five streets extending eastward from York Avenue and south from Regester Avenue.  The area was platted out in 1922 and mostly built out by the 1950s.  Properties in the northern section of the district, on Regester Avenue, Murdock, Anneslie, and Dunkirk Roads, were built in the 1920s and 1930s, in Bungalow, Foursquare, and cottage styles, while the streets further south were built out primarily with Cape, Tudor, and Colonial style houses. The district takes its name from Anneslie estate, whose house still stands in the district.\\nThe district was added to the National Register of Historic Places in 2012.\\n\\nNational Register of Historic Places listings in Baltimore County, Maryland\\n\\nAnneslie Historic District, Baltimore County, including undated photo, at Maryland Historical Trust'"
      ]
     },
     "execution_count": 11,
     "metadata": {},
     "output_type": "execute_result"
    }
   ],
   "source": [
    "page.content"
   ]
  },
  {
   "cell_type": "code",
   "execution_count": 31,
   "metadata": {},
   "outputs": [],
   "source": [
    "def process_page(\n",
    "    page, valid_header: callable = None, valid_content: callable = None\n",
    ") -> Dict:\n",
    "    \"\"\"Process a Wikipedia page and return a dictionary of sections with their content.\n",
    "\n",
    "    Args:\n",
    "        page: wikipedia.WikipediaPage\n",
    "        valid_header: callable to determine if a section header is valid\n",
    "        valid_content: callable to determine if a section content is valid\n",
    "    Returns:\n",
    "        dict: dictionary of sections and their content. Note that keys are tuples (header, section_title)\n",
    "    \"\"\"\n",
    "    header = \"\"\n",
    "    sections = {}\n",
    "\n",
    "    for section_title in page.sections:\n",
    "        content = page.section(section_title)\n",
    "        if not content:\n",
    "            header = section_title\n",
    "            continue\n",
    "\n",
    "        # Filter out sections that don't match the headers and/or are not valid\n",
    "        if (valid_header and not valid_header(header)) or (\n",
    "            valid_content and not valid_content(content)\n",
    "        ):\n",
    "            continue\n",
    "\n",
    "        key = (header, section_title)\n",
    "        sections[key] = content.splitlines()\n",
    "\n",
    "    if not sections:\n",
    "        bt.logging.debug(f\"No valid sections found in page {page.title!r} ({page.url})\")\n",
    "\n",
    "    return sections"
   ]
  },
  {
   "cell_type": "code",
   "execution_count": 34,
   "metadata": {},
   "outputs": [],
   "source": [
    "EXCLUDE_HEADERS = (\"See also\", \"References\", \"Further reading\", \"External links\")\n",
    "exclude = list(EXCLUDE_HEADERS)\n",
    "include = None\n",
    "sections = process_page(\n",
    "            page,\n",
    "            valid_header=lambda x: x not in exclude and (not include or x in include),\n",
    "            valid_content=lambda x: len(x.split()) >= 50,\n",
    "        )"
   ]
  },
  {
   "cell_type": "code",
   "execution_count": 35,
   "metadata": {},
   "outputs": [
    {
     "data": {
      "text/plain": [
       "{('',\n",
       "  'Definitions'): ['Fixed bridge:  A dental prosthesis that is definitively attached to natural teeth and replaces missing teeth.', 'Abutment: The tooth that supports and retains a dental prosthesis.', 'Pontic: The artificial tooth that replaces a missing natural tooth.', 'Retainer: The component attached to the abutment for retention of the prosthesis. Retainers can be major or minor.', 'Unit: Pontics and abutment teeth are referred to as units. The total number of units in a bridge is equal to the number of pontics plus the number of abutment teeth.', 'Saddle: The area on the alveolar ridge which is edentulous where at least one missing tooth is to be reinstated.', 'Connector: Joins the pontic to the retainer or two retainers together. Connectors may be fixed or movable.', 'Span: The length of the alveolar ridge between the natural teeth where the bridge will be placed.', 'Resin bonded bridge: A dental prostheses where the pontic is connected to the surface of natural teeth which are either unprepared or minimally prepared.'],\n",
       " ('Types of bridge',\n",
       "  'Conventional bridge'): ['Conventional bridges are bridges that are supported by full coverage crowns, three-quarter crowns, post-retained crowns, onlays and inlays on the abutment teeth. In these types of bridges, the abutment teeth require preparation and reduction to support the prosthesis.  Conventional bridges are named depending on the way the pontic (false teeth) is attached to the retainer.'],\n",
       " ('Fixed-movable',\n",
       "  'Resin-bonded bridge'): ['An alternative to the traditional bridge is the resin-bonded or adhesive bridge (also called a Maryland bridge). An resin-bonded bridge utilises retainer \"wings\" on the sides of the pontic which attach it to the etched enamel of the abutment teeth. Abutment teeth require minor or no preparation.  They are most often used when the abutment teeth are whole and sound (i.e., no crowns or major fillings). Single retainer cantilever resin-bonded bridges have less complications than end-to-end resin-bonded bridges with retainer wings on both sides.'],\n",
       " ('Case selection and treatment planning',\n",
       "  'Case selection'): ['Appropriate case selection is important when considering the provision of fixed bridgework. Patient expectations should be discussed and a thorough patient history should be obtained. Replacement of missing teeth with fixed bridgework may not always be indicated and both patient factors alongside restorative factors should be considered before deciding if providing fixed bridgework is appropriate.  The survival rate of bridgework can be affected by the span of bridge needed, the proposed position of the bridge, and the size, shape, number and condition of planned abutment teeth. Furthermore, any active disease including caries or periodontal disease should be treated and followed by a period of maintenance to ensure patient compliance in maintaining appropriate oral hygiene.', 'Study models mounted on a semi-adjustable articulator using a facebow record are a useful aid to study occlusion prior to provision of a fixed prosthesis. They may also be used to practice planned tooth preparation. Subsequently, a diagnostic wax up can be provided to help the patient visualise the final prosthesis and to construct a silicone index. This index can be used to make a temporary prosthesis.'],\n",
       " ('Case selection and treatment planning',\n",
       "  'Selection and evaluation of abutment teeth'): ['Multiple factors influence the selection of appropriate abutment teeth. These include the size of potential abutment tooth, with larger teeth having an increased surface area preferable for retention, using teeth with a stable periodontal status, favourable tooth angulation, favourable tooth position, and an adequate crown-root ratio.',\n",
       "  'Careful abutment selection is critical for the success of bridgework. The prosthesis must be capable of tolerating occlusal forces, which would normally be received by the missing tooth as well as its normal occlusal loading. These forces are transmitted to the abutment(s) via the prosthesis.',\n",
       "  'Vital teeth are preferred to endodontically treated ones for bridge abutments. Endodontically treated teeth have lost a large amount of tooth structure, weakening them and making them less able to tolerate additional occlusal loading. Post crowns have been shown in some studies to have a higher failure rate.',\n",
       "  'For resin bonded bridges abutment teeth should ideally be unrestored and have enough enamel to support the metal wing retainer. Additionally there must be sufficient space to accommodate the minimum connector width of 0.7mm and 2mm connector height. It is acceptable for the abutment to be minimally restored with small composite restorations provided they are sound. It is advised to replace old composite restorations prior to cementation to provide optimum bond strength via the oxide layer.',\n",
       "  'Teeth with active disease such as caries or periodontal disease should not be used as abutments until the disease has been stabilised. Once stable periodontally compromised teeth may be used as abutments, depending on the crown to root ratio described below.',\n",
       "  \"Ante's law, states that the roots of abutment teeth must have a combined periodontal surface area in three dimensions that is more than that of the missing root structures of the teeth replaced with a bridge, is used in bridgework design. This law remains controversial in terms of supporting clinical evidence.\",\n",
       "  'Crown to root ratio is the distance from the occlusal/incisal surface of the tooth to the alveolar crest in relation to the length of root within the bone. The minimum ratio of crown to root is considered to be 1:1, although the most favourable is a crown:root of 2:3. As the proportion of tooth supported by bone decreases, the lever effect increases.',\n",
       "  'Root configuration should be considered when selecting abutment(s). Divergent roots of posteriors provide increased support compared to converging, fused or conical roots. Roots that curve apically provide increased support compared to those which have a fixed taper.',\n",
       "  'The number of abutments required depends on both the position of the tooth to be replaced and the length of the span. Cantilever designs utilising one abutment is the design of choice for replacing a single tooth anteriorly and can also be used posteriorly.',\n",
       "  'Occlusion of the pontic with the opposing tooth should be assessed. This may determine which type of design is most appropriate and therefore how many abutments are required. For resin bonded bridges the pontic should have light contact in intercuspal position (ICP) and no contact in lateral excursions.'],\n",
       " ('Case selection and treatment planning',\n",
       "  'Biomechanical Considerations'): ['Torquing forces can occur when the pontic lies outside the interabutment axis line as the pontic acts as a lever arm. This is particularly applicable to long span bridges replacing multiple anteriors.', 'Deflection varies directly with the cube of the length, and inversely with the cube of the occlusogingival thickness of the pontic. The longer the span, the more deflection occurs. The amount of deflection is 8 times greater when the length of the span increases to 2 pontics, and increases to 27 times greater with 3 pontics in comparison to a single pontic. It is likely that increased span length will result in the abutments being subjected to increased torquing forces. The thinner the pontic, the more deflection occurs. If the thickness of the pontic is reduced by 50% this causes an 8 times increase in deflection. Choosing pontics with increased occlusogingival dimension and using high yield strength alloys to construct the prosthesis will help reduce deflection.'],\n",
       " ('Case selection and treatment planning',\n",
       "  'Indications for use'): ['Replacement of a single tooth or a small spanning space.', 'Good oral health status and motivation of patient to maintain oral health.', 'Periodontal status of remaining dentition at a stable and satisfactory level.', 'Abutment teeth of good quality with minimal restorations and enough surface area and enamel present for adhesion.', 'Splinting of periodontally compromised teeth to improve occlusal stability, comfort and decrease mobility. (Periodontally compromised teeth is also a contraindication).', 'As a way of fixed retention after orthodontic treatment or extraction.', 'Patient unsuitable for implants. This may be due to inadequate bone levels, expense or patient not wanting to receive implants.'],\n",
       " ('Case selection and treatment planning',\n",
       "  'Contraindications'): ['Size of saddle area too long.', 'Patients with parafunction e.g. bruxism.', 'Tooth mobility increases risk of de-bonding.', 'Malaligned teeth resulting in poor aesthetics and  common path of insertion.', 'Abutment tooth quality inadequate for example may have a reduced surface area, reduced enamel or be heavily restored.', 'Increased risk of caries due to increased difficulty in maintaining oral hygiene around the bridgework.', 'Increased risk of loss of vitality.', 'Allergy to base metal alloys e.g. nickel ', 'Poor patient motivation. Active dental disease (caries, periodontal disease) and poor oral hygiene.'],\n",
       " ('Case selection and treatment planning',\n",
       "  'Types of artificial plastic teeth'): ['Types of artificial plastic teeth (known in the industry as Pontics)',\n",
       "  '',\n",
       "  'Wash-through Pontic (also known as hygienic pontic or sanitary pontic)',\n",
       "  'Dome Pontic (also known as bullet or torpedo shaped)',\n",
       "  'Ridge Lap Pontic (also known as Full Saddle Pontic)',\n",
       "  'Modified Ridge-Lap Pontic',\n",
       "  'Ovate Pontic',\n",
       "  'A pontic aims to restore aesthetics, give occlusal stability and improve function.',\n",
       "  'The hygienic pontic does not contact the underlying alveolar ridge, making it the most straightforward to keep clean. Due to the poor aesthetics of this design it is most commonly employed to replace mandibular molars.',\n",
       "  'The bullet pontic is the second most favourable in terms of being able to maintain good oral hygiene, with the pontic only contacting one point of the alveolar ridge.',\n",
       "  'Ridge lap and modified ridge lap pontics have superior aesthetics to the designs discussed previously, with the labial/buccal surface aiming to restore the appearance of a natural tooth from the incisal edge to the gingival margin. To minimise coverage of the soft tissues the lingual/palatal portion of the pontic is reduced to improve accessibility for maintaining good oral hygiene. For the modified ridge lap design the pontic only contacts the buccal aspect of the alveolar ridge.',\n",
       "  'The ovate pontic comes into contact with the underlying soft tissue and hides the defects of the edentulous ridge with applying light pressure. It is commonly used in provisional bridges following extraction of teeth to improve the emergence profile and helps in shaping the gingiva around the future fixed prosthesis.'],\n",
       " ('Case selection and treatment planning',\n",
       "  'Types of bridges according to durability'): ['Bridges can either be provisional (temporary / interim) or permanent. The provisional bridge is a transitional restoration that protects the teeth that are weakened by the preparation, and stabilises the dental tissues until the fabrication of the final restoration, moreover, it can pave the way to the aesthetics of the future permanent restoration and its appearance, which can help the patient accept the final profile. Provisional restorations are designed to be used for a few weeks to months, they can be fabricated directly (by chair side), or indirectly ( in the dental laboratory). It is usually tried in a few times to check if it fits properly and if its margins are well adapting on the teeth surface and gingiva, it may need relining or a few adjustments.  Provisional bridges can either be made of acrylic resins or metal. The resins are the most commonly used, they are either made of cellulose acetate, polycarbonate or poly-methyl methacrylate. Other chemically activated resins include poly-R methacrylates: these are methacrylates with ethyl or isobutyl substances added to increase the strength of material. Also, commonly used resins include the BisGMA based dimethacrylate, and the visible light urethane di-methylacrylate.  Dimethacrylate-based materials were found to be better than monomethacrylates for temporary restorations in terms of flexural strength and hardness.'],\n",
       " ('Case selection and treatment planning',\n",
       "  'Acrylic resin and porcelain fused to metal (PFM)'): ['Acrylic resin was the first veneering material used to help restore the aesthetics of crown and bridges, the aim was to maintain a similar colour to natural teeth by attaching it on the labial surface of metal crown / bridges, however, resin veneered dental prosthetics lacked stability and abrasion resistance. Porcelain fused to metal (PFM) was then introduced; the porcelain is composed of two layers (one opaque to cover the metal substructure and another translucent to provide an enamel illusion).    Still several researchers consider PFM the gold standard as it has been reported to have 95% success over a 10-year period, a reason why newer types of all-ceramic restorations are usually compared to PFM crowns / bridges to assess its success and durability. However,  PFM restorations may show a grey colour at the cervical margins of the tooth showing the metal substructure.'],\n",
       " ('Case selection and treatment planning',\n",
       "  'IPs Emax'): [\"IPs Emax ceramics offer high aesthetic properties, that's why its use has been increasingly popular, however, there's insufficient evidence to determine the longevity of Emax in bridges; some reports found fair short-term survival, but unfavorable medium-term survival. Failures of restorations were most reported in the posterior teeth region.  IPs Emax is available as press ingots or as IPs Emax CAD-CAM system. Emax use in crowns or bridges is not recommended for patients who suffer from bruxism.\"],\n",
       " ('Case selection and treatment planning',\n",
       "  'Zirconia'): ['Zirconia is used in anterior, and posterior fixed bridges, also on implants. Zirconia is fabricated using the dental CAD-CAM technology. It has high mechanical strength and it can withstand high occlusal forces compared to all ceramic materials. in addition it can resist crack propagation in the core material, however, cracks often occur in the veneering material leading to its fracture whether in the tooth supported or implant-supported bridges. Reports found that the 3×3 mm designed connectors in zirconia bridges increased the strength to resist fracture by 20%.', 'Although the use of ceramic based fixed prosthesis have been popular as it achieves a lifelike, highly esthetic appearance, a Cochrane review found insufficient evidence to support or refute the effectiveness of ceramic materials for fixed prosthodontic treatment over metal-ceramic.'],\n",
       " ('Case selection and treatment planning',\n",
       "  'Clinical stages of bridgework'): [\"Assessment: Clinical assessment of the patient's suitability for bridgework. Detailed history (including medical history), appropriate assessment of the suitability of the patient's oral environment (including occlusion, caries risk, periodontal risk, radiographic examination, sensibility testing), assessment of patient aims & motivation, abutment tooth selection and bridge design.\", 'Primary impressions: Primary impressions can be taken with alginate to make study casts. A facebow record should also be taken to enable the occlusion to be studied prior to provision of the prosthesis', 'Diagnostic wax up: This enables the patient to visualise how the definitive prosthesis will look. The wax up can also be used to construct a putty matrix which can be used subsequently to make a temporary restoration.', 'Restoration replacement: Restorations in abutment teeth with questionable prognosis or old composite resin restorations for adhesive bridgework should be replaced.', 'Tooth preparation: This should be completed with reference to radiographs and study casts obtained during treatment planning. For conventional bridges, tooth preparation should aim to conserve tooth tissue, ensure a parallel path of insertion, achieve clearance in the occlusion and ensure well defined preparation margins. The taper of each preparation on the abutment teeth must be the same. This is known as parallelism among the abutments and allows the bridge to fit onto the abutment teeth. Adhesive bridges require minimal preparation.', 'Master impressions: An accurate impression should be made of the prepared teeth, along with an impression of the opposing arch. The master casts are used to provide accurate information about the occlusion to the laboratory and construct the prosthesis.', 'Occlusal registration: An occlusal registration is needed when providing extensive bridgework to allow the opposing casts to be related accurately. This may not be necessary if only a small number of teeth are to be restored.', 'Temporary restoration: Temporary restorations should be fabricated if possible to protect and maintain the prepared teeth until placement of the final restoration.', 'Try in: Confirm the clinical acceptability before cementing definitively. Assess the prosthesis on the master casts and identify the cause of any problems if present. A period of temporary cementation to assess clinical acceptability prior to definitive placement is sometimes used.', 'Final placement: Once satisfied the prosthesis is clinically acceptable, cement and bond the bridgework definitively.', 'Review: Assess the bridgework and manage any post-operative issues.'],\n",
       " ('Case selection and treatment planning',\n",
       "  'Restoration fabrication'): ['As with single-unit crowns, bridges may be fabricated using the lost-wax technique if the restoration is to be either a multiple-unit FGC or PFM. Another fabrication technique is to use CAD/CAM software to machine the bridge. As mentioned above, there are special considerations when preparing for a multiple-unit restoration in that the relationship between the two or more abutments must be maintained in the restoration. That is, there must be proper parallelism for the bridge to seat properly on the margins.', 'Sometimes, the bridge does not seat, but the dentist is unsure whether it is because the spatial relationship between the abutments is incorrect, or whether the abutments do not actually fit the preparations. The only way to determine this is to section the bridge and try in each abutment by itself. If they each fit individually, the spatial relationship was incorrect, and the abutment that was sectioned from the pontic must now be reattached to the pontic according to the newly confirmed spatial relationship. This is accomplished with a solder index.', 'The proximal surfaces of the sectioned units (that is, the adjacent surfaces of the metal at the cut) are roughened and the relationship is preserved with a material that will hold on to both sides, such as PATTERN RESIN™ from the company GC America.  With the two bridge abutments individually seated on their prepared abutment teeth, the resin is applied to the location of the sectioning to reestablish a proper spatial relationship between the two pieces.  This can then be sent to the lab where the two pieces will be soldered and returned for another try-in or final cementation.'],\n",
       " ('Bridge failures',\n",
       "  'Common reasons for bridge failures'): ['Poor oral hygiene: As with any fixed prosthesis including bridges, maintaining good oral hygiene to prevent plaque formation around the bridge is key. This will ensure prolonged performance. A study examined the gingival health around the fixed bridges after a 14-day - 6 month post insertion found the surfaces were more plaque retentive, causing gingival inflammation regardless the material of fabrication of the bridge, unlike single crowns which did not show the same effect.', 'Mechanical failures: These failures can occur due to loss of retention of the bridge due to improper cementation, construction or preparation.', 'Fracture of the metal coating or pontic can also lead to mechanical failures.  Fracture in connectors of bridges at the gingival side is a common finding in most all-ceram bridges.', '', 'Biological failures: These can occur due to caries in the tooth (one of the commonest causes of crown and bridge failures) or due to pulpal injury. Problems with abutment teeth such as tooth fracture, secondary caries or periodontal disease can cause discomfort and put pressure on surrounding soft tissues to also cause a biological failure of the bridge.', 'Aesthetic failures: These can occur at the time of cementation and include; colour mismatch, roughness of margins or improper tooth contour.', 'Aesthetics failures can also occur over a period of time including through wear of teeth, gingival recession or drifting of teeth.', '', 'Problems with abutment teeth: Abutment teeth affected by secondary caries, vitality loss or periodontal disease can all lead to bridge failure.'],\n",
       " ('Bridge failures',\n",
       "  'Bridge failure management'): ['Management of bridge failures depends upon the extent and type of failure and these can be prevented through forming a thorough treatment plan with the patient as well regularly emphasising the importance of maintaining a very good level of oral hygiene after the bridge has been placed. The importance of cleaning underneath the pontic, through the use of interdental cleaning aids, should also be reinforced as plaque control around fixed restorations is more difficult.', 'Management options include:', '', 'Keeping the bridge under observation/review', 'Repairing, replacing or removing the fault']}"
      ]
     },
     "execution_count": 35,
     "metadata": {},
     "output_type": "execute_result"
    }
   ],
   "source": [
    "sections"
   ]
  },
  {
   "cell_type": "code",
   "execution_count": 16,
   "metadata": {},
   "outputs": [
    {
     "data": {
      "text/plain": [
       "['A bridge is a fixed dental restoration (a fixed dental prosthesis) used to replace one or more missing teeth by joining an artificial tooth definitively to adjacent teeth or dental implants.',\n",
       " '',\n",
       " '',\n",
       " '== Definitions ==',\n",
       " 'Fixed bridge:  A dental prosthesis that is definitively attached to natural teeth and replaces missing teeth.',\n",
       " 'Abutment: The tooth that supports and retains a dental prosthesis.',\n",
       " 'Pontic: The artificial tooth that replaces a missing natural tooth.',\n",
       " 'Retainer: The component attached to the abutment for retention of the prosthesis. Retainers can be major or minor.',\n",
       " 'Unit: Pontics and abutment teeth are referred to as units. The total number of units in a bridge is equal to the number of pontics plus the number of abutment teeth.',\n",
       " 'Saddle: The area on the alveolar ridge which is edentulous where at least one missing tooth is to be reinstated.',\n",
       " 'Connector: Joins the pontic to the retainer or two retainers together. Connectors may be fixed or movable.',\n",
       " 'Span: The length of the alveolar ridge between the natural teeth where the bridge will be placed.',\n",
       " 'Resin bonded bridge: A dental prostheses where the pontic is connected to the surface of natural teeth which are either unprepared or minimally prepared.',\n",
       " '',\n",
       " '',\n",
       " '== Advantages and disadvantages of tooth replacement ==',\n",
       " '',\n",
       " '',\n",
       " '== Types of bridge ==',\n",
       " '',\n",
       " '',\n",
       " '=== Conventional bridge ===',\n",
       " '',\n",
       " 'Conventional bridges are bridges that are supported by full coverage crowns, three-quarter crowns, post-retained crowns, onlays and inlays on the abutment teeth. In these types of bridges, the abutment teeth require preparation and reduction to support the prosthesis.  Conventional bridges are named depending on the way the pontic (false teeth) is attached to the retainer.',\n",
       " '',\n",
       " '',\n",
       " '==== Fixed-fixed bridges ====',\n",
       " 'A fixed-fixed bridge refers to a pontic which is attached to a retainer at both sides of the space with only one path of insertion. This type of design has a rigid connector at each end which connects the abutment to the pontic. As the abutments are connected together rigidly it is critical that during tooth preparation the proximal surfaces of the abutment teeth must be prepared so that they are parallel to each other.',\n",
       " '',\n",
       " '',\n",
       " '==== Cantilever ====',\n",
       " 'A cantilever is a bridge where a pontic is attached to a retainer only at one side. The abutment tooth may be mesial or distal to the pontic.',\n",
       " 'In a spring cantilever, the pontic and retainer are remote from each other and connected by a metal bar.  Usually, a missing anterior tooth is replaced and supported by a posterior tooth.  This design of bridge has been superseded.',\n",
       " '',\n",
       " '',\n",
       " '==== Fixed-movable ====',\n",
       " 'The pontic is firmly attached to a retainer at one end of the span (major retainer) and attached via a movable joint at the other end (minor retainer).',\n",
       " 'A major advantage of this type of bridge is that the movable joint can accommodate the angulation differences in the abutment teeth in long axis, which enables the path of insertion to be irrespective of the alignment of the abutment tooth. This enables a more conservative approach as the abutments do not need to be prepared to be parallel to one another. Ideally the rigid connector should attach the pontic to the more distal abutment. The movable connector attaches the pontic to the mesial abutment, enabling this abutment tooth limited movement in a vertical direction.',\n",
       " '',\n",
       " '',\n",
       " '=== Resin-bonded bridge ===',\n",
       " '',\n",
       " 'An alternative to the traditional bridge is the resin-bonded or adhesive bridge (also called a Maryland bridge). An resin-bonded bridge utilises retainer \"wings\" on the sides of the pontic which attach it to the etched enamel of the abutment teeth. Abutment teeth require minor or no preparation.  They are most often used when the abutment teeth are whole and sound (i.e., no crowns or major fillings). Single retainer cantilever resin-bonded bridges have less complications than end-to-end resin-bonded bridges with retainer wings on both sides.',\n",
       " '',\n",
       " '',\n",
       " '=== Combination Designs ===',\n",
       " 'The incorporation of elements of different conventional bridge designs. A popular combination design is the use of a fixed-fixed design with a cantilever.',\n",
       " '',\n",
       " '',\n",
       " '=== Hybrid Designs ===',\n",
       " 'Bridges that incorporate elements of both conventional and adhesive bridge designs.',\n",
       " '',\n",
       " '',\n",
       " '== Advantages and Disadvantages of Conventional Bridge Designs ==',\n",
       " '',\n",
       " '',\n",
       " '== Advantages and disadvantages of resin-bonded bridge designs ==',\n",
       " '',\n",
       " '',\n",
       " '== Case selection and treatment planning ==',\n",
       " '',\n",
       " '',\n",
       " '=== Case selection ===',\n",
       " 'Appropriate case selection is important when considering the provision of fixed bridgework. Patient expectations should be discussed and a thorough patient history should be obtained. Replacement of missing teeth with fixed bridgework may not always be indicated and both patient factors alongside restorative factors should be considered before deciding if providing fixed bridgework is appropriate.  The survival rate of bridgework can be affected by the span of bridge needed, the proposed position of the bridge, and the size, shape, number and condition of planned abutment teeth. Furthermore, any active disease including caries or periodontal disease should be treated and followed by a period of maintenance to ensure patient compliance in maintaining appropriate oral hygiene.',\n",
       " 'Study models mounted on a semi-adjustable articulator using a facebow record are a useful aid to study occlusion prior to provision of a fixed prosthesis. They may also be used to practice planned tooth preparation. Subsequently, a diagnostic wax up can be provided to help the patient visualise the final prosthesis and to construct a silicone index. This index can be used to make a temporary prosthesis.',\n",
       " '',\n",
       " '',\n",
       " '=== Selection and evaluation of abutment teeth ===',\n",
       " 'Multiple factors influence the selection of appropriate abutment teeth. These include the size of potential abutment tooth, with larger teeth having an increased surface area preferable for retention, using teeth with a stable periodontal status, favourable tooth angulation, favourable tooth position, and an adequate crown-root ratio.',\n",
       " 'Careful abutment selection is critical for the success of bridgework. The prosthesis must be capable of tolerating occlusal forces, which would normally be received by the missing tooth as well as its normal occlusal loading. These forces are transmitted to the abutment(s) via the prosthesis.',\n",
       " 'Vital teeth are preferred to endodontically treated ones for bridge abutments. Endodontically treated teeth have lost a large amount of tooth structure, weakening them and making them less able to tolerate additional occlusal loading. Post crowns have been shown in some studies to have a higher failure rate.',\n",
       " 'For resin bonded bridges abutment teeth should ideally be unrestored and have enough enamel to support the metal wing retainer. Additionally there must be sufficient space to accommodate the minimum connector width of 0.7mm and 2mm connector height. It is acceptable for the abutment to be minimally restored with small composite restorations provided they are sound. It is advised to replace old composite restorations prior to cementation to provide optimum bond strength via the oxide layer.',\n",
       " 'Teeth with active disease such as caries or periodontal disease should not be used as abutments until the disease has been stabilised. Once stable periodontally compromised teeth may be used as abutments, depending on the crown to root ratio described below.',\n",
       " \"Ante's law, states that the roots of abutment teeth must have a combined periodontal surface area in three dimensions that is more than that of the missing root structures of the teeth replaced with a bridge, is used in bridgework design. This law remains controversial in terms of supporting clinical evidence.\",\n",
       " 'Crown to root ratio is the distance from the occlusal/incisal surface of the tooth to the alveolar crest in relation to the length of root within the bone. The minimum ratio of crown to root is considered to be 1:1, although the most favourable is a crown:root of 2:3. As the proportion of tooth supported by bone decreases, the lever effect increases.',\n",
       " 'Root configuration should be considered when selecting abutment(s). Divergent roots of posteriors provide increased support compared to converging, fused or conical roots. Roots that curve apically provide increased support compared to those which have a fixed taper.',\n",
       " 'The number of abutments required depends on both the position of the tooth to be replaced and the length of the span. Cantilever designs utilising one abutment is the design of choice for replacing a single tooth anteriorly and can also be used posteriorly.',\n",
       " 'Occlusion of the pontic with the opposing tooth should be assessed. This may determine which type of design is most appropriate and therefore how many abutments are required. For resin bonded bridges the pontic should have light contact in intercuspal position (ICP) and no contact in lateral excursions.',\n",
       " '',\n",
       " '',\n",
       " '=== Biomechanical Considerations ===',\n",
       " 'Torquing forces can occur when the pontic lies outside the interabutment axis line as the pontic acts as a lever arm. This is particularly applicable to long span bridges replacing multiple anteriors.',\n",
       " 'Deflection varies directly with the cube of the length, and inversely with the cube of the occlusogingival thickness of the pontic. The longer the span, the more deflection occurs. The amount of deflection is 8 times greater when the length of the span increases to 2 pontics, and increases to 27 times greater with 3 pontics in comparison to a single pontic. It is likely that increased span length will result in the abutments being subjected to increased torquing forces. The thinner the pontic, the more deflection occurs. If the thickness of the pontic is reduced by 50% this causes an 8 times increase in deflection. Choosing pontics with increased occlusogingival dimension and using high yield strength alloys to construct the prosthesis will help reduce deflection.',\n",
       " '',\n",
       " '',\n",
       " '=== Indications for use ===',\n",
       " 'Replacement of a single tooth or a small spanning space.',\n",
       " 'Good oral health status and motivation of patient to maintain oral health.',\n",
       " 'Periodontal status of remaining dentition at a stable and satisfactory level.',\n",
       " 'Abutment teeth of good quality with minimal restorations and enough surface area and enamel present for adhesion.',\n",
       " 'Splinting of periodontally compromised teeth to improve occlusal stability, comfort and decrease mobility. (Periodontally compromised teeth is also a contraindication).',\n",
       " 'As a way of fixed retention after orthodontic treatment or extraction.',\n",
       " 'Patient unsuitable for implants. This may be due to inadequate bone levels, expense or patient not wanting to receive implants.',\n",
       " '',\n",
       " '',\n",
       " '=== Contraindications ===',\n",
       " 'Size of saddle area too long.',\n",
       " 'Patients with parafunction e.g. bruxism.',\n",
       " 'Tooth mobility increases risk of de-bonding.',\n",
       " 'Malaligned teeth resulting in poor aesthetics and  common path of insertion.',\n",
       " 'Abutment tooth quality inadequate for example may have a reduced surface area, reduced enamel or be heavily restored.',\n",
       " 'Increased risk of caries due to increased difficulty in maintaining oral hygiene around the bridgework.',\n",
       " 'Increased risk of loss of vitality.',\n",
       " 'Allergy to base metal alloys e.g. nickel ',\n",
       " 'Poor patient motivation. Active dental disease (caries, periodontal disease) and poor oral hygiene.',\n",
       " '',\n",
       " '',\n",
       " '== Types of artificial plastic teeth ==',\n",
       " 'Types of artificial plastic teeth (known in the industry as Pontics)',\n",
       " '',\n",
       " 'Wash-through Pontic (also known as hygienic pontic or sanitary pontic)',\n",
       " 'Dome Pontic (also known as bullet or torpedo shaped)',\n",
       " 'Ridge Lap Pontic (also known as Full Saddle Pontic)',\n",
       " 'Modified Ridge-Lap Pontic',\n",
       " 'Ovate Pontic',\n",
       " 'A pontic aims to restore aesthetics, give occlusal stability and improve function.',\n",
       " 'The hygienic pontic does not contact the underlying alveolar ridge, making it the most straightforward to keep clean. Due to the poor aesthetics of this design it is most commonly employed to replace mandibular molars.',\n",
       " 'The bullet pontic is the second most favourable in terms of being able to maintain good oral hygiene, with the pontic only contacting one point of the alveolar ridge.',\n",
       " 'Ridge lap and modified ridge lap pontics have superior aesthetics to the designs discussed previously, with the labial/buccal surface aiming to restore the appearance of a natural tooth from the incisal edge to the gingival margin. To minimise coverage of the soft tissues the lingual/palatal portion of the pontic is reduced to improve accessibility for maintaining good oral hygiene. For the modified ridge lap design the pontic only contacts the buccal aspect of the alveolar ridge.',\n",
       " 'The ovate pontic comes into contact with the underlying soft tissue and hides the defects of the edentulous ridge with applying light pressure. It is commonly used in provisional bridges following extraction of teeth to improve the emergence profile and helps in shaping the gingiva around the future fixed prosthesis.',\n",
       " '',\n",
       " '',\n",
       " '== Types of bridges according to durability ==',\n",
       " 'Bridges can either be provisional (temporary / interim) or permanent. The provisional bridge is a transitional restoration that protects the teeth that are weakened by the preparation, and stabilises the dental tissues until the fabrication of the final restoration, moreover, it can pave the way to the aesthetics of the future permanent restoration and its appearance, which can help the patient accept the final profile. Provisional restorations are designed to be used for a few weeks to months, they can be fabricated directly (by chair side), or indirectly ( in the dental laboratory). It is usually tried in a few times to check if it fits properly and if its margins are well adapting on the teeth surface and gingiva, it may need relining or a few adjustments.  Provisional bridges can either be made of acrylic resins or metal. The resins are the most commonly used, they are either made of cellulose acetate, polycarbonate or poly-methyl methacrylate. Other chemically activated resins include poly-R methacrylates: these are methacrylates with ethyl or isobutyl substances added to increase the strength of material. Also, commonly used resins include the BisGMA based dimethacrylate, and the visible light urethane di-methylacrylate.  Dimethacrylate-based materials were found to be better than monomethacrylates for temporary restorations in terms of flexural strength and hardness.',\n",
       " '',\n",
       " '',\n",
       " '== Types of bridges according to material ==',\n",
       " 'Metal based, noble based metals such as gold, or base metal alloys such as nickel chromium.',\n",
       " 'Non-metal based. They can be either resin veneered, fibre-reinforced composite, porcelain fused to metal, or ceramics which are either silica, alumina, or zirconia.',\n",
       " '',\n",
       " '',\n",
       " '=== Acrylic resin and porcelain fused to metal (PFM) ===',\n",
       " '',\n",
       " 'Acrylic resin was the first veneering material used to help restore the aesthetics of crown and bridges, the aim was to maintain a similar colour to natural teeth by attaching it on the labial surface of metal crown / bridges, however, resin veneered dental prosthetics lacked stability and abrasion resistance. Porcelain fused to metal (PFM) was then introduced; the porcelain is composed of two layers (one opaque to cover the metal substructure and another translucent to provide an enamel illusion).    Still several researchers consider PFM the gold standard as it has been reported to have 95% success over a 10-year period, a reason why newer types of all-ceramic restorations are usually compared to PFM crowns / bridges to assess its success and durability. However,  PFM restorations may show a grey colour at the cervical margins of the tooth showing the metal substructure.',\n",
       " '',\n",
       " '',\n",
       " '=== IPs Emax ===',\n",
       " \"IPs Emax ceramics offer high aesthetic properties, that's why its use has been increasingly popular, however, there's insufficient evidence to determine the longevity of Emax in bridges; some reports found fair short-term survival, but unfavorable medium-term survival. Failures of restorations were most reported in the posterior teeth region.  IPs Emax is available as press ingots or as IPs Emax CAD-CAM system. Emax use in crowns or bridges is not recommended for patients who suffer from bruxism.\",\n",
       " '',\n",
       " '',\n",
       " '=== Zirconia ===',\n",
       " 'Zirconia is used in anterior, and posterior fixed bridges, also on implants. Zirconia is fabricated using the dental CAD-CAM technology. It has high mechanical strength and it can withstand high occlusal forces compared to all ceramic materials. in addition it can resist crack propagation in the core material, however, cracks often occur in the veneering material leading to its fracture whether in the tooth supported or implant-supported bridges. Reports found that the 3×3 mm designed connectors in zirconia bridges increased the strength to resist fracture by 20%.',\n",
       " 'Although the use of ceramic based fixed prosthesis have been popular as it achieves a lifelike, highly esthetic appearance, a Cochrane review found insufficient evidence to support or refute the effectiveness of ceramic materials for fixed prosthodontic treatment over metal-ceramic.',\n",
       " '',\n",
       " '',\n",
       " '== Clinical stages of bridgework ==',\n",
       " \"Assessment: Clinical assessment of the patient's suitability for bridgework. Detailed history (including medical history), appropriate assessment of the suitability of the patient's oral environment (including occlusion, caries risk, periodontal risk, radiographic examination, sensibility testing), assessment of patient aims & motivation, abutment tooth selection and bridge design.\",\n",
       " 'Primary impressions: Primary impressions can be taken with alginate to make study casts. A facebow record should also be taken to enable the occlusion to be studied prior to provision of the prosthesis',\n",
       " 'Diagnostic wax up: This enables the patient to visualise how the definitive prosthesis will look. The wax up can also be used to construct a putty matrix which can be used subsequently to make a temporary restoration.',\n",
       " 'Restoration replacement: Restorations in abutment teeth with questionable prognosis or old composite resin restorations for adhesive bridgework should be replaced.',\n",
       " 'Tooth preparation: This should be completed with reference to radiographs and study casts obtained during treatment planning. For conventional bridges, tooth preparation should aim to conserve tooth tissue, ensure a parallel path of insertion, achieve clearance in the occlusion and ensure well defined preparation margins. The taper of each preparation on the abutment teeth must be the same. This is known as parallelism among the abutments and allows the bridge to fit onto the abutment teeth. Adhesive bridges require minimal preparation.',\n",
       " 'Master impressions: An accurate impression should be made of the prepared teeth, along with an impression of the opposing arch. The master casts are used to provide accurate information about the occlusion to the laboratory and construct the prosthesis.',\n",
       " 'Occlusal registration: An occlusal registration is needed when providing extensive bridgework to allow the opposing casts to be related accurately. This may not be necessary if only a small number of teeth are to be restored.',\n",
       " 'Temporary restoration: Temporary restorations should be fabricated if possible to protect and maintain the prepared teeth until placement of the final restoration.',\n",
       " 'Try in: Confirm the clinical acceptability before cementing definitively. Assess the prosthesis on the master casts and identify the cause of any problems if present. A period of temporary cementation to assess clinical acceptability prior to definitive placement is sometimes used.',\n",
       " 'Final placement: Once satisfied the prosthesis is clinically acceptable, cement and bond the bridgework definitively.',\n",
       " 'Review: Assess the bridgework and manage any post-operative issues.',\n",
       " '',\n",
       " '',\n",
       " '== Restoration fabrication ==',\n",
       " '',\n",
       " 'As with single-unit crowns, bridges may be fabricated using the lost-wax technique if the restoration is to be either a multiple-unit FGC or PFM. Another fabrication technique is to use CAD/CAM software to machine the bridge. As mentioned above, there are special considerations when preparing for a multiple-unit restoration in that the relationship between the two or more abutments must be maintained in the restoration. That is, there must be proper parallelism for the bridge to seat properly on the margins.',\n",
       " 'Sometimes, the bridge does not seat, but the dentist is unsure whether it is because the spatial relationship between the abutments is incorrect, or whether the abutments do not actually fit the preparations. The only way to determine this is to section the bridge and try in each abutment by itself. If they each fit individually, the spatial relationship was incorrect, and the abutment that was sectioned from the pontic must now be reattached to the pontic according to the newly confirmed spatial relationship. This is accomplished with a solder index.',\n",
       " 'The proximal surfaces of the sectioned units (that is, the adjacent surfaces of the metal at the cut) are roughened and the relationship is preserved with a material that will hold on to both sides, such as PATTERN RESIN™ from the company GC America.  With the two bridge abutments individually seated on their prepared abutment teeth, the resin is applied to the location of the sectioning to reestablish a proper spatial relationship between the two pieces.  This can then be sent to the lab where the two pieces will be soldered and returned for another try-in or final cementation.',\n",
       " '',\n",
       " '',\n",
       " '== Advantages of bridges ==',\n",
       " 'Dental bridges offer several advantages.',\n",
       " 'They can usually be completed in only two dental appointments, restore the tooth back to full chewing function, require no periodic removal for cleaning, have a long life-expectancy and are aesthetically pleasing.',\n",
       " '',\n",
       " '',\n",
       " '== Bridge failures ==',\n",
       " '',\n",
       " '',\n",
       " '=== Common reasons for bridge failures ===',\n",
       " 'Poor oral hygiene: As with any fixed prosthesis including bridges, maintaining good oral hygiene to prevent plaque formation around the bridge is key. This will ensure prolonged performance. A study examined the gingival health around the fixed bridges after a 14-day - 6 month post insertion found the surfaces were more plaque retentive, causing gingival inflammation regardless the material of fabrication of the bridge, unlike single crowns which did not show the same effect.',\n",
       " 'Mechanical failures: These failures can occur due to loss of retention of the bridge due to improper cementation, construction or preparation.',\n",
       " 'Fracture of the metal coating or pontic can also lead to mechanical failures.  Fracture in connectors of bridges at the gingival side is a common finding in most all-ceram bridges.',\n",
       " '',\n",
       " 'Biological failures: These can occur due to caries in the tooth (one of the commonest causes of crown and bridge failures) or due to pulpal injury. Problems with abutment teeth such as tooth fracture, secondary caries or periodontal disease can cause discomfort and put pressure on surrounding soft tissues to also cause a biological failure of the bridge.',\n",
       " 'Aesthetic failures: These can occur at the time of cementation and include; colour mismatch, roughness of margins or improper tooth contour.',\n",
       " 'Aesthetics failures can also occur over a period of time including through wear of teeth, gingival recession or drifting of teeth.',\n",
       " '',\n",
       " 'Problems with abutment teeth: Abutment teeth affected by secondary caries, vitality loss or periodontal disease can all lead to bridge failure.',\n",
       " '',\n",
       " '',\n",
       " '=== Oral manifestations of bridge failures ===',\n",
       " 'Bridge failures result in clinical complications and patients can present with:',\n",
       " '',\n",
       " 'Pain in the oral cavity',\n",
       " 'Sensitivity, bleeding and inflammation of the gums ',\n",
       " 'Foul breath and taste disturbances',\n",
       " '',\n",
       " '',\n",
       " '=== Bridge failure management ===',\n",
       " 'Management of bridge failures depends upon the extent and type of failure and these can be prevented through forming a thorough treatment plan with the patient as well regularly emphasising the importance of maintaining a very good level of oral hygiene after the bridge has been placed. The importance of cleaning underneath the pontic, through the use of interdental cleaning aids, should also be reinforced as plaque control around fixed restorations is more difficult.',\n",
       " 'Management options include:',\n",
       " '',\n",
       " 'Keeping the bridge under observation/review',\n",
       " 'Repairing, replacing or removing the fault ',\n",
       " '',\n",
       " '',\n",
       " '== See also ==',\n",
       " '',\n",
       " '',\n",
       " '== References ==',\n",
       " '',\n",
       " '',\n",
       " '== External links ==',\n",
       " 'Biomimetic crown']"
      ]
     },
     "execution_count": 16,
     "metadata": {},
     "output_type": "execute_result"
    }
   ],
   "source": [
    "page.content.splitlines()"
   ]
  },
  {
   "cell_type": "code",
   "execution_count": 17,
   "metadata": {},
   "outputs": [
    {
     "data": {
      "text/plain": [
       "{'title': 'Bridge (dentistry)',\n",
       " 'original_title': 'Bridge (dentistry)',\n",
       " 'pageid': '1031150',\n",
       " 'url': 'https://en.wikipedia.org/wiki/Bridge_(dentistry)',\n",
       " '_sections': ['Definitions',\n",
       "  'Advantages and disadvantages of tooth replacement',\n",
       "  'Types of bridge',\n",
       "  'Conventional bridge',\n",
       "  'Fixed-fixed bridges',\n",
       "  'Cantilever',\n",
       "  'Fixed-movable',\n",
       "  'Resin-bonded bridge',\n",
       "  'Combination Designs',\n",
       "  'Hybrid Designs',\n",
       "  'Advantages and Disadvantages of Conventional Bridge Designs',\n",
       "  'Advantages and disadvantages of resin-bonded bridge designs',\n",
       "  'Case selection and treatment planning',\n",
       "  'Case selection',\n",
       "  'Selection and evaluation of abutment teeth',\n",
       "  'Biomechanical Considerations',\n",
       "  'Indications for use',\n",
       "  'Contraindications',\n",
       "  'Types of artificial plastic teeth',\n",
       "  'Types of bridges according to durability',\n",
       "  'Types of bridges according to material',\n",
       "  'Acrylic resin and porcelain fused to metal (PFM)',\n",
       "  'IPs Emax',\n",
       "  'Zirconia',\n",
       "  'Clinical stages of bridgework',\n",
       "  'Restoration fabrication',\n",
       "  'Advantages of bridges',\n",
       "  'Bridge failures',\n",
       "  'Common reasons for bridge failures',\n",
       "  'Oral manifestations of bridge failures',\n",
       "  'Bridge failure management',\n",
       "  'See also',\n",
       "  'References',\n",
       "  'External links'],\n",
       " '_content': 'A bridge is a fixed dental restoration (a fixed dental prosthesis) used to replace one or more missing teeth by joining an artificial tooth definitively to adjacent teeth or dental implants.\\n\\n\\n== Definitions ==\\nFixed bridge:  A dental prosthesis that is definitively attached to natural teeth and replaces missing teeth.\\nAbutment: The tooth that supports and retains a dental prosthesis.\\nPontic: The artificial tooth that replaces a missing natural tooth.\\nRetainer: The component attached to the abutment for retention of the prosthesis. Retainers can be major or minor.\\nUnit: Pontics and abutment teeth are referred to as units. The total number of units in a bridge is equal to the number of pontics plus the number of abutment teeth.\\nSaddle: The area on the alveolar ridge which is edentulous where at least one missing tooth is to be reinstated.\\nConnector: Joins the pontic to the retainer or two retainers together. Connectors may be fixed or movable.\\nSpan: The length of the alveolar ridge between the natural teeth where the bridge will be placed.\\nResin bonded bridge: A dental prostheses where the pontic is connected to the surface of natural teeth which are either unprepared or minimally prepared.\\n\\n\\n== Advantages and disadvantages of tooth replacement ==\\n\\n\\n== Types of bridge ==\\n\\n\\n=== Conventional bridge ===\\n\\nConventional bridges are bridges that are supported by full coverage crowns, three-quarter crowns, post-retained crowns, onlays and inlays on the abutment teeth. In these types of bridges, the abutment teeth require preparation and reduction to support the prosthesis.  Conventional bridges are named depending on the way the pontic (false teeth) is attached to the retainer.\\n\\n\\n==== Fixed-fixed bridges ====\\nA fixed-fixed bridge refers to a pontic which is attached to a retainer at both sides of the space with only one path of insertion. This type of design has a rigid connector at each end which connects the abutment to the pontic. As the abutments are connected together rigidly it is critical that during tooth preparation the proximal surfaces of the abutment teeth must be prepared so that they are parallel to each other.\\n\\n\\n==== Cantilever ====\\nA cantilever is a bridge where a pontic is attached to a retainer only at one side. The abutment tooth may be mesial or distal to the pontic.\\nIn a spring cantilever, the pontic and retainer are remote from each other and connected by a metal bar.  Usually, a missing anterior tooth is replaced and supported by a posterior tooth.  This design of bridge has been superseded.\\n\\n\\n==== Fixed-movable ====\\nThe pontic is firmly attached to a retainer at one end of the span (major retainer) and attached via a movable joint at the other end (minor retainer).\\nA major advantage of this type of bridge is that the movable joint can accommodate the angulation differences in the abutment teeth in long axis, which enables the path of insertion to be irrespective of the alignment of the abutment tooth. This enables a more conservative approach as the abutments do not need to be prepared to be parallel to one another. Ideally the rigid connector should attach the pontic to the more distal abutment. The movable connector attaches the pontic to the mesial abutment, enabling this abutment tooth limited movement in a vertical direction.\\n\\n\\n=== Resin-bonded bridge ===\\n\\nAn alternative to the traditional bridge is the resin-bonded or adhesive bridge (also called a Maryland bridge). An resin-bonded bridge utilises retainer \"wings\" on the sides of the pontic which attach it to the etched enamel of the abutment teeth. Abutment teeth require minor or no preparation.  They are most often used when the abutment teeth are whole and sound (i.e., no crowns or major fillings). Single retainer cantilever resin-bonded bridges have less complications than end-to-end resin-bonded bridges with retainer wings on both sides.\\n\\n\\n=== Combination Designs ===\\nThe incorporation of elements of different conventional bridge designs. A popular combination design is the use of a fixed-fixed design with a cantilever.\\n\\n\\n=== Hybrid Designs ===\\nBridges that incorporate elements of both conventional and adhesive bridge designs.\\n\\n\\n== Advantages and Disadvantages of Conventional Bridge Designs ==\\n\\n\\n== Advantages and disadvantages of resin-bonded bridge designs ==\\n\\n\\n== Case selection and treatment planning ==\\n\\n\\n=== Case selection ===\\nAppropriate case selection is important when considering the provision of fixed bridgework. Patient expectations should be discussed and a thorough patient history should be obtained. Replacement of missing teeth with fixed bridgework may not always be indicated and both patient factors alongside restorative factors should be considered before deciding if providing fixed bridgework is appropriate.  The survival rate of bridgework can be affected by the span of bridge needed, the proposed position of the bridge, and the size, shape, number and condition of planned abutment teeth. Furthermore, any active disease including caries or periodontal disease should be treated and followed by a period of maintenance to ensure patient compliance in maintaining appropriate oral hygiene.\\nStudy models mounted on a semi-adjustable articulator using a facebow record are a useful aid to study occlusion prior to provision of a fixed prosthesis. They may also be used to practice planned tooth preparation. Subsequently, a diagnostic wax up can be provided to help the patient visualise the final prosthesis and to construct a silicone index. This index can be used to make a temporary prosthesis.\\n\\n\\n=== Selection and evaluation of abutment teeth ===\\nMultiple factors influence the selection of appropriate abutment teeth. These include the size of potential abutment tooth, with larger teeth having an increased surface area preferable for retention, using teeth with a stable periodontal status, favourable tooth angulation, favourable tooth position, and an adequate crown-root ratio.\\nCareful abutment selection is critical for the success of bridgework. The prosthesis must be capable of tolerating occlusal forces, which would normally be received by the missing tooth as well as its normal occlusal loading. These forces are transmitted to the abutment(s) via the prosthesis.\\nVital teeth are preferred to endodontically treated ones for bridge abutments. Endodontically treated teeth have lost a large amount of tooth structure, weakening them and making them less able to tolerate additional occlusal loading. Post crowns have been shown in some studies to have a higher failure rate.\\nFor resin bonded bridges abutment teeth should ideally be unrestored and have enough enamel to support the metal wing retainer. Additionally there must be sufficient space to accommodate the minimum connector width of 0.7mm and 2mm connector height. It is acceptable for the abutment to be minimally restored with small composite restorations provided they are sound. It is advised to replace old composite restorations prior to cementation to provide optimum bond strength via the oxide layer.\\nTeeth with active disease such as caries or periodontal disease should not be used as abutments until the disease has been stabilised. Once stable periodontally compromised teeth may be used as abutments, depending on the crown to root ratio described below.\\nAnte\\'s law, states that the roots of abutment teeth must have a combined periodontal surface area in three dimensions that is more than that of the missing root structures of the teeth replaced with a bridge, is used in bridgework design. This law remains controversial in terms of supporting clinical evidence.\\nCrown to root ratio is the distance from the occlusal/incisal surface of the tooth to the alveolar crest in relation to the length of root within the bone. The minimum ratio of crown to root is considered to be 1:1, although the most favourable is a crown:root of 2:3. As the proportion of tooth supported by bone decreases, the lever effect increases.\\nRoot configuration should be considered when selecting abutment(s). Divergent roots of posteriors provide increased support compared to converging, fused or conical roots. Roots that curve apically provide increased support compared to those which have a fixed taper.\\nThe number of abutments required depends on both the position of the tooth to be replaced and the length of the span. Cantilever designs utilising one abutment is the design of choice for replacing a single tooth anteriorly and can also be used posteriorly.\\nOcclusion of the pontic with the opposing tooth should be assessed. This may determine which type of design is most appropriate and therefore how many abutments are required. For resin bonded bridges the pontic should have light contact in intercuspal position (ICP) and no contact in lateral excursions.\\n\\n\\n=== Biomechanical Considerations ===\\nTorquing forces can occur when the pontic lies outside the interabutment axis line as the pontic acts as a lever arm. This is particularly applicable to long span bridges replacing multiple anteriors.\\nDeflection varies directly with the cube of the length, and inversely with the cube of the occlusogingival thickness of the pontic. The longer the span, the more deflection occurs. The amount of deflection is 8 times greater when the length of the span increases to 2 pontics, and increases to 27 times greater with 3 pontics in comparison to a single pontic. It is likely that increased span length will result in the abutments being subjected to increased torquing forces. The thinner the pontic, the more deflection occurs. If the thickness of the pontic is reduced by 50% this causes an 8 times increase in deflection. Choosing pontics with increased occlusogingival dimension and using high yield strength alloys to construct the prosthesis will help reduce deflection.\\n\\n\\n=== Indications for use ===\\nReplacement of a single tooth or a small spanning space.\\nGood oral health status and motivation of patient to maintain oral health.\\nPeriodontal status of remaining dentition at a stable and satisfactory level.\\nAbutment teeth of good quality with minimal restorations and enough surface area and enamel present for adhesion.\\nSplinting of periodontally compromised teeth to improve occlusal stability, comfort and decrease mobility. (Periodontally compromised teeth is also a contraindication).\\nAs a way of fixed retention after orthodontic treatment or extraction.\\nPatient unsuitable for implants. This may be due to inadequate bone levels, expense or patient not wanting to receive implants.\\n\\n\\n=== Contraindications ===\\nSize of saddle area too long.\\nPatients with parafunction e.g. bruxism.\\nTooth mobility increases risk of de-bonding.\\nMalaligned teeth resulting in poor aesthetics and  common path of insertion.\\nAbutment tooth quality inadequate for example may have a reduced surface area, reduced enamel or be heavily restored.\\nIncreased risk of caries due to increased difficulty in maintaining oral hygiene around the bridgework.\\nIncreased risk of loss of vitality.\\nAllergy to base metal alloys e.g. nickel \\nPoor patient motivation. Active dental disease (caries, periodontal disease) and poor oral hygiene.\\n\\n\\n== Types of artificial plastic teeth ==\\nTypes of artificial plastic teeth (known in the industry as Pontics)\\n\\nWash-through Pontic (also known as hygienic pontic or sanitary pontic)\\nDome Pontic (also known as bullet or torpedo shaped)\\nRidge Lap Pontic (also known as Full Saddle Pontic)\\nModified Ridge-Lap Pontic\\nOvate Pontic\\nA pontic aims to restore aesthetics, give occlusal stability and improve function.\\nThe hygienic pontic does not contact the underlying alveolar ridge, making it the most straightforward to keep clean. Due to the poor aesthetics of this design it is most commonly employed to replace mandibular molars.\\nThe bullet pontic is the second most favourable in terms of being able to maintain good oral hygiene, with the pontic only contacting one point of the alveolar ridge.\\nRidge lap and modified ridge lap pontics have superior aesthetics to the designs discussed previously, with the labial/buccal surface aiming to restore the appearance of a natural tooth from the incisal edge to the gingival margin. To minimise coverage of the soft tissues the lingual/palatal portion of the pontic is reduced to improve accessibility for maintaining good oral hygiene. For the modified ridge lap design the pontic only contacts the buccal aspect of the alveolar ridge.\\nThe ovate pontic comes into contact with the underlying soft tissue and hides the defects of the edentulous ridge with applying light pressure. It is commonly used in provisional bridges following extraction of teeth to improve the emergence profile and helps in shaping the gingiva around the future fixed prosthesis.\\n\\n\\n== Types of bridges according to durability ==\\nBridges can either be provisional (temporary / interim) or permanent. The provisional bridge is a transitional restoration that protects the teeth that are weakened by the preparation, and stabilises the dental tissues until the fabrication of the final restoration, moreover, it can pave the way to the aesthetics of the future permanent restoration and its appearance, which can help the patient accept the final profile. Provisional restorations are designed to be used for a few weeks to months, they can be fabricated directly (by chair side), or indirectly ( in the dental laboratory). It is usually tried in a few times to check if it fits properly and if its margins are well adapting on the teeth surface and gingiva, it may need relining or a few adjustments.  Provisional bridges can either be made of acrylic resins or metal. The resins are the most commonly used, they are either made of cellulose acetate, polycarbonate or poly-methyl methacrylate. Other chemically activated resins include poly-R methacrylates: these are methacrylates with ethyl or isobutyl substances added to increase the strength of material. Also, commonly used resins include the BisGMA based dimethacrylate, and the visible light urethane di-methylacrylate.  Dimethacrylate-based materials were found to be better than monomethacrylates for temporary restorations in terms of flexural strength and hardness.\\n\\n\\n== Types of bridges according to material ==\\nMetal based, noble based metals such as gold, or base metal alloys such as nickel chromium.\\nNon-metal based. They can be either resin veneered, fibre-reinforced composite, porcelain fused to metal, or ceramics which are either silica, alumina, or zirconia.\\n\\n\\n=== Acrylic resin and porcelain fused to metal (PFM) ===\\n\\nAcrylic resin was the first veneering material used to help restore the aesthetics of crown and bridges, the aim was to maintain a similar colour to natural teeth by attaching it on the labial surface of metal crown / bridges, however, resin veneered dental prosthetics lacked stability and abrasion resistance. Porcelain fused to metal (PFM) was then introduced; the porcelain is composed of two layers (one opaque to cover the metal substructure and another translucent to provide an enamel illusion).    Still several researchers consider PFM the gold standard as it has been reported to have 95% success over a 10-year period, a reason why newer types of all-ceramic restorations are usually compared to PFM crowns / bridges to assess its success and durability. However,  PFM restorations may show a grey colour at the cervical margins of the tooth showing the metal substructure.\\n\\n\\n=== IPs Emax ===\\nIPs Emax ceramics offer high aesthetic properties, that\\'s why its use has been increasingly popular, however, there\\'s insufficient evidence to determine the longevity of Emax in bridges; some reports found fair short-term survival, but unfavorable medium-term survival. Failures of restorations were most reported in the posterior teeth region.  IPs Emax is available as press ingots or as IPs Emax CAD-CAM system. Emax use in crowns or bridges is not recommended for patients who suffer from bruxism.\\n\\n\\n=== Zirconia ===\\nZirconia is used in anterior, and posterior fixed bridges, also on implants. Zirconia is fabricated using the dental CAD-CAM technology. It has high mechanical strength and it can withstand high occlusal forces compared to all ceramic materials. in addition it can resist crack propagation in the core material, however, cracks often occur in the veneering material leading to its fracture whether in the tooth supported or implant-supported bridges. Reports found that the 3×3 mm designed connectors in zirconia bridges increased the strength to resist fracture by 20%.\\nAlthough the use of ceramic based fixed prosthesis have been popular as it achieves a lifelike, highly esthetic appearance, a Cochrane review found insufficient evidence to support or refute the effectiveness of ceramic materials for fixed prosthodontic treatment over metal-ceramic.\\n\\n\\n== Clinical stages of bridgework ==\\nAssessment: Clinical assessment of the patient\\'s suitability for bridgework. Detailed history (including medical history), appropriate assessment of the suitability of the patient\\'s oral environment (including occlusion, caries risk, periodontal risk, radiographic examination, sensibility testing), assessment of patient aims & motivation, abutment tooth selection and bridge design.\\nPrimary impressions: Primary impressions can be taken with alginate to make study casts. A facebow record should also be taken to enable the occlusion to be studied prior to provision of the prosthesis\\nDiagnostic wax up: This enables the patient to visualise how the definitive prosthesis will look. The wax up can also be used to construct a putty matrix which can be used subsequently to make a temporary restoration.\\nRestoration replacement: Restorations in abutment teeth with questionable prognosis or old composite resin restorations for adhesive bridgework should be replaced.\\nTooth preparation: This should be completed with reference to radiographs and study casts obtained during treatment planning. For conventional bridges, tooth preparation should aim to conserve tooth tissue, ensure a parallel path of insertion, achieve clearance in the occlusion and ensure well defined preparation margins. The taper of each preparation on the abutment teeth must be the same. This is known as parallelism among the abutments and allows the bridge to fit onto the abutment teeth. Adhesive bridges require minimal preparation.\\nMaster impressions: An accurate impression should be made of the prepared teeth, along with an impression of the opposing arch. The master casts are used to provide accurate information about the occlusion to the laboratory and construct the prosthesis.\\nOcclusal registration: An occlusal registration is needed when providing extensive bridgework to allow the opposing casts to be related accurately. This may not be necessary if only a small number of teeth are to be restored.\\nTemporary restoration: Temporary restorations should be fabricated if possible to protect and maintain the prepared teeth until placement of the final restoration.\\nTry in: Confirm the clinical acceptability before cementing definitively. Assess the prosthesis on the master casts and identify the cause of any problems if present. A period of temporary cementation to assess clinical acceptability prior to definitive placement is sometimes used.\\nFinal placement: Once satisfied the prosthesis is clinically acceptable, cement and bond the bridgework definitively.\\nReview: Assess the bridgework and manage any post-operative issues.\\n\\n\\n== Restoration fabrication ==\\n\\nAs with single-unit crowns, bridges may be fabricated using the lost-wax technique if the restoration is to be either a multiple-unit FGC or PFM. Another fabrication technique is to use CAD/CAM software to machine the bridge. As mentioned above, there are special considerations when preparing for a multiple-unit restoration in that the relationship between the two or more abutments must be maintained in the restoration. That is, there must be proper parallelism for the bridge to seat properly on the margins.\\nSometimes, the bridge does not seat, but the dentist is unsure whether it is because the spatial relationship between the abutments is incorrect, or whether the abutments do not actually fit the preparations. The only way to determine this is to section the bridge and try in each abutment by itself. If they each fit individually, the spatial relationship was incorrect, and the abutment that was sectioned from the pontic must now be reattached to the pontic according to the newly confirmed spatial relationship. This is accomplished with a solder index.\\nThe proximal surfaces of the sectioned units (that is, the adjacent surfaces of the metal at the cut) are roughened and the relationship is preserved with a material that will hold on to both sides, such as PATTERN RESIN™ from the company GC America.  With the two bridge abutments individually seated on their prepared abutment teeth, the resin is applied to the location of the sectioning to reestablish a proper spatial relationship between the two pieces.  This can then be sent to the lab where the two pieces will be soldered and returned for another try-in or final cementation.\\n\\n\\n== Advantages of bridges ==\\nDental bridges offer several advantages.\\nThey can usually be completed in only two dental appointments, restore the tooth back to full chewing function, require no periodic removal for cleaning, have a long life-expectancy and are aesthetically pleasing.\\n\\n\\n== Bridge failures ==\\n\\n\\n=== Common reasons for bridge failures ===\\nPoor oral hygiene: As with any fixed prosthesis including bridges, maintaining good oral hygiene to prevent plaque formation around the bridge is key. This will ensure prolonged performance. A study examined the gingival health around the fixed bridges after a 14-day - 6 month post insertion found the surfaces were more plaque retentive, causing gingival inflammation regardless the material of fabrication of the bridge, unlike single crowns which did not show the same effect.\\nMechanical failures: These failures can occur due to loss of retention of the bridge due to improper cementation, construction or preparation.\\nFracture of the metal coating or pontic can also lead to mechanical failures.  Fracture in connectors of bridges at the gingival side is a common finding in most all-ceram bridges.\\n\\nBiological failures: These can occur due to caries in the tooth (one of the commonest causes of crown and bridge failures) or due to pulpal injury. Problems with abutment teeth such as tooth fracture, secondary caries or periodontal disease can cause discomfort and put pressure on surrounding soft tissues to also cause a biological failure of the bridge.\\nAesthetic failures: These can occur at the time of cementation and include; colour mismatch, roughness of margins or improper tooth contour.\\nAesthetics failures can also occur over a period of time including through wear of teeth, gingival recession or drifting of teeth.\\n\\nProblems with abutment teeth: Abutment teeth affected by secondary caries, vitality loss or periodontal disease can all lead to bridge failure.\\n\\n\\n=== Oral manifestations of bridge failures ===\\nBridge failures result in clinical complications and patients can present with:\\n\\nPain in the oral cavity\\nSensitivity, bleeding and inflammation of the gums \\nFoul breath and taste disturbances\\n\\n\\n=== Bridge failure management ===\\nManagement of bridge failures depends upon the extent and type of failure and these can be prevented through forming a thorough treatment plan with the patient as well regularly emphasising the importance of maintaining a very good level of oral hygiene after the bridge has been placed. The importance of cleaning underneath the pontic, through the use of interdental cleaning aids, should also be reinforced as plaque control around fixed restorations is more difficult.\\nManagement options include:\\n\\nKeeping the bridge under observation/review\\nRepairing, replacing or removing the fault \\n\\n\\n== See also ==\\n\\n\\n== References ==\\n\\n\\n== External links ==\\nBiomimetic crown',\n",
       " '_revision_id': 1233302293,\n",
       " '_parent_id': 1224749314}"
      ]
     },
     "execution_count": 17,
     "metadata": {},
     "output_type": "execute_result"
    }
   ],
   "source": [
    "vars(page)"
   ]
  },
  {
   "cell_type": "code",
   "execution_count": 1,
   "metadata": {},
   "outputs": [
    {
     "data": {
      "text/plain": [
       "task\n",
       "qa               0.278\n",
       "generic          0.234\n",
       "sentiment        0.216\n",
       "math             0.208\n",
       "date_qa          0.050\n",
       "summarization    0.008\n",
       "translation      0.006\n",
       "Name: proportion, dtype: float64"
      ]
     },
     "execution_count": 1,
     "metadata": {},
     "output_type": "execute_result"
    }
   ],
   "source": [
    "import wandb\n",
    "api = wandb.Api()\n",
    "run_id = 'macrocosmos/prompting-validators/ydddch12'\n",
    "run = api.run(f\"{run_id}\").history()\n",
    "df = run[['uids', 'status_codes', 'status_messages', 'rewards', 'task']].explode(['uids', 'status_codes', 'status_messages', 'rewards'])\n",
    "df.task.value_counts(normalize=True)"
   ]
  },
  {
   "cell_type": "code",
   "execution_count": 9,
   "metadata": {},
   "outputs": [
    {
     "data": {
      "text/plain": [
       "task\n",
       "qa               0.358491\n",
       "generic          0.188679\n",
       "translation      0.132075\n",
       "sentiment        0.132075\n",
       "math             0.113208\n",
       "summarization    0.056604\n",
       "date_qa          0.018868\n",
       "Name: proportion, dtype: float64"
      ]
     },
     "execution_count": 9,
     "metadata": {},
     "output_type": "execute_result"
    }
   ],
   "source": [
    "run_id = 'macrocosmos/prompting-validators/vh9jvmtb'\n",
    "run = api.run(f\"{run_id}\").history()\n",
    "df = run[['uids', 'status_codes', 'status_messages', 'rewards', 'task']].explode(['uids', 'status_codes', 'status_messages', 'rewards'])\n",
    "df.task.value_counts(normalize=True)"
   ]
  },
  {
   "cell_type": "code",
   "execution_count": 4,
   "metadata": {},
   "outputs": [],
   "source": [
    "import wikipedia as wiki"
   ]
  },
  {
   "cell_type": "code",
   "execution_count": 5,
   "metadata": {},
   "outputs": [
    {
     "data": {
      "text/plain": [
       "['Kendayan language',\n",
       " 'Mecyclothorax toxopei',\n",
       " 'Qaleh Qazi-ye Sofla',\n",
       " 'Meydan TV',\n",
       " 'List of Skimo episodes',\n",
       " 'Midland Independent School District',\n",
       " 'Elizabeth Timothy',\n",
       " 'Rebecca DiPietro',\n",
       " 'X-Men: Regenesis',\n",
       " 'Pond Inlet Airport']"
      ]
     },
     "execution_count": 5,
     "metadata": {},
     "output_type": "execute_result"
    }
   ],
   "source": [
    "(wiki.random(10)\n",
    " "
   ]
  },
  {
   "cell_type": "code",
   "execution_count": 9,
   "metadata": {},
   "outputs": [],
   "source": [
    "array = meta.last_update"
   ]
  },
  {
   "cell_type": "code",
   "execution_count": 12,
   "metadata": {},
   "outputs": [],
   "source": [
    "min_value = np.min(array)\n",
    "\n",
    "# Step 2: Subtract the minimum value from all elements in the array\n",
    "adjusted_array = array - min_value\n",
    "\n",
    "# Step 3: Sort the resulting array\n",
    "sorted_array = np.sort(adjusted_array)"
   ]
  },
  {
   "cell_type": "code",
   "execution_count": 11,
   "metadata": {},
   "outputs": [],
   "source": [
    "import numpy as np "
   ]
  },
  {
   "cell_type": "code",
   "execution_count": 16,
   "metadata": {},
   "outputs": [
    {
     "data": {
      "text/plain": [
       "array([    0,     5,    43,    49,    50,    57,    67,    98,   103,\n",
       "         110,   111,  3291, 19286, 19300, 19306, 19318, 19334, 19352,\n",
       "       19353, 19376, 38786, 47436, 58583, 58588, 58589, 58589, 58616,\n",
       "       58618, 58621, 58629])"
      ]
     },
     "execution_count": 16,
     "metadata": {},
     "output_type": "execute_result"
    }
   ],
   "source": [
    "sorted_array[:30]"
   ]
  },
  {
   "cell_type": "code",
   "execution_count": 18,
   "metadata": {},
   "outputs": [
    {
     "data": {
      "text/html": [
       "<div>\n",
       "<style scoped>\n",
       "    .dataframe tbody tr th:only-of-type {\n",
       "        vertical-align: middle;\n",
       "    }\n",
       "\n",
       "    .dataframe tbody tr th {\n",
       "        vertical-align: top;\n",
       "    }\n",
       "\n",
       "    .dataframe thead th {\n",
       "        text-align: right;\n",
       "    }\n",
       "</style>\n",
       "<table border=\"1\" class=\"dataframe\">\n",
       "  <thead>\n",
       "    <tr style=\"text-align: right;\">\n",
       "      <th></th>\n",
       "      <th>challenge</th>\n",
       "      <th>completions</th>\n",
       "      <th>rewards</th>\n",
       "      <th>task</th>\n",
       "    </tr>\n",
       "  </thead>\n",
       "  <tbody>\n",
       "    <tr>\n",
       "      <th>0</th>\n",
       "      <td>\\n\\nwhat underlying psychological motivations ...</td>\n",
       "      <td>nelson mandela's transformation from a radical...</td>\n",
       "      <td>0.473716</td>\n",
       "      <td>generic</td>\n",
       "    </tr>\n",
       "    <tr>\n",
       "      <th>0</th>\n",
       "      <td>\\n\\nwhat underlying psychological motivations ...</td>\n",
       "      <td>nelson mandela's transformation from a radical...</td>\n",
       "      <td>0.446443</td>\n",
       "      <td>generic</td>\n",
       "    </tr>\n",
       "    <tr>\n",
       "      <th>0</th>\n",
       "      <td>\\n\\nwhat underlying psychological motivations ...</td>\n",
       "      <td>nelson mandela's transformation from a radical...</td>\n",
       "      <td>0.508189</td>\n",
       "      <td>generic</td>\n",
       "    </tr>\n",
       "    <tr>\n",
       "      <th>0</th>\n",
       "      <td>\\n\\nwhat underlying psychological motivations ...</td>\n",
       "      <td>nelson mandela's transformation from a radical...</td>\n",
       "      <td>0.446443</td>\n",
       "      <td>generic</td>\n",
       "    </tr>\n",
       "    <tr>\n",
       "      <th>0</th>\n",
       "      <td>\\n\\nwhat underlying psychological motivations ...</td>\n",
       "      <td>nelson mandela's transformation from a radical...</td>\n",
       "      <td>0.493607</td>\n",
       "      <td>generic</td>\n",
       "    </tr>\n",
       "    <tr>\n",
       "      <th>...</th>\n",
       "      <td>...</td>\n",
       "      <td>...</td>\n",
       "      <td>...</td>\n",
       "      <td>...</td>\n",
       "    </tr>\n",
       "    <tr>\n",
       "      <th>131</th>\n",
       "      <td>\\n\\nwhat's the deal with saiph being associate...</td>\n",
       "      <td>here is a concise and accurate summary of the ...</td>\n",
       "      <td>0.2982</td>\n",
       "      <td>qa</td>\n",
       "    </tr>\n",
       "    <tr>\n",
       "      <th>131</th>\n",
       "      <td>\\n\\nwhat's the deal with saiph being associate...</td>\n",
       "      <td>saiph, the god of fertility, is associated wit...</td>\n",
       "      <td>0.249358</td>\n",
       "      <td>qa</td>\n",
       "    </tr>\n",
       "    <tr>\n",
       "      <th>131</th>\n",
       "      <td>\\n\\nwhat's the deal with saiph being associate...</td>\n",
       "      <td>What a fascinating question!\\n\\nIn Wardaman my...</td>\n",
       "      <td>0.450011</td>\n",
       "      <td>qa</td>\n",
       "    </tr>\n",
       "    <tr>\n",
       "      <th>131</th>\n",
       "      <td>\\n\\nwhat's the deal with saiph being associate...</td>\n",
       "      <td>here is a concise and accurate summary of the ...</td>\n",
       "      <td>0.265514</td>\n",
       "      <td>qa</td>\n",
       "    </tr>\n",
       "    <tr>\n",
       "      <th>131</th>\n",
       "      <td>\\n\\nwhat's the deal with saiph being associate...</td>\n",
       "      <td>What a fascinating question!\\n\\nIn Wardaman my...</td>\n",
       "      <td>0.380147</td>\n",
       "      <td>qa</td>\n",
       "    </tr>\n",
       "  </tbody>\n",
       "</table>\n",
       "<p>13200 rows × 4 columns</p>\n",
       "</div>"
      ],
      "text/plain": [
       "                                             challenge  \\\n",
       "0    \\n\\nwhat underlying psychological motivations ...   \n",
       "0    \\n\\nwhat underlying psychological motivations ...   \n",
       "0    \\n\\nwhat underlying psychological motivations ...   \n",
       "0    \\n\\nwhat underlying psychological motivations ...   \n",
       "0    \\n\\nwhat underlying psychological motivations ...   \n",
       "..                                                 ...   \n",
       "131  \\n\\nwhat's the deal with saiph being associate...   \n",
       "131  \\n\\nwhat's the deal with saiph being associate...   \n",
       "131  \\n\\nwhat's the deal with saiph being associate...   \n",
       "131  \\n\\nwhat's the deal with saiph being associate...   \n",
       "131  \\n\\nwhat's the deal with saiph being associate...   \n",
       "\n",
       "                                           completions   rewards     task  \n",
       "0    nelson mandela's transformation from a radical...  0.473716  generic  \n",
       "0    nelson mandela's transformation from a radical...  0.446443  generic  \n",
       "0    nelson mandela's transformation from a radical...  0.508189  generic  \n",
       "0    nelson mandela's transformation from a radical...  0.446443  generic  \n",
       "0    nelson mandela's transformation from a radical...  0.493607  generic  \n",
       "..                                                 ...       ...      ...  \n",
       "131  here is a concise and accurate summary of the ...    0.2982       qa  \n",
       "131  saiph, the god of fertility, is associated wit...  0.249358       qa  \n",
       "131  What a fascinating question!\\n\\nIn Wardaman my...  0.450011       qa  \n",
       "131  here is a concise and accurate summary of the ...  0.265514       qa  \n",
       "131  What a fascinating question!\\n\\nIn Wardaman my...  0.380147       qa  \n",
       "\n",
       "[13200 rows x 4 columns]"
      ]
     },
     "execution_count": 18,
     "metadata": {},
     "output_type": "execute_result"
    }
   ],
   "source": [
    "import wandb\n",
    "api = wandb.Api()\n",
    "run_id = 'macrocosmos/prompting-validators/nmm53lc4'\n",
    "run = api.run(f\"{run_id}\").history()\n",
    "df = run[['challenge', 'completions', 'rewards', 'task']].explode(['completions', 'rewards'])\n",
    "df"
   ]
  },
  {
   "cell_type": "code",
   "execution_count": null,
   "metadata": {},
   "outputs": [],
   "source": []
  }
 ],
 "metadata": {
  "kernelspec": {
   "display_name": ".venv",
   "language": "python",
   "name": "python3"
  },
  "language_info": {
   "codemirror_mode": {
    "name": "ipython",
    "version": 3
   },
   "file_extension": ".py",
   "mimetype": "text/x-python",
   "name": "python",
   "nbconvert_exporter": "python",
   "pygments_lexer": "ipython3",
   "version": "3.10.12"
  }
 },
 "nbformat": 4,
 "nbformat_minor": 2
}
