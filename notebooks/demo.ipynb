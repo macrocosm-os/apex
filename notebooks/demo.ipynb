{
 "cells": [
  {
   "cell_type": "code",
   "execution_count": 2,
   "metadata": {},
   "outputs": [
    {
     "name": "stdout",
     "output_type": "stream",
     "text": [
      "<Response [200]>\n"
     ]
    }
   ],
   "source": [
    "import requests\n",
    "\n",
    "response = requests.get(\"http://localhost:8094/health\", timeout=10)\n",
    "print(response)"
   ]
  },
  {
   "cell_type": "code",
   "execution_count": null,
   "metadata": {},
   "outputs": [],
   "source": [
    "# Initialise the settings\n",
    "from prompting import settings\n",
    "settings.settings = settings.Settings(mode=\"validator\")\n",
    "settings = settings.settings "
   ]
  },
  {
   "cell_type": "markdown",
   "metadata": {},
   "source": [
    "## LLM Pipeline"
   ]
  },
  {
   "cell_type": "code",
   "execution_count": null,
   "metadata": {},
   "outputs": [],
   "source": [
    "# Initialise the LLM we use on the validator\n",
    "from prompting.llms.vllm_llm import vLLMPipeline\n",
    "pipeline = vLLMPipeline(llm_model_id=\"casperhansen/llama-3-8b-instruct-awq\", llm_max_allowed_memory_in_gb=20, device=\"CUDA\", quantization=False, llm_max_model_len=2048)"
   ]
  },
  {
   "cell_type": "code",
   "execution_count": null,
   "metadata": {},
   "outputs": [],
   "source": [
    "# as you can see, \"pipeline\" is an object that simply wraps around the LLM and is callable\n",
    "pipeline(\"What's 1+2?\").split(\"\\n\")[0]"
   ]
  },
  {
   "cell_type": "markdown",
   "metadata": {},
   "source": [
    "## Dataset\n",
    "\n",
    "Datasets generate 'Context' objects, which contain a 'row' of data, in this case about wikipedia"
   ]
  },
  {
   "cell_type": "code",
   "execution_count": null,
   "metadata": {},
   "outputs": [],
   "source": [
    "from prompting.datasets.wiki import WikiDataset\n",
    "dataset = WikiDataset()\n",
    "context = dataset.random()\n",
    "context"
   ]
  },
  {
   "cell_type": "markdown",
   "metadata": {},
   "source": [
    "## Tasks\n",
    "\n",
    "Tasks are objects that can be used to generate the query & reference for a miner"
   ]
  },
  {
   "cell_type": "markdown",
   "metadata": {},
   "source": [
    "### Initialise with past data\n",
    "\n",
    "We can either initialise the task with past data (this doesn't require an LLM to run)"
   ]
  },
  {
   "cell_type": "code",
   "execution_count": null,
   "metadata": {},
   "outputs": [],
   "source": [
    "from prompting.tasks.summarization import SummarizationTask, SummarizationRewardConfig\n",
    "SummarizationTask.generate_query_reference(llm_pipeline=pipeline, context=context)"
   ]
  },
  {
   "cell_type": "markdown",
   "metadata": {},
   "source": [
    "## Miner Responses\n",
    "\n",
    "Now let's say we have a few miners giving us responses"
   ]
  },
  {
   "cell_type": "code",
   "execution_count": 6,
   "metadata": {},
   "outputs": [],
   "source": [
    "import numpy as np\n",
    "from prompting.base.dendrite import DendriteResponseEvent, SynapseStreamResult, StreamPromptingSynapse\n",
    "\n",
    "miner_response_1 = SynapseStreamResult(synapse=StreamPromptingSynapse(completion=\"4\", roles=[\"user\"], messages=[\"What's 1+2?\"]))\n",
    "miner_response_2 = SynapseStreamResult(synapse=StreamPromptingSynapse(completion=\"3\", roles=[\"assistant\"], messages=[\"What's 1+2?\"]))\n",
    "\n",
    "\n",
    "# the synapses from all miners get collected into the DenriteResponseEvent\n",
    "dendrite_response = DendriteResponseEvent(stream_results=[miner_response_1, miner_response_2], uids=np.array([1, 2]), timeout=10)"
   ]
  },
  {
   "cell_type": "markdown",
   "metadata": {},
   "source": [
    "# Scoring\n",
    "\n",
    "We can now pass the query, reference and miner responses to our scoring function, which is then responsible for giving each miner a score which is later used to set weights:"
   ]
  },
  {
   "cell_type": "code",
   "execution_count": null,
   "metadata": {},
   "outputs": [],
   "source": [
    "from prompting.tasks.summarization import SummarizationRewardConfig\n",
    "\n",
    "reward_events, penality_events, rewards = SummarizationRewardConfig.apply(challenge=\"What's 1+2?\", reference=\"1+2 is equal to 3\", response_event=dendrite_response)\n",
    "rewards"
   ]
  },
  {
   "cell_type": "markdown",
   "metadata": {},
   "source": [
    "# Other tests/examples on different tasks"
   ]
  },
  {
   "cell_type": "code",
   "execution_count": 8,
   "metadata": {},
   "outputs": [],
   "source": [
    "from prompting.tasks.qa import QuestionAnsweringTask, QARewardConfig\n",
    "qa = QuestionAnsweringTask(context=context.model_dump(), llm_pipeline=pipeline, reward_config=SummarizationRewardConfig())"
   ]
  },
  {
   "cell_type": "code",
   "execution_count": 9,
   "metadata": {},
   "outputs": [],
   "source": [
    "# Used to obtain the query (which is a question about the context)\n",
    "QUERY_PROMPT_TEMPLATE = \"\"\"\\\n",
    "Ask a specific question about the following context:\n",
    "\n",
    "#Context:\n",
    "{context}\n",
    "\n",
    "You must ask a question that can be answered by the context.\n",
    "\"\"\""
   ]
  },
  {
   "cell_type": "code",
   "execution_count": null,
   "metadata": {},
   "outputs": [],
   "source": [
    "query_prompt = QUERY_PROMPT_TEMPLATE.format(context=context.content)\n",
    "query = qa.generate_query(llm_pipeline=pipeline, message=query_prompt)\n",
    "query\n"
   ]
  },
  {
   "cell_type": "code",
   "execution_count": 11,
   "metadata": {},
   "outputs": [],
   "source": [
    "# Used to obtain reference answer\n",
    "REFERENCE_PROMPT_TEMPLATE = \"\"\"\\\n",
    "Answer the question you will receive in detail, utilizing the following context.\n",
    "\n",
    "#Context:\n",
    "{context}\n",
    "\n",
    "# Question:\n",
    "{question}\n",
    "\"\"\""
   ]
  },
  {
   "cell_type": "code",
   "execution_count": null,
   "metadata": {},
   "outputs": [],
   "source": [
    "reference_prompt = REFERENCE_PROMPT_TEMPLATE.format(context=context.content, question=query)\n",
    "reference = qa.generate_reference(llm_pipeline=pipeline, messages=[reference_prompt])\n",
    "reference"
   ]
  },
  {
   "cell_type": "code",
   "execution_count": 10,
   "metadata": {},
   "outputs": [
    {
     "name": "stderr",
     "output_type": "stream",
     "text": [
      "\u001b[32m2024-10-30 11:51:45.772\u001b[0m | \u001b[34m\u001b[1mDEBUG   \u001b[0m | \u001b[36m__main__\u001b[0m:\u001b[36mstart\u001b[0m:\u001b[36m108\u001b[0m - \u001b[34m\u001b[1mResponseGatherer: Starting loop with non-synchronized mode\u001b[0m\n",
      "\u001b[32m2024-10-30 11:51:45.774\u001b[0m | \u001b[34m\u001b[1mDEBUG   \u001b[0m | \u001b[36m__main__\u001b[0m:\u001b[36mstart\u001b[0m:\u001b[36m108\u001b[0m - \u001b[34m\u001b[1mWeightSetter: Starting loop with non-synchronized mode\u001b[0m\n",
      "\u001b[32m2024-10-30 11:51:45.776\u001b[0m | \u001b[34m\u001b[1mDEBUG   \u001b[0m | \u001b[36m__main__\u001b[0m:\u001b[36mrun_loop\u001b[0m:\u001b[36m77\u001b[0m - \u001b[34m\u001b[1mStarting loop ResponseGatherer; running: True\u001b[0m\n",
      "\u001b[32m2024-10-30 11:51:45.778\u001b[0m | \u001b[34m\u001b[1mDEBUG   \u001b[0m | \u001b[36m__main__\u001b[0m:\u001b[36mget_time\u001b[0m:\u001b[36m33\u001b[0m - \u001b[34m\u001b[1mTime: 2024-10-30 11:51:45.778430+00:00\u001b[0m\n",
      "\u001b[32m2024-10-30 11:51:45.780\u001b[0m | \u001b[34m\u001b[1mDEBUG   \u001b[0m | \u001b[36m__main__\u001b[0m:\u001b[36mrun_loop\u001b[0m:\u001b[36m80\u001b[0m - \u001b[34m\u001b[1mGot time of last run: 2024-10-30 11:51:45.778430+00:00\u001b[0m\n",
      "\u001b[32m2024-10-30 11:51:45.782\u001b[0m | \u001b[34m\u001b[1mDEBUG   \u001b[0m | \u001b[36m__main__\u001b[0m:\u001b[36mrun_loop\u001b[0m:\u001b[36m83\u001b[0m - \u001b[34m\u001b[1mWaiting...\u001b[0m\n",
      "\u001b[32m2024-10-30 11:51:45.783\u001b[0m | \u001b[34m\u001b[1mDEBUG   \u001b[0m | \u001b[36m__main__\u001b[0m:\u001b[36mget_time\u001b[0m:\u001b[36m33\u001b[0m - \u001b[34m\u001b[1mTime: 2024-10-30 11:51:45.783734+00:00\u001b[0m\n",
      "\u001b[32m2024-10-30 11:51:45.785\u001b[0m | \u001b[34m\u001b[1mDEBUG   \u001b[0m | \u001b[36m__main__\u001b[0m:\u001b[36mwait_for_next_execution\u001b[0m:\u001b[36m60\u001b[0m - \u001b[34m\u001b[1mCurrent time\u001b[0m\n",
      "\u001b[32m2024-10-30 11:51:45.787\u001b[0m | \u001b[34m\u001b[1mDEBUG   \u001b[0m | \u001b[36m__main__\u001b[0m:\u001b[36mwait_for_next_execution\u001b[0m:\u001b[36m65\u001b[0m - \u001b[34m\u001b[1mNext run: 2024-10-30 11:51:47.778430+00:00\u001b[0m\n",
      "\u001b[32m2024-10-30 11:51:45.788\u001b[0m | \u001b[34m\u001b[1mDEBUG   \u001b[0m | \u001b[36m__main__\u001b[0m:\u001b[36mwait_for_next_execution\u001b[0m:\u001b[36m69\u001b[0m - \u001b[34m\u001b[1mResponseGatherer: Waiting for 1.99 seconds until next execution\u001b[0m\n",
      "\u001b[32m2024-10-30 11:51:45.790\u001b[0m | \u001b[34m\u001b[1mDEBUG   \u001b[0m | \u001b[36m__main__\u001b[0m:\u001b[36mrun_loop\u001b[0m:\u001b[36m77\u001b[0m - \u001b[34m\u001b[1mStarting loop WeightSetter; running: True\u001b[0m\n",
      "\u001b[32m2024-10-30 11:51:45.792\u001b[0m | \u001b[34m\u001b[1mDEBUG   \u001b[0m | \u001b[36m__main__\u001b[0m:\u001b[36mget_time\u001b[0m:\u001b[36m33\u001b[0m - \u001b[34m\u001b[1mTime: 2024-10-30 11:51:45.792811+00:00\u001b[0m\n",
      "\u001b[32m2024-10-30 11:51:45.794\u001b[0m | \u001b[34m\u001b[1mDEBUG   \u001b[0m | \u001b[36m__main__\u001b[0m:\u001b[36mrun_loop\u001b[0m:\u001b[36m80\u001b[0m - \u001b[34m\u001b[1mGot time of last run: 2024-10-30 11:51:45.792811+00:00\u001b[0m\n",
      "\u001b[32m2024-10-30 11:51:45.796\u001b[0m | \u001b[34m\u001b[1mDEBUG   \u001b[0m | \u001b[36m__main__\u001b[0m:\u001b[36mrun_loop\u001b[0m:\u001b[36m83\u001b[0m - \u001b[34m\u001b[1mWaiting...\u001b[0m\n",
      "\u001b[32m2024-10-30 11:51:45.798\u001b[0m | \u001b[34m\u001b[1mDEBUG   \u001b[0m | \u001b[36m__main__\u001b[0m:\u001b[36mget_time\u001b[0m:\u001b[36m33\u001b[0m - \u001b[34m\u001b[1mTime: 2024-10-30 11:51:45.798026+00:00\u001b[0m\n",
      "\u001b[32m2024-10-30 11:51:45.799\u001b[0m | \u001b[34m\u001b[1mDEBUG   \u001b[0m | \u001b[36m__main__\u001b[0m:\u001b[36mwait_for_next_execution\u001b[0m:\u001b[36m60\u001b[0m - \u001b[34m\u001b[1mCurrent time\u001b[0m\n",
      "\u001b[32m2024-10-30 11:51:45.801\u001b[0m | \u001b[34m\u001b[1mDEBUG   \u001b[0m | \u001b[36m__main__\u001b[0m:\u001b[36mwait_for_next_execution\u001b[0m:\u001b[36m65\u001b[0m - \u001b[34m\u001b[1mNext run: 2024-10-30 11:51:50.792811+00:00\u001b[0m\n",
      "\u001b[32m2024-10-30 11:51:45.807\u001b[0m | \u001b[34m\u001b[1mDEBUG   \u001b[0m | \u001b[36m__main__\u001b[0m:\u001b[36mwait_for_next_execution\u001b[0m:\u001b[36m69\u001b[0m - \u001b[34m\u001b[1mWeightSetter: Waiting for 4.99 seconds until next execution\u001b[0m\n"
     ]
    },
    {
     "name": "stderr",
     "output_type": "stream",
     "text": [
      "\u001b[32m2024-10-30 11:51:47.788\u001b[0m | \u001b[34m\u001b[1mDEBUG   \u001b[0m | \u001b[36m__main__\u001b[0m:\u001b[36mrun_loop\u001b[0m:\u001b[36m85\u001b[0m - \u001b[34m\u001b[1mWait ended\u001b[0m\n",
      "\u001b[32m2024-10-30 11:51:47.790\u001b[0m | \u001b[1mINFO    \u001b[0m | \u001b[36m__main__\u001b[0m:\u001b[36mrun_step\u001b[0m:\u001b[36m133\u001b[0m - \u001b[1mAdded reward\u001b[0m\n",
      "\u001b[32m2024-10-30 11:51:47.792\u001b[0m | \u001b[34m\u001b[1mDEBUG   \u001b[0m | \u001b[36m__main__\u001b[0m:\u001b[36mrun_loop\u001b[0m:\u001b[36m91\u001b[0m - \u001b[34m\u001b[1mResponseGatherer: Step 1 completed at 2024-10-30 11:51:47.778430+00:00\u001b[0m\n",
      "\u001b[32m2024-10-30 11:51:47.794\u001b[0m | \u001b[34m\u001b[1mDEBUG   \u001b[0m | \u001b[36m__main__\u001b[0m:\u001b[36mrun_loop\u001b[0m:\u001b[36m83\u001b[0m - \u001b[34m\u001b[1mWaiting...\u001b[0m\n",
      "\u001b[32m2024-10-30 11:51:47.797\u001b[0m | \u001b[34m\u001b[1mDEBUG   \u001b[0m | \u001b[36m__main__\u001b[0m:\u001b[36mget_time\u001b[0m:\u001b[36m33\u001b[0m - \u001b[34m\u001b[1mTime: 2024-10-30 11:51:47.797453+00:00\u001b[0m\n",
      "\u001b[32m2024-10-30 11:51:47.799\u001b[0m | \u001b[34m\u001b[1mDEBUG   \u001b[0m | \u001b[36m__main__\u001b[0m:\u001b[36mwait_for_next_execution\u001b[0m:\u001b[36m60\u001b[0m - \u001b[34m\u001b[1mCurrent time\u001b[0m\n",
      "\u001b[32m2024-10-30 11:51:47.800\u001b[0m | \u001b[34m\u001b[1mDEBUG   \u001b[0m | \u001b[36m__main__\u001b[0m:\u001b[36mwait_for_next_execution\u001b[0m:\u001b[36m65\u001b[0m - \u001b[34m\u001b[1mNext run: 2024-10-30 11:51:49.778430+00:00\u001b[0m\n",
      "\u001b[32m2024-10-30 11:51:47.801\u001b[0m | \u001b[34m\u001b[1mDEBUG   \u001b[0m | \u001b[36m__main__\u001b[0m:\u001b[36mwait_for_next_execution\u001b[0m:\u001b[36m69\u001b[0m - \u001b[34m\u001b[1mResponseGatherer: Waiting for 1.98 seconds until next execution\u001b[0m\n",
      "\u001b[32m2024-10-30 11:51:49.784\u001b[0m | \u001b[34m\u001b[1mDEBUG   \u001b[0m | \u001b[36m__main__\u001b[0m:\u001b[36mrun_loop\u001b[0m:\u001b[36m85\u001b[0m - \u001b[34m\u001b[1mWait ended\u001b[0m\n",
      "\u001b[32m2024-10-30 11:51:49.786\u001b[0m | \u001b[1mINFO    \u001b[0m | \u001b[36m__main__\u001b[0m:\u001b[36mrun_step\u001b[0m:\u001b[36m133\u001b[0m - \u001b[1mAdded reward\u001b[0m\n",
      "\u001b[32m2024-10-30 11:51:49.789\u001b[0m | \u001b[34m\u001b[1mDEBUG   \u001b[0m | \u001b[36m__main__\u001b[0m:\u001b[36mrun_loop\u001b[0m:\u001b[36m91\u001b[0m - \u001b[34m\u001b[1mResponseGatherer: Step 2 completed at 2024-10-30 11:51:49.778430+00:00\u001b[0m\n",
      "\u001b[32m2024-10-30 11:51:49.791\u001b[0m | \u001b[34m\u001b[1mDEBUG   \u001b[0m | \u001b[36m__main__\u001b[0m:\u001b[36mrun_loop\u001b[0m:\u001b[36m83\u001b[0m - \u001b[34m\u001b[1mWaiting...\u001b[0m\n",
      "\u001b[32m2024-10-30 11:51:49.793\u001b[0m | \u001b[34m\u001b[1mDEBUG   \u001b[0m | \u001b[36m__main__\u001b[0m:\u001b[36mget_time\u001b[0m:\u001b[36m33\u001b[0m - \u001b[34m\u001b[1mTime: 2024-10-30 11:51:49.793804+00:00\u001b[0m\n",
      "\u001b[32m2024-10-30 11:51:49.795\u001b[0m | \u001b[34m\u001b[1mDEBUG   \u001b[0m | \u001b[36m__main__\u001b[0m:\u001b[36mwait_for_next_execution\u001b[0m:\u001b[36m60\u001b[0m - \u001b[34m\u001b[1mCurrent time\u001b[0m\n",
      "\u001b[32m2024-10-30 11:51:49.797\u001b[0m | \u001b[34m\u001b[1mDEBUG   \u001b[0m | \u001b[36m__main__\u001b[0m:\u001b[36mwait_for_next_execution\u001b[0m:\u001b[36m65\u001b[0m - \u001b[34m\u001b[1mNext run: 2024-10-30 11:51:51.778430+00:00\u001b[0m\n",
      "\u001b[32m2024-10-30 11:51:49.799\u001b[0m | \u001b[34m\u001b[1mDEBUG   \u001b[0m | \u001b[36m__main__\u001b[0m:\u001b[36mwait_for_next_execution\u001b[0m:\u001b[36m69\u001b[0m - \u001b[34m\u001b[1mResponseGatherer: Waiting for 1.98 seconds until next execution\u001b[0m\n",
      "\u001b[32m2024-10-30 11:51:50.806\u001b[0m | \u001b[34m\u001b[1mDEBUG   \u001b[0m | \u001b[36m__main__\u001b[0m:\u001b[36mrun_loop\u001b[0m:\u001b[36m85\u001b[0m - \u001b[34m\u001b[1mWait ended\u001b[0m\n",
      "\u001b[32m2024-10-30 11:51:50.808\u001b[0m | \u001b[1mINFO    \u001b[0m | \u001b[36m__main__\u001b[0m:\u001b[36mrun_step\u001b[0m:\u001b[36m139\u001b[0m - \u001b[1mSetting weights\u001b[0m\n",
      "\u001b[32m2024-10-30 11:51:50.810\u001b[0m | \u001b[1mINFO    \u001b[0m | \u001b[36m__main__\u001b[0m:\u001b[36mrun_step\u001b[0m:\u001b[36m144\u001b[0m - \u001b[1mAll uids: {104: 0.143202170052398, 126: 0.043714489025109105}\u001b[0m\n",
      "\u001b[32m2024-10-30 11:51:50.813\u001b[0m | \u001b[34m\u001b[1mDEBUG   \u001b[0m | \u001b[36m__main__\u001b[0m:\u001b[36mrun_loop\u001b[0m:\u001b[36m91\u001b[0m - \u001b[34m\u001b[1mWeightSetter: Step 1 completed at 2024-10-30 11:51:50.792811+00:00\u001b[0m\n",
      "\u001b[32m2024-10-30 11:51:50.814\u001b[0m | \u001b[34m\u001b[1mDEBUG   \u001b[0m | \u001b[36m__main__\u001b[0m:\u001b[36mrun_loop\u001b[0m:\u001b[36m83\u001b[0m - \u001b[34m\u001b[1mWaiting...\u001b[0m\n",
      "\u001b[32m2024-10-30 11:51:50.816\u001b[0m | \u001b[34m\u001b[1mDEBUG   \u001b[0m | \u001b[36m__main__\u001b[0m:\u001b[36mget_time\u001b[0m:\u001b[36m33\u001b[0m - \u001b[34m\u001b[1mTime: 2024-10-30 11:51:50.816656+00:00\u001b[0m\n",
      "\u001b[32m2024-10-30 11:51:50.818\u001b[0m | \u001b[34m\u001b[1mDEBUG   \u001b[0m | \u001b[36m__main__\u001b[0m:\u001b[36mwait_for_next_execution\u001b[0m:\u001b[36m60\u001b[0m - \u001b[34m\u001b[1mCurrent time\u001b[0m\n",
      "\u001b[32m2024-10-30 11:51:50.820\u001b[0m | \u001b[34m\u001b[1mDEBUG   \u001b[0m | \u001b[36m__main__\u001b[0m:\u001b[36mwait_for_next_execution\u001b[0m:\u001b[36m65\u001b[0m - \u001b[34m\u001b[1mNext run: 2024-10-30 11:51:55.792811+00:00\u001b[0m\n",
      "\u001b[32m2024-10-30 11:51:50.822\u001b[0m | \u001b[34m\u001b[1mDEBUG   \u001b[0m | \u001b[36m__main__\u001b[0m:\u001b[36mwait_for_next_execution\u001b[0m:\u001b[36m69\u001b[0m - \u001b[34m\u001b[1mWeightSetter: Waiting for 4.98 seconds until next execution\u001b[0m\n",
      "\u001b[32m2024-10-30 11:51:51.787\u001b[0m | \u001b[34m\u001b[1mDEBUG   \u001b[0m | \u001b[36m__main__\u001b[0m:\u001b[36mrun_loop\u001b[0m:\u001b[36m85\u001b[0m - \u001b[34m\u001b[1mWait ended\u001b[0m\n",
      "\u001b[32m2024-10-30 11:51:51.789\u001b[0m | \u001b[1mINFO    \u001b[0m | \u001b[36m__main__\u001b[0m:\u001b[36mrun_step\u001b[0m:\u001b[36m133\u001b[0m - \u001b[1mAdded reward\u001b[0m\n",
      "\u001b[32m2024-10-30 11:51:51.791\u001b[0m | \u001b[34m\u001b[1mDEBUG   \u001b[0m | \u001b[36m__main__\u001b[0m:\u001b[36mrun_loop\u001b[0m:\u001b[36m91\u001b[0m - \u001b[34m\u001b[1mResponseGatherer: Step 3 completed at 2024-10-30 11:51:51.778430+00:00\u001b[0m\n",
      "\u001b[32m2024-10-30 11:51:51.793\u001b[0m | \u001b[34m\u001b[1mDEBUG   \u001b[0m | \u001b[36m__main__\u001b[0m:\u001b[36mrun_loop\u001b[0m:\u001b[36m83\u001b[0m - \u001b[34m\u001b[1mWaiting...\u001b[0m\n",
      "\u001b[32m2024-10-30 11:51:51.794\u001b[0m | \u001b[34m\u001b[1mDEBUG   \u001b[0m | \u001b[36m__main__\u001b[0m:\u001b[36mget_time\u001b[0m:\u001b[36m33\u001b[0m - \u001b[34m\u001b[1mTime: 2024-10-30 11:51:51.794895+00:00\u001b[0m\n",
      "\u001b[32m2024-10-30 11:51:51.796\u001b[0m | \u001b[34m\u001b[1mDEBUG   \u001b[0m | \u001b[36m__main__\u001b[0m:\u001b[36mwait_for_next_execution\u001b[0m:\u001b[36m60\u001b[0m - \u001b[34m\u001b[1mCurrent time\u001b[0m\n",
      "\u001b[32m2024-10-30 11:51:51.798\u001b[0m | \u001b[34m\u001b[1mDEBUG   \u001b[0m | \u001b[36m__main__\u001b[0m:\u001b[36mwait_for_next_execution\u001b[0m:\u001b[36m65\u001b[0m - \u001b[34m\u001b[1mNext run: 2024-10-30 11:51:53.778430+00:00\u001b[0m\n",
      "\u001b[32m2024-10-30 11:51:51.800\u001b[0m | \u001b[34m\u001b[1mDEBUG   \u001b[0m | \u001b[36m__main__\u001b[0m:\u001b[36mwait_for_next_execution\u001b[0m:\u001b[36m69\u001b[0m - \u001b[34m\u001b[1mResponseGatherer: Waiting for 1.98 seconds until next execution\u001b[0m\n",
      "\u001b[32m2024-10-30 11:51:53.788\u001b[0m | \u001b[34m\u001b[1mDEBUG   \u001b[0m | \u001b[36m__main__\u001b[0m:\u001b[36mrun_loop\u001b[0m:\u001b[36m85\u001b[0m - \u001b[34m\u001b[1mWait ended\u001b[0m\n",
      "\u001b[32m2024-10-30 11:51:53.790\u001b[0m | \u001b[1mINFO    \u001b[0m | \u001b[36m__main__\u001b[0m:\u001b[36mrun_step\u001b[0m:\u001b[36m133\u001b[0m - \u001b[1mAdded reward\u001b[0m\n",
      "\u001b[32m2024-10-30 11:51:53.792\u001b[0m | \u001b[34m\u001b[1mDEBUG   \u001b[0m | \u001b[36m__main__\u001b[0m:\u001b[36mrun_loop\u001b[0m:\u001b[36m91\u001b[0m - \u001b[34m\u001b[1mResponseGatherer: Step 4 completed at 2024-10-30 11:51:53.778430+00:00\u001b[0m\n",
      "\u001b[32m2024-10-30 11:51:53.795\u001b[0m | \u001b[34m\u001b[1mDEBUG   \u001b[0m | \u001b[36m__main__\u001b[0m:\u001b[36mrun_loop\u001b[0m:\u001b[36m83\u001b[0m - \u001b[34m\u001b[1mWaiting...\u001b[0m\n",
      "\u001b[32m2024-10-30 11:51:53.797\u001b[0m | \u001b[34m\u001b[1mDEBUG   \u001b[0m | \u001b[36m__main__\u001b[0m:\u001b[36mget_time\u001b[0m:\u001b[36m33\u001b[0m - \u001b[34m\u001b[1mTime: 2024-10-30 11:51:53.797162+00:00\u001b[0m\n",
      "\u001b[32m2024-10-30 11:51:53.798\u001b[0m | \u001b[34m\u001b[1mDEBUG   \u001b[0m | \u001b[36m__main__\u001b[0m:\u001b[36mwait_for_next_execution\u001b[0m:\u001b[36m60\u001b[0m - \u001b[34m\u001b[1mCurrent time\u001b[0m\n",
      "\u001b[32m2024-10-30 11:51:53.801\u001b[0m | \u001b[34m\u001b[1mDEBUG   \u001b[0m | \u001b[36m__main__\u001b[0m:\u001b[36mwait_for_next_execution\u001b[0m:\u001b[36m65\u001b[0m - \u001b[34m\u001b[1mNext run: 2024-10-30 11:51:55.778430+00:00\u001b[0m\n",
      "\u001b[32m2024-10-30 11:51:53.803\u001b[0m | \u001b[34m\u001b[1mDEBUG   \u001b[0m | \u001b[36m__main__\u001b[0m:\u001b[36mwait_for_next_execution\u001b[0m:\u001b[36m69\u001b[0m - \u001b[34m\u001b[1mResponseGatherer: Waiting for 1.98 seconds until next execution\u001b[0m\n",
      "\u001b[32m2024-10-30 11:51:55.789\u001b[0m | \u001b[34m\u001b[1mDEBUG   \u001b[0m | \u001b[36m__main__\u001b[0m:\u001b[36mrun_loop\u001b[0m:\u001b[36m85\u001b[0m - \u001b[34m\u001b[1mWait ended\u001b[0m\n",
      "\u001b[32m2024-10-30 11:51:55.792\u001b[0m | \u001b[1mINFO    \u001b[0m | \u001b[36m__main__\u001b[0m:\u001b[36mrun_step\u001b[0m:\u001b[36m133\u001b[0m - \u001b[1mAdded reward\u001b[0m\n",
      "\u001b[32m2024-10-30 11:51:55.794\u001b[0m | \u001b[34m\u001b[1mDEBUG   \u001b[0m | \u001b[36m__main__\u001b[0m:\u001b[36mrun_loop\u001b[0m:\u001b[36m91\u001b[0m - \u001b[34m\u001b[1mResponseGatherer: Step 5 completed at 2024-10-30 11:51:55.778430+00:00\u001b[0m\n",
      "\u001b[32m2024-10-30 11:51:55.795\u001b[0m | \u001b[34m\u001b[1mDEBUG   \u001b[0m | \u001b[36m__main__\u001b[0m:\u001b[36mrun_loop\u001b[0m:\u001b[36m83\u001b[0m - \u001b[34m\u001b[1mWaiting...\u001b[0m\n",
      "\u001b[32m2024-10-30 11:51:55.797\u001b[0m | \u001b[34m\u001b[1mDEBUG   \u001b[0m | \u001b[36m__main__\u001b[0m:\u001b[36mget_time\u001b[0m:\u001b[36m33\u001b[0m - \u001b[34m\u001b[1mTime: 2024-10-30 11:51:55.797622+00:00\u001b[0m\n",
      "\u001b[32m2024-10-30 11:51:55.799\u001b[0m | \u001b[34m\u001b[1mDEBUG   \u001b[0m | \u001b[36m__main__\u001b[0m:\u001b[36mwait_for_next_execution\u001b[0m:\u001b[36m60\u001b[0m - \u001b[34m\u001b[1mCurrent time\u001b[0m\n",
      "\u001b[32m2024-10-30 11:51:55.801\u001b[0m | \u001b[34m\u001b[1mDEBUG   \u001b[0m | \u001b[36m__main__\u001b[0m:\u001b[36mwait_for_next_execution\u001b[0m:\u001b[36m65\u001b[0m - \u001b[34m\u001b[1mNext run: 2024-10-30 11:51:57.778430+00:00\u001b[0m\n",
      "\u001b[32m2024-10-30 11:51:55.802\u001b[0m | \u001b[34m\u001b[1mDEBUG   \u001b[0m | \u001b[36m__main__\u001b[0m:\u001b[36mwait_for_next_execution\u001b[0m:\u001b[36m69\u001b[0m - \u001b[34m\u001b[1mResponseGatherer: Waiting for 1.98 seconds until next execution\u001b[0m\n",
      "\u001b[32m2024-10-30 11:51:55.804\u001b[0m | \u001b[34m\u001b[1mDEBUG   \u001b[0m | \u001b[36m__main__\u001b[0m:\u001b[36mrun_loop\u001b[0m:\u001b[36m85\u001b[0m - \u001b[34m\u001b[1mWait ended\u001b[0m\n",
      "\u001b[32m2024-10-30 11:51:55.808\u001b[0m | \u001b[1mINFO    \u001b[0m | \u001b[36m__main__\u001b[0m:\u001b[36mrun_step\u001b[0m:\u001b[36m139\u001b[0m - \u001b[1mSetting weights\u001b[0m\n",
      "\u001b[32m2024-10-30 11:51:55.810\u001b[0m | \u001b[1mINFO    \u001b[0m | \u001b[36m__main__\u001b[0m:\u001b[36mrun_step\u001b[0m:\u001b[36m144\u001b[0m - \u001b[1mAll uids: {104: 0.143202170052398, 126: 0.043714489025109105, 27: 0.9493461796916262, 753: 0.7543120698554447, 814: 0.6746190816601366}\u001b[0m\n",
      "\u001b[32m2024-10-30 11:51:55.812\u001b[0m | \u001b[34m\u001b[1mDEBUG   \u001b[0m | \u001b[36m__main__\u001b[0m:\u001b[36mrun_loop\u001b[0m:\u001b[36m91\u001b[0m - \u001b[34m\u001b[1mWeightSetter: Step 2 completed at 2024-10-30 11:51:55.792811+00:00\u001b[0m\n",
      "\u001b[32m2024-10-30 11:51:55.814\u001b[0m | \u001b[34m\u001b[1mDEBUG   \u001b[0m | \u001b[36m__main__\u001b[0m:\u001b[36mrun_loop\u001b[0m:\u001b[36m83\u001b[0m - \u001b[34m\u001b[1mWaiting...\u001b[0m\n",
      "\u001b[32m2024-10-30 11:51:55.816\u001b[0m | \u001b[34m\u001b[1mDEBUG   \u001b[0m | \u001b[36m__main__\u001b[0m:\u001b[36mget_time\u001b[0m:\u001b[36m33\u001b[0m - \u001b[34m\u001b[1mTime: 2024-10-30 11:51:55.815982+00:00\u001b[0m\n",
      "\u001b[32m2024-10-30 11:51:55.817\u001b[0m | \u001b[34m\u001b[1mDEBUG   \u001b[0m | \u001b[36m__main__\u001b[0m:\u001b[36mwait_for_next_execution\u001b[0m:\u001b[36m60\u001b[0m - \u001b[34m\u001b[1mCurrent time\u001b[0m\n",
      "\u001b[32m2024-10-30 11:51:55.819\u001b[0m | \u001b[34m\u001b[1mDEBUG   \u001b[0m | \u001b[36m__main__\u001b[0m:\u001b[36mwait_for_next_execution\u001b[0m:\u001b[36m65\u001b[0m - \u001b[34m\u001b[1mNext run: 2024-10-30 11:52:00.792811+00:00\u001b[0m\n",
      "\u001b[32m2024-10-30 11:51:55.821\u001b[0m | \u001b[34m\u001b[1mDEBUG   \u001b[0m | \u001b[36m__main__\u001b[0m:\u001b[36mwait_for_next_execution\u001b[0m:\u001b[36m69\u001b[0m - \u001b[34m\u001b[1mWeightSetter: Waiting for 4.98 seconds until next execution\u001b[0m\n",
      "\u001b[32m2024-10-30 11:51:57.788\u001b[0m | \u001b[34m\u001b[1mDEBUG   \u001b[0m | \u001b[36m__main__\u001b[0m:\u001b[36mrun_loop\u001b[0m:\u001b[36m85\u001b[0m - \u001b[34m\u001b[1mWait ended\u001b[0m\n",
      "\u001b[32m2024-10-30 11:51:57.790\u001b[0m | \u001b[1mINFO    \u001b[0m | \u001b[36m__main__\u001b[0m:\u001b[36mrun_step\u001b[0m:\u001b[36m133\u001b[0m - \u001b[1mAdded reward\u001b[0m\n",
      "\u001b[32m2024-10-30 11:51:57.792\u001b[0m | \u001b[34m\u001b[1mDEBUG   \u001b[0m | \u001b[36m__main__\u001b[0m:\u001b[36mrun_loop\u001b[0m:\u001b[36m91\u001b[0m - \u001b[34m\u001b[1mResponseGatherer: Step 6 completed at 2024-10-30 11:51:57.778430+00:00\u001b[0m\n",
      "\u001b[32m2024-10-30 11:51:57.795\u001b[0m | \u001b[34m\u001b[1mDEBUG   \u001b[0m | \u001b[36m__main__\u001b[0m:\u001b[36mrun_loop\u001b[0m:\u001b[36m83\u001b[0m - \u001b[34m\u001b[1mWaiting...\u001b[0m\n",
      "\u001b[32m2024-10-30 11:51:57.797\u001b[0m | \u001b[34m\u001b[1mDEBUG   \u001b[0m | \u001b[36m__main__\u001b[0m:\u001b[36mget_time\u001b[0m:\u001b[36m33\u001b[0m - \u001b[34m\u001b[1mTime: 2024-10-30 11:51:57.797222+00:00\u001b[0m\n",
      "\u001b[32m2024-10-30 11:51:57.799\u001b[0m | \u001b[34m\u001b[1mDEBUG   \u001b[0m | \u001b[36m__main__\u001b[0m:\u001b[36mwait_for_next_execution\u001b[0m:\u001b[36m60\u001b[0m - \u001b[34m\u001b[1mCurrent time\u001b[0m\n",
      "\u001b[32m2024-10-30 11:51:57.800\u001b[0m | \u001b[34m\u001b[1mDEBUG   \u001b[0m | \u001b[36m__main__\u001b[0m:\u001b[36mwait_for_next_execution\u001b[0m:\u001b[36m65\u001b[0m - \u001b[34m\u001b[1mNext run: 2024-10-30 11:51:59.778430+00:00\u001b[0m\n",
      "\u001b[32m2024-10-30 11:51:57.802\u001b[0m | \u001b[34m\u001b[1mDEBUG   \u001b[0m | \u001b[36m__main__\u001b[0m:\u001b[36mwait_for_next_execution\u001b[0m:\u001b[36m69\u001b[0m - \u001b[34m\u001b[1mResponseGatherer: Waiting for 1.98 seconds until next execution\u001b[0m\n",
      "\u001b[32m2024-10-30 11:51:59.788\u001b[0m | \u001b[34m\u001b[1mDEBUG   \u001b[0m | \u001b[36m__main__\u001b[0m:\u001b[36mrun_loop\u001b[0m:\u001b[36m85\u001b[0m - \u001b[34m\u001b[1mWait ended\u001b[0m\n",
      "\u001b[32m2024-10-30 11:51:59.791\u001b[0m | \u001b[1mINFO    \u001b[0m | \u001b[36m__main__\u001b[0m:\u001b[36mrun_step\u001b[0m:\u001b[36m133\u001b[0m - \u001b[1mAdded reward\u001b[0m\n",
      "\u001b[32m2024-10-30 11:51:59.792\u001b[0m | \u001b[34m\u001b[1mDEBUG   \u001b[0m | \u001b[36m__main__\u001b[0m:\u001b[36mrun_loop\u001b[0m:\u001b[36m91\u001b[0m - \u001b[34m\u001b[1mResponseGatherer: Step 7 completed at 2024-10-30 11:51:59.778430+00:00\u001b[0m\n",
      "\u001b[32m2024-10-30 11:51:59.794\u001b[0m | \u001b[34m\u001b[1mDEBUG   \u001b[0m | \u001b[36m__main__\u001b[0m:\u001b[36mrun_loop\u001b[0m:\u001b[36m83\u001b[0m - \u001b[34m\u001b[1mWaiting...\u001b[0m\n",
      "\u001b[32m2024-10-30 11:51:59.796\u001b[0m | \u001b[34m\u001b[1mDEBUG   \u001b[0m | \u001b[36m__main__\u001b[0m:\u001b[36mget_time\u001b[0m:\u001b[36m33\u001b[0m - \u001b[34m\u001b[1mTime: 2024-10-30 11:51:59.796595+00:00\u001b[0m\n",
      "\u001b[32m2024-10-30 11:51:59.798\u001b[0m | \u001b[34m\u001b[1mDEBUG   \u001b[0m | \u001b[36m__main__\u001b[0m:\u001b[36mwait_for_next_execution\u001b[0m:\u001b[36m60\u001b[0m - \u001b[34m\u001b[1mCurrent time\u001b[0m\n",
      "\u001b[32m2024-10-30 11:51:59.800\u001b[0m | \u001b[34m\u001b[1mDEBUG   \u001b[0m | \u001b[36m__main__\u001b[0m:\u001b[36mwait_for_next_execution\u001b[0m:\u001b[36m65\u001b[0m - \u001b[34m\u001b[1mNext run: 2024-10-30 11:52:01.778430+00:00\u001b[0m\n",
      "\u001b[32m2024-10-30 11:51:59.802\u001b[0m | \u001b[34m\u001b[1mDEBUG   \u001b[0m | \u001b[36m__main__\u001b[0m:\u001b[36mwait_for_next_execution\u001b[0m:\u001b[36m69\u001b[0m - \u001b[34m\u001b[1mResponseGatherer: Waiting for 1.98 seconds until next execution\u001b[0m\n",
      "\u001b[32m2024-10-30 11:52:00.774\u001b[0m | \u001b[1mINFO    \u001b[0m | \u001b[36m__main__\u001b[0m:\u001b[36mrun_loop\u001b[0m:\u001b[36m94\u001b[0m - \u001b[1mLoop was stopped.\u001b[0m\n",
      "\u001b[32m2024-10-30 11:52:00.776\u001b[0m | \u001b[1mINFO    \u001b[0m | \u001b[36m__main__\u001b[0m:\u001b[36mrun_loop\u001b[0m:\u001b[36m99\u001b[0m - \u001b[1mLoop has been cleaned up.\u001b[0m\n",
      "\u001b[32m2024-10-30 11:52:00.778\u001b[0m | \u001b[34m\u001b[1mDEBUG   \u001b[0m | \u001b[36m__main__\u001b[0m:\u001b[36mrun_loop\u001b[0m:\u001b[36m100\u001b[0m - \u001b[34m\u001b[1mExiting run_loop\u001b[0m\n",
      "\u001b[32m2024-10-30 11:52:00.781\u001b[0m | \u001b[1mINFO    \u001b[0m | \u001b[36m__main__\u001b[0m:\u001b[36mrun_loop\u001b[0m:\u001b[36m94\u001b[0m - \u001b[1mLoop was stopped.\u001b[0m\n",
      "\u001b[32m2024-10-30 11:52:00.783\u001b[0m | \u001b[1mINFO    \u001b[0m | \u001b[36m__main__\u001b[0m:\u001b[36mrun_loop\u001b[0m:\u001b[36m99\u001b[0m - \u001b[1mLoop has been cleaned up.\u001b[0m\n",
      "\u001b[32m2024-10-30 11:52:00.785\u001b[0m | \u001b[34m\u001b[1mDEBUG   \u001b[0m | \u001b[36m__main__\u001b[0m:\u001b[36mrun_loop\u001b[0m:\u001b[36m100\u001b[0m - \u001b[34m\u001b[1mExiting run_loop\u001b[0m\n"
     ]
    }
   ],
   "source": [
    "import asyncio\n",
    "from abc import ABC, abstractmethod\n",
    "from loguru import logger\n",
    "from pydantic import BaseModel, model_validator\n",
    "from datetime import timedelta\n",
    "import datetime\n",
    "import aiohttp\n",
    "\n",
    "\n",
    "class AsyncLoopRunner(BaseModel, ABC):\n",
    "    interval: int = 10  # interval to run the main function in seconds\n",
    "    running: bool = False\n",
    "    sync: bool = False  # New parameter to enable/disable synchronization\n",
    "    time_server_url: str = \"http://worldtimeapi.org/api/ip\"\n",
    "    name: str | None = None\n",
    "    step: int = 0\n",
    "\n",
    "    @model_validator(mode=\"after\")\n",
    "    def validate_name(self):\n",
    "        if self.name is None:\n",
    "            self.name = self.__class__.__name__\n",
    "        return self\n",
    "\n",
    "    @abstractmethod\n",
    "    async def run_step(self):\n",
    "        \"\"\"Implement this method with the logic that needs to run periodically.\"\"\"\n",
    "        raise NotImplementedError(\"run_step method must be implemented\")\n",
    "\n",
    "    async def get_time(self):\n",
    "        \"\"\"Get the current time from the time server with a timeout.\"\"\"\n",
    "        if not self.sync:\n",
    "            time = datetime.datetime.now(datetime.timezone.utc)\n",
    "            logger.debug(f\"Time: {time}\")\n",
    "            return time\n",
    "        try:\n",
    "            async with aiohttp.ClientSession() as session:\n",
    "                logger.info(\"Waiting for response time\")\n",
    "                async with session.get(self.time_server_url, timeout=5) as response:\n",
    "                    if response.status == 200:\n",
    "                        data = await response.json()\n",
    "                        logger.info(\"Got response\")\n",
    "                        return datetime.datetime.fromisoformat(data[\"datetime\"].replace(\"Z\", \"+00:00\"))\n",
    "                    else:\n",
    "                        raise Exception(f\"Failed to get server time. Status: {response.status}\")\n",
    "        except Exception as ex:\n",
    "            logger.warning(f\"Could not get time from server: {ex}. Falling back to local time.\")\n",
    "            return datetime.datetime.now(datetime.timezone.utc)\n",
    "\n",
    "    def next_sync_point(self, current_time):\n",
    "        \"\"\"Calculate the next sync point based on the current time and interval.\"\"\"\n",
    "        epoch = datetime.datetime(1970, 1, 1, tzinfo=datetime.timezone.utc)\n",
    "        time_since_epoch = current_time - epoch\n",
    "        seconds_since_epoch = time_since_epoch.total_seconds()\n",
    "        next_interval = (seconds_since_epoch // self.interval + 1) * self.interval\n",
    "        return epoch + timedelta(seconds=next_interval)\n",
    "\n",
    "    async def wait_for_next_execution(self, last_run_time):\n",
    "        \"\"\"Wait until the next execution time, either synced or based on last run.\"\"\"\n",
    "        current_time = await self.get_time()\n",
    "        logger.debug(\"Current time\")\n",
    "        if self.sync:\n",
    "            next_run = self.next_sync_point(current_time)\n",
    "        else:\n",
    "            next_run = last_run_time + timedelta(seconds=self.interval)\n",
    "        logger.debug(f\"Next run: {next_run}\")\n",
    "\n",
    "        wait_time = (next_run - current_time).total_seconds()\n",
    "        if wait_time > 0:\n",
    "            logger.debug(\n",
    "                f\"{self.name}: Waiting for {wait_time:.2f} seconds until next {'sync point' if self.sync else 'execution'}\"\n",
    "            )\n",
    "            await asyncio.sleep(wait_time)\n",
    "        return next_run\n",
    "\n",
    "    async def run_loop(self):\n",
    "        \"\"\"Run the loop periodically, optionally synchronizing across all instances.\"\"\"\n",
    "        logger.debug(f\"Starting loop {self.__class__.__name__}; running: {self.running}\")\n",
    "\n",
    "        last_run_time = await self.get_time()\n",
    "        logger.debug(f\"Got time of last run: {last_run_time}\")\n",
    "        try:\n",
    "            while self.running:\n",
    "                logger.debug(\"Waiting...\")\n",
    "                next_run = await self.wait_for_next_execution(last_run_time)\n",
    "                logger.debug(\"Wait ended\")\n",
    "                try:\n",
    "                    await self.run_step()\n",
    "                except Exception as ex:\n",
    "                    logger.exception(f\"Error in loop iteration: {ex}\")\n",
    "                self.step += 1\n",
    "                logger.debug(f\"{self.name}: Step {self.step} completed at {next_run}\")\n",
    "                last_run_time = next_run\n",
    "        except asyncio.CancelledError:\n",
    "            logger.info(\"Loop was stopped.\")\n",
    "        except Exception as e:\n",
    "            logger.error(f\"Fatal error in loop: {e}\")\n",
    "        finally:\n",
    "            self.running = False\n",
    "            logger.info(\"Loop has been cleaned up.\")\n",
    "        logger.debug(\"Exiting run_loop\")\n",
    "\n",
    "    async def start(self):\n",
    "        \"\"\"Start the loop.\"\"\"\n",
    "        if self.running:\n",
    "            logger.warning(\"Loop is already running.\")\n",
    "            return\n",
    "        self.running = True\n",
    "        logger.debug(f\"{self.name}: Starting loop with {'synchronized' if self.sync else 'non-synchronized'} mode\")\n",
    "        self._task = asyncio.create_task(self.run_loop())\n",
    "\n",
    "    async def stop(self):\n",
    "        \"\"\"Stop the loop.\"\"\"\n",
    "        self.running = False\n",
    "        if self._task:\n",
    "            self._task.cancel()\n",
    "            try:\n",
    "                await self._task\n",
    "            except asyncio.CancelledError:\n",
    "                logger.info(\"Loop task was cancelled.\")\n",
    "\n",
    "\n",
    "# ---------------------------------------------------------------------------------------\n",
    "import numpy as np\n",
    "responses = []\n",
    "\n",
    "# simulates getting scored responses from miners\n",
    "class ResponseGatherer(AsyncLoopRunner):\n",
    "    interval: int = 2\n",
    "\n",
    "    async def run_step(self):\n",
    "        miner_uids = np.random.randint(0, 1024)\n",
    "        miner_score = np.random.random()\n",
    "        responses.append({miner_uids: miner_score})\n",
    "        logger.info(\"Added reward\")\n",
    "\n",
    "# simulates settings weights\n",
    "class WeightSetter(AsyncLoopRunner):\n",
    "    interval: int = 5\n",
    "    \n",
    "    async def run_step(self):\n",
    "        logger.info(\"Setting weights\")\n",
    "        all_uids: dict[int, float] = {}\n",
    "        for response in responses:\n",
    "            miner_uid, miner_score = list(response.items())[0]\n",
    "            all_uids[miner_uid] = miner_score\n",
    "        logger.info(f\"All uids: {all_uids}\")\n",
    "        \n",
    "response_gatherer = ResponseGatherer()\n",
    "weight_setter = WeightSetter()\n",
    "\n",
    "# start both loops\n",
    "asyncio.create_task(response_gatherer.start())\n",
    "asyncio.create_task(weight_setter.start())\n",
    "# run for 20 seconds\n",
    "await asyncio.sleep(20)\n",
    "# stop both loops\n",
    "await response_gatherer.stop()\n",
    "await weight_setter.stop()\n",
    "\n"
   ]
  },
  {
   "cell_type": "code",
   "execution_count": null,
   "metadata": {},
   "outputs": [],
   "source": []
  }
 ],
 "metadata": {
  "kernelspec": {
   "display_name": "prompting-fb5sw-i7-py3.10",
   "language": "python",
   "name": "python3"
  },
  "language_info": {
   "codemirror_mode": {
    "name": "ipython",
    "version": 3
   },
   "file_extension": ".py",
   "mimetype": "text/x-python",
   "name": "python",
   "nbconvert_exporter": "python",
   "pygments_lexer": "ipython3",
   "version": "3.10.12"
  }
 },
 "nbformat": 4,
 "nbformat_minor": 2
}
