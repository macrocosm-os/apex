{
 "cells": [
  {
   "cell_type": "code",
   "execution_count": 2,
   "metadata": {},
   "outputs": [],
   "source": [
    "import nltk\n",
    "from nltk.corpus import brown\n",
    "from collections import Counter\n",
    "\n",
    "\n",
    "def load_most_common_words(n=25000):\n",
    "    # Download necessary NLTK data\n",
    "    nltk.download('brown', quiet=True)\n",
    "\n",
    "    # Get all words from the Brown corpus\n",
    "    words = brown.words()\n",
    "\n",
    "    # Convert to lowercase and count frequencies\n",
    "    word_freq = Counter(word.lower() for word in words)\n",
    "\n",
    "    # Get the n most common words\n",
    "    most_common = word_freq.most_common(n)\n",
    "\n",
    "    # Extract just the words (without frequencies)\n",
    "    common_words = [word for word, _ in most_common]\n",
    "\n",
    "    return common_words\n",
    "\n",
    "ENGLISH_WORDS = load_most_common_words()"
   ]
  },
  {
   "cell_type": "code",
   "execution_count": 6,
   "metadata": {},
   "outputs": [
    {
     "data": {
      "text/plain": [
       "['nude',\n",
       " 'okay',\n",
       " 'borden',\n",
       " 'plato',\n",
       " 'oedipus',\n",
       " 'lungs',\n",
       " 'input',\n",
       " '/',\n",
       " 'suitcase',\n",
       " 'skyros',\n",
       " 'freddy',\n",
       " 'airport',\n",
       " 'gov.',\n",
       " 'rob',\n",
       " 'consistently',\n",
       " 'policeman',\n",
       " 'underground',\n",
       " 'remainder',\n",
       " 'arrest',\n",
       " 'whereby']"
      ]
     },
     "execution_count": 6,
     "metadata": {},
     "output_type": "execute_result"
    }
   ],
   "source": [
    "ENGLISH_WORDS[5000:5020]"
   ]
  },
  {
   "cell_type": "code",
   "execution_count": 2,
   "metadata": {},
   "outputs": [
    {
     "name": "stderr",
     "output_type": "stream",
     "text": [
      "\u001b[34m\u001b[1mwandb\u001b[0m: \u001b[33mWARNING\u001b[0m Calling wandb.login() after wandb.init() has no effect.\n"
     ]
    },
    {
     "data": {
      "text/html": [
       "Finishing last run (ID:i9c3xh04) before initializing another..."
      ],
      "text/plain": [
       "<IPython.core.display.HTML object>"
      ]
     },
     "metadata": {},
     "output_type": "display_data"
    },
    {
     "data": {
      "text/html": [
       " View run <strong style=\"color:#cdcd00\">dulcet-water-449</strong> at: <a href='https://wandb.ai/macrocosmos/prompting-validators/runs/i9c3xh04' target=\"_blank\">https://wandb.ai/macrocosmos/prompting-validators/runs/i9c3xh04</a><br/> View project at: <a href='https://wandb.ai/macrocosmos/prompting-validators' target=\"_blank\">https://wandb.ai/macrocosmos/prompting-validators</a><br/>Synced 5 W&B file(s), 0 media file(s), 0 artifact file(s) and 0 other file(s)"
      ],
      "text/plain": [
       "<IPython.core.display.HTML object>"
      ]
     },
     "metadata": {},
     "output_type": "display_data"
    },
    {
     "data": {
      "text/html": [
       "Find logs at: <code>./wandb/run-20240808_152723-i9c3xh04/logs</code>"
      ],
      "text/plain": [
       "<IPython.core.display.HTML object>"
      ]
     },
     "metadata": {},
     "output_type": "display_data"
    },
    {
     "data": {
      "text/html": [
       "The new W&B backend becomes opt-out in version 0.18.0; try it out with `wandb.require(\"core\")`! See https://wandb.me/wandb-core for more information."
      ],
      "text/plain": [
       "<IPython.core.display.HTML object>"
      ]
     },
     "metadata": {},
     "output_type": "display_data"
    },
    {
     "data": {
      "text/html": [
       "Successfully finished last run (ID:i9c3xh04). Initializing new run:<br/>"
      ],
      "text/plain": [
       "<IPython.core.display.HTML object>"
      ]
     },
     "metadata": {},
     "output_type": "display_data"
    },
    {
     "data": {
      "text/html": [
       "wandb version 0.17.6 is available!  To upgrade, please run:\n",
       " $ pip install wandb --upgrade"
      ],
      "text/plain": [
       "<IPython.core.display.HTML object>"
      ]
     },
     "metadata": {},
     "output_type": "display_data"
    },
    {
     "data": {
      "text/html": [
       "Tracking run with wandb version 0.17.5"
      ],
      "text/plain": [
       "<IPython.core.display.HTML object>"
      ]
     },
     "metadata": {},
     "output_type": "display_data"
    },
    {
     "data": {
      "text/html": [
       "Run data is saved locally in <code>/workspace/prompting/notebooks/wandb/run-20240808_152918-pd83p69r</code>"
      ],
      "text/plain": [
       "<IPython.core.display.HTML object>"
      ]
     },
     "metadata": {},
     "output_type": "display_data"
    },
    {
     "data": {
      "text/html": [
       "Syncing run <strong><a href='https://wandb.ai/felix-quinque-macrocosmos-ai/validators/runs/pd83p69r' target=\"_blank\">super-wildflower-1</a></strong> to <a href='https://wandb.ai/felix-quinque-macrocosmos-ai/validators' target=\"_blank\">Weights & Biases</a> (<a href='https://wandb.me/run' target=\"_blank\">docs</a>)<br/>"
      ],
      "text/plain": [
       "<IPython.core.display.HTML object>"
      ]
     },
     "metadata": {},
     "output_type": "display_data"
    },
    {
     "data": {
      "text/html": [
       " View project at <a href='https://wandb.ai/felix-quinque-macrocosmos-ai/validators' target=\"_blank\">https://wandb.ai/felix-quinque-macrocosmos-ai/validators</a>"
      ],
      "text/plain": [
       "<IPython.core.display.HTML object>"
      ]
     },
     "metadata": {},
     "output_type": "display_data"
    },
    {
     "data": {
      "text/html": [
       " View run at <a href='https://wandb.ai/felix-quinque-macrocosmos-ai/validators/runs/pd83p69r' target=\"_blank\">https://wandb.ai/felix-quinque-macrocosmos-ai/validators/runs/pd83p69r</a>"
      ],
      "text/plain": [
       "<IPython.core.display.HTML object>"
      ]
     },
     "metadata": {},
     "output_type": "display_data"
    },
    {
     "data": {
      "text/html": [
       "<button onClick=\"this.nextSibling.style.display='block';this.style.display='none';\">Display W&B run</button><iframe src='https://wandb.ai/felix-quinque-macrocosmos-ai/validators/runs/pd83p69r?jupyter=true' style='border:none;width:100%;height:420px;display:none;'></iframe>"
      ],
      "text/plain": [
       "<wandb.sdk.wandb_run.Run at 0x7ff443907ac0>"
      ]
     },
     "execution_count": 2,
     "metadata": {},
     "output_type": "execute_result"
    }
   ],
   "source": [
    "import wandb\n",
    "\n",
    "wandb.login(relogin=True, key=\"ae29a588c238d0e168d620e0b18a5e29e283935a\")\n",
    "wandb.init(\n",
    "    project=\"validators\",\n",
    "    entity=\"felix-quinque-macrocosmos-ai\",\n",
    ")"
   ]
  },
  {
   "cell_type": "code",
   "execution_count": 7,
   "metadata": {},
   "outputs": [
    {
     "name": "stderr",
     "output_type": "stream",
     "text": [
      "wandb: Currently logged in as: felix-quinque-macrocosmos. Use `wandb login --relogin` to force relogin\n",
      "wandb: ERROR Error while calling W&B API: permission denied (<Response [403]>)\n"
     ]
    },
    {
     "data": {
      "text/html": [
       "<pre style=\"white-space:pre;overflow-x:auto;line-height:normal;font-family:Menlo,'DejaVu Sans Mono',consolas,'Courier New',monospace\"><span style=\"color: #800000; text-decoration-color: #800000\">╭─────────────────────────────── </span><span style=\"color: #800000; text-decoration-color: #800000; font-weight: bold\">Traceback </span><span style=\"color: #bf7f7f; text-decoration-color: #bf7f7f; font-weight: bold\">(most recent call last)</span><span style=\"color: #800000; text-decoration-color: #800000\"> ────────────────────────────────╮</span>\n",
       "<span style=\"color: #800000; text-decoration-color: #800000\">│</span> in <span style=\"color: #00ff00; text-decoration-color: #00ff00\">&lt;module&gt;</span>:<span style=\"color: #0000ff; text-decoration-color: #0000ff\">1</span>                                                                                    <span style=\"color: #800000; text-decoration-color: #800000\">│</span>\n",
       "<span style=\"color: #800000; text-decoration-color: #800000\">│</span>                                                                                                  <span style=\"color: #800000; text-decoration-color: #800000\">│</span>\n",
       "<span style=\"color: #800000; text-decoration-color: #800000\">│</span> <span style=\"color: #800000; text-decoration-color: #800000\">❱ </span>1 WANDB = wandb.init(                                                                          <span style=\"color: #800000; text-decoration-color: #800000\">│</span>\n",
       "<span style=\"color: #800000; text-decoration-color: #800000\">│</span>   <span style=\"color: #7f7f7f; text-decoration-color: #7f7f7f\">2 </span><span style=\"color: #7f7f7f; text-decoration-color: #7f7f7f\">│   │   </span>project=<span style=\"color: #808000; text-decoration-color: #808000\">\"validator\"</span>,                                                                 <span style=\"color: #800000; text-decoration-color: #800000\">│</span>\n",
       "<span style=\"color: #800000; text-decoration-color: #800000\">│</span>   <span style=\"color: #7f7f7f; text-decoration-color: #7f7f7f\">3 </span><span style=\"color: #7f7f7f; text-decoration-color: #7f7f7f\">│   │   </span>entity=<span style=\"color: #808000; text-decoration-color: #808000\">\"felix-quinque-macrocosmos\"</span>                                                   <span style=\"color: #800000; text-decoration-color: #800000\">│</span>\n",
       "<span style=\"color: #800000; text-decoration-color: #800000\">│</span>   <span style=\"color: #7f7f7f; text-decoration-color: #7f7f7f\">4 </span><span style=\"color: #7f7f7f; text-decoration-color: #7f7f7f\">│   </span>)                                                                                        <span style=\"color: #800000; text-decoration-color: #800000\">│</span>\n",
       "<span style=\"color: #800000; text-decoration-color: #800000\">│</span>                                                                                                  <span style=\"color: #800000; text-decoration-color: #800000\">│</span>\n",
       "<span style=\"color: #800000; text-decoration-color: #800000\">│</span> <span style=\"color: #bfbf7f; text-decoration-color: #bfbf7f\">/root/.cache/pypoetry/virtualenvs/prompting-fb5sw-i7-py3.10/lib/python3.10/site-packages/wandb/s</span> <span style=\"color: #800000; text-decoration-color: #800000\">│</span>\n",
       "<span style=\"color: #800000; text-decoration-color: #800000\">│</span> <span style=\"color: #bfbf7f; text-decoration-color: #bfbf7f\">dk/</span><span style=\"color: #808000; text-decoration-color: #808000; font-weight: bold\">wandb_init.py</span>:<span style=\"color: #0000ff; text-decoration-color: #0000ff\">1195</span> in <span style=\"color: #00ff00; text-decoration-color: #00ff00\">init</span>                                                                    <span style=\"color: #800000; text-decoration-color: #800000\">│</span>\n",
       "<span style=\"color: #800000; text-decoration-color: #800000\">│</span>                                                                                                  <span style=\"color: #800000; text-decoration-color: #800000\">│</span>\n",
       "<span style=\"color: #800000; text-decoration-color: #800000\">│</span>   <span style=\"color: #7f7f7f; text-decoration-color: #7f7f7f\">1192 </span><span style=\"color: #7f7f7f; text-decoration-color: #7f7f7f\">│   │   </span>                                                                                  <span style=\"color: #800000; text-decoration-color: #800000\">│</span>\n",
       "<span style=\"color: #800000; text-decoration-color: #800000\">│</span>   <span style=\"color: #7f7f7f; text-decoration-color: #7f7f7f\">1193 </span><span style=\"color: #7f7f7f; text-decoration-color: #7f7f7f\">│   │   </span><span style=\"color: #7f7f7f; text-decoration-color: #7f7f7f\"># Need to build delay into this sentry capture because our exit hooks</span>             <span style=\"color: #800000; text-decoration-color: #800000\">│</span>\n",
       "<span style=\"color: #800000; text-decoration-color: #800000\">│</span>   <span style=\"color: #7f7f7f; text-decoration-color: #7f7f7f\">1194 </span><span style=\"color: #7f7f7f; text-decoration-color: #7f7f7f\">│   │   </span><span style=\"color: #7f7f7f; text-decoration-color: #7f7f7f\"># mess with sentry's ability to send out errors before the program ends.</span>          <span style=\"color: #800000; text-decoration-color: #800000\">│</span>\n",
       "<span style=\"color: #800000; text-decoration-color: #800000\">│</span> <span style=\"color: #800000; text-decoration-color: #800000\">❱ </span>1195 <span style=\"color: #7f7f7f; text-decoration-color: #7f7f7f\">│   │   </span>wandb._sentry.reraise(e)                                                          <span style=\"color: #800000; text-decoration-color: #800000\">│</span>\n",
       "<span style=\"color: #800000; text-decoration-color: #800000\">│</span>   <span style=\"color: #7f7f7f; text-decoration-color: #7f7f7f\">1196 </span><span style=\"color: #7f7f7f; text-decoration-color: #7f7f7f\">│   │   </span><span style=\"color: #0000ff; text-decoration-color: #0000ff\">raise</span> <span style=\"color: #00ffff; text-decoration-color: #00ffff\">AssertionError</span>()  <span style=\"color: #7f7f7f; text-decoration-color: #7f7f7f\"># unreachable</span>                                             <span style=\"color: #800000; text-decoration-color: #800000\">│</span>\n",
       "<span style=\"color: #800000; text-decoration-color: #800000\">│</span>   <span style=\"color: #7f7f7f; text-decoration-color: #7f7f7f\">1197 </span>                                                                                          <span style=\"color: #800000; text-decoration-color: #800000\">│</span>\n",
       "<span style=\"color: #800000; text-decoration-color: #800000\">│</span>                                                                                                  <span style=\"color: #800000; text-decoration-color: #800000\">│</span>\n",
       "<span style=\"color: #800000; text-decoration-color: #800000\">│</span> <span style=\"color: #bfbf7f; text-decoration-color: #bfbf7f\">/root/.cache/pypoetry/virtualenvs/prompting-fb5sw-i7-py3.10/lib/python3.10/site-packages/wandb/a</span> <span style=\"color: #800000; text-decoration-color: #800000\">│</span>\n",
       "<span style=\"color: #800000; text-decoration-color: #800000\">│</span> <span style=\"color: #bfbf7f; text-decoration-color: #bfbf7f\">nalytics/</span><span style=\"color: #808000; text-decoration-color: #808000; font-weight: bold\">sentry.py</span>:<span style=\"color: #0000ff; text-decoration-color: #0000ff\">155</span> in <span style=\"color: #00ff00; text-decoration-color: #00ff00\">reraise</span>                                                                <span style=\"color: #800000; text-decoration-color: #800000\">│</span>\n",
       "<span style=\"color: #800000; text-decoration-color: #800000\">│</span>                                                                                                  <span style=\"color: #800000; text-decoration-color: #800000\">│</span>\n",
       "<span style=\"color: #800000; text-decoration-color: #800000\">│</span>   <span style=\"color: #7f7f7f; text-decoration-color: #7f7f7f\">152 </span><span style=\"color: #7f7f7f; text-decoration-color: #7f7f7f\">│   │   </span><span style=\"color: #00ffff; text-decoration-color: #00ffff\">self</span>.exception(exc)                                                                <span style=\"color: #800000; text-decoration-color: #800000\">│</span>\n",
       "<span style=\"color: #800000; text-decoration-color: #800000\">│</span>   <span style=\"color: #7f7f7f; text-decoration-color: #7f7f7f\">153 </span><span style=\"color: #7f7f7f; text-decoration-color: #7f7f7f\">│   │   </span><span style=\"color: #7f7f7f; text-decoration-color: #7f7f7f\"># this will messily add this \"reraise\" function to the stack trace,</span>                <span style=\"color: #800000; text-decoration-color: #800000\">│</span>\n",
       "<span style=\"color: #800000; text-decoration-color: #800000\">│</span>   <span style=\"color: #7f7f7f; text-decoration-color: #7f7f7f\">154 </span><span style=\"color: #7f7f7f; text-decoration-color: #7f7f7f\">│   │   </span><span style=\"color: #7f7f7f; text-decoration-color: #7f7f7f\"># but hopefully it's not too bad</span>                                                   <span style=\"color: #800000; text-decoration-color: #800000\">│</span>\n",
       "<span style=\"color: #800000; text-decoration-color: #800000\">│</span> <span style=\"color: #800000; text-decoration-color: #800000\">❱ </span>155 <span style=\"color: #7f7f7f; text-decoration-color: #7f7f7f\">│   │   </span><span style=\"color: #0000ff; text-decoration-color: #0000ff\">raise</span> exc.with_traceback(sys.exc_info()[<span style=\"color: #0000ff; text-decoration-color: #0000ff\">2</span>])                                        <span style=\"color: #800000; text-decoration-color: #800000\">│</span>\n",
       "<span style=\"color: #800000; text-decoration-color: #800000\">│</span>   <span style=\"color: #7f7f7f; text-decoration-color: #7f7f7f\">156 </span><span style=\"color: #7f7f7f; text-decoration-color: #7f7f7f\">│   </span>                                                                                       <span style=\"color: #800000; text-decoration-color: #800000\">│</span>\n",
       "<span style=\"color: #800000; text-decoration-color: #800000\">│</span>   <span style=\"color: #7f7f7f; text-decoration-color: #7f7f7f\">157 </span><span style=\"color: #7f7f7f; text-decoration-color: #7f7f7f\">│   </span><span style=\"color: #ff00ff; text-decoration-color: #ff00ff; font-weight: bold\">@_safe_noop</span>                                                                            <span style=\"color: #800000; text-decoration-color: #800000\">│</span>\n",
       "<span style=\"color: #800000; text-decoration-color: #800000\">│</span>   <span style=\"color: #7f7f7f; text-decoration-color: #7f7f7f\">158 </span><span style=\"color: #7f7f7f; text-decoration-color: #7f7f7f\">│   </span><span style=\"color: #0000ff; text-decoration-color: #0000ff\">def</span> <span style=\"color: #00ff00; text-decoration-color: #00ff00\">start_session</span>(<span style=\"color: #00ffff; text-decoration-color: #00ffff\">self</span>) -&gt; <span style=\"color: #0000ff; text-decoration-color: #0000ff\">None</span>:                                                       <span style=\"color: #800000; text-decoration-color: #800000\">│</span>\n",
       "<span style=\"color: #800000; text-decoration-color: #800000\">│</span>                                                                                                  <span style=\"color: #800000; text-decoration-color: #800000\">│</span>\n",
       "<span style=\"color: #800000; text-decoration-color: #800000\">│</span> <span style=\"color: #bfbf7f; text-decoration-color: #bfbf7f\">/root/.cache/pypoetry/virtualenvs/prompting-fb5sw-i7-py3.10/lib/python3.10/site-packages/wandb/s</span> <span style=\"color: #800000; text-decoration-color: #800000\">│</span>\n",
       "<span style=\"color: #800000; text-decoration-color: #800000\">│</span> <span style=\"color: #bfbf7f; text-decoration-color: #bfbf7f\">dk/</span><span style=\"color: #808000; text-decoration-color: #808000; font-weight: bold\">wandb_init.py</span>:<span style=\"color: #0000ff; text-decoration-color: #0000ff\">1181</span> in <span style=\"color: #00ff00; text-decoration-color: #00ff00\">init</span>                                                                    <span style=\"color: #800000; text-decoration-color: #800000\">│</span>\n",
       "<span style=\"color: #800000; text-decoration-color: #800000\">│</span>                                                                                                  <span style=\"color: #800000; text-decoration-color: #800000\">│</span>\n",
       "<span style=\"color: #800000; text-decoration-color: #800000\">│</span>   <span style=\"color: #7f7f7f; text-decoration-color: #7f7f7f\">1178 </span><span style=\"color: #7f7f7f; text-decoration-color: #7f7f7f\">│   </span><span style=\"color: #0000ff; text-decoration-color: #0000ff\">try</span>:                                                                                  <span style=\"color: #800000; text-decoration-color: #800000\">│</span>\n",
       "<span style=\"color: #800000; text-decoration-color: #800000\">│</span>   <span style=\"color: #7f7f7f; text-decoration-color: #7f7f7f\">1179 </span><span style=\"color: #7f7f7f; text-decoration-color: #7f7f7f\">│   │   </span>wi = _WandbInit()                                                                 <span style=\"color: #800000; text-decoration-color: #800000\">│</span>\n",
       "<span style=\"color: #800000; text-decoration-color: #800000\">│</span>   <span style=\"color: #7f7f7f; text-decoration-color: #7f7f7f\">1180 </span><span style=\"color: #7f7f7f; text-decoration-color: #7f7f7f\">│   │   </span>wi.setup(kwargs)                                                                  <span style=\"color: #800000; text-decoration-color: #800000\">│</span>\n",
       "<span style=\"color: #800000; text-decoration-color: #800000\">│</span> <span style=\"color: #800000; text-decoration-color: #800000\">❱ </span>1181 <span style=\"color: #7f7f7f; text-decoration-color: #7f7f7f\">│   │   </span><span style=\"color: #0000ff; text-decoration-color: #0000ff\">return</span> wi.init()                                                                  <span style=\"color: #800000; text-decoration-color: #800000\">│</span>\n",
       "<span style=\"color: #800000; text-decoration-color: #800000\">│</span>   <span style=\"color: #7f7f7f; text-decoration-color: #7f7f7f\">1182 </span><span style=\"color: #7f7f7f; text-decoration-color: #7f7f7f\">│   </span>                                                                                      <span style=\"color: #800000; text-decoration-color: #800000\">│</span>\n",
       "<span style=\"color: #800000; text-decoration-color: #800000\">│</span>   <span style=\"color: #7f7f7f; text-decoration-color: #7f7f7f\">1183 </span><span style=\"color: #7f7f7f; text-decoration-color: #7f7f7f\">│   </span><span style=\"color: #0000ff; text-decoration-color: #0000ff\">except</span> <span style=\"color: #00ffff; text-decoration-color: #00ffff\">KeyboardInterrupt</span> <span style=\"color: #0000ff; text-decoration-color: #0000ff\">as</span> e:                                                        <span style=\"color: #800000; text-decoration-color: #800000\">│</span>\n",
       "<span style=\"color: #800000; text-decoration-color: #800000\">│</span>   <span style=\"color: #7f7f7f; text-decoration-color: #7f7f7f\">1184 </span><span style=\"color: #7f7f7f; text-decoration-color: #7f7f7f\">│   │   </span><span style=\"color: #0000ff; text-decoration-color: #0000ff\">if</span> logger <span style=\"color: #ff00ff; text-decoration-color: #ff00ff\">is</span> <span style=\"color: #ff00ff; text-decoration-color: #ff00ff\">not</span> <span style=\"color: #0000ff; text-decoration-color: #0000ff\">None</span>:                                                            <span style=\"color: #800000; text-decoration-color: #800000\">│</span>\n",
       "<span style=\"color: #800000; text-decoration-color: #800000\">│</span>                                                                                                  <span style=\"color: #800000; text-decoration-color: #800000\">│</span>\n",
       "<span style=\"color: #800000; text-decoration-color: #800000\">│</span> <span style=\"color: #bfbf7f; text-decoration-color: #bfbf7f\">/root/.cache/pypoetry/virtualenvs/prompting-fb5sw-i7-py3.10/lib/python3.10/site-packages/wandb/s</span> <span style=\"color: #800000; text-decoration-color: #800000\">│</span>\n",
       "<span style=\"color: #800000; text-decoration-color: #800000\">│</span> <span style=\"color: #bfbf7f; text-decoration-color: #bfbf7f\">dk/</span><span style=\"color: #808000; text-decoration-color: #808000; font-weight: bold\">wandb_init.py</span>:<span style=\"color: #0000ff; text-decoration-color: #0000ff\">785</span> in <span style=\"color: #00ff00; text-decoration-color: #00ff00\">init</span>                                                                     <span style=\"color: #800000; text-decoration-color: #800000\">│</span>\n",
       "<span style=\"color: #800000; text-decoration-color: #800000\">│</span>                                                                                                  <span style=\"color: #800000; text-decoration-color: #800000\">│</span>\n",
       "<span style=\"color: #800000; text-decoration-color: #800000\">│</span>   <span style=\"color: #7f7f7f; text-decoration-color: #7f7f7f\"> 782 </span><span style=\"color: #7f7f7f; text-decoration-color: #7f7f7f\">│   │   │   │   </span><span style=\"color: #7f7f7f; text-decoration-color: #7f7f7f\"># we don't need to do console cleanup at this point</span>                       <span style=\"color: #800000; text-decoration-color: #800000\">│</span>\n",
       "<span style=\"color: #800000; text-decoration-color: #800000\">│</span>   <span style=\"color: #7f7f7f; text-decoration-color: #7f7f7f\"> 783 </span><span style=\"color: #7f7f7f; text-decoration-color: #7f7f7f\">│   │   │   │   </span>backend.cleanup()                                                         <span style=\"color: #800000; text-decoration-color: #800000\">│</span>\n",
       "<span style=\"color: #800000; text-decoration-color: #800000\">│</span>   <span style=\"color: #7f7f7f; text-decoration-color: #7f7f7f\"> 784 </span><span style=\"color: #7f7f7f; text-decoration-color: #7f7f7f\">│   │   │   │   </span><span style=\"color: #00ffff; text-decoration-color: #00ffff\">self</span>.teardown()                                                           <span style=\"color: #800000; text-decoration-color: #800000\">│</span>\n",
       "<span style=\"color: #800000; text-decoration-color: #800000\">│</span> <span style=\"color: #800000; text-decoration-color: #800000\">❱ </span> 785 <span style=\"color: #7f7f7f; text-decoration-color: #7f7f7f\">│   │   │   </span><span style=\"color: #0000ff; text-decoration-color: #0000ff\">raise</span> error                                                                   <span style=\"color: #800000; text-decoration-color: #800000\">│</span>\n",
       "<span style=\"color: #800000; text-decoration-color: #800000\">│</span>   <span style=\"color: #7f7f7f; text-decoration-color: #7f7f7f\"> 786 </span><span style=\"color: #7f7f7f; text-decoration-color: #7f7f7f\">│   │   </span>                                                                                  <span style=\"color: #800000; text-decoration-color: #800000\">│</span>\n",
       "<span style=\"color: #800000; text-decoration-color: #800000\">│</span>   <span style=\"color: #7f7f7f; text-decoration-color: #7f7f7f\"> 787 </span><span style=\"color: #7f7f7f; text-decoration-color: #7f7f7f\">│   │   </span><span style=\"color: #0000ff; text-decoration-color: #0000ff\">assert</span> run_result <span style=\"color: #ff00ff; text-decoration-color: #ff00ff\">is</span> <span style=\"color: #ff00ff; text-decoration-color: #ff00ff\">not</span> <span style=\"color: #0000ff; text-decoration-color: #0000ff\">None</span>  <span style=\"color: #7f7f7f; text-decoration-color: #7f7f7f\"># for mypy</span>                                         <span style=\"color: #800000; text-decoration-color: #800000\">│</span>\n",
       "<span style=\"color: #800000; text-decoration-color: #800000\">│</span>   <span style=\"color: #7f7f7f; text-decoration-color: #7f7f7f\"> 788 </span>                                                                                          <span style=\"color: #800000; text-decoration-color: #800000\">│</span>\n",
       "<span style=\"color: #800000; text-decoration-color: #800000\">╰──────────────────────────────────────────────────────────────────────────────────────────────────╯</span>\n",
       "<span style=\"color: #ff0000; text-decoration-color: #ff0000; font-weight: bold\">CommError: </span>It appears that you do not have permission to access the requested resource. Please reach out to the \n",
       "project owner to grant you access. If you have the correct permissions, verify that there are no issues with your \n",
       "networking <span style=\"color: #800080; text-decoration-color: #800080; font-weight: bold\">setup.</span><span style=\"font-weight: bold\">(</span>Error <span style=\"color: #008080; text-decoration-color: #008080; font-weight: bold\">403</span>: Forbidden<span style=\"font-weight: bold\">)</span>\n",
       "</pre>\n"
      ],
      "text/plain": [
       "\u001b[31m╭─\u001b[0m\u001b[31m──────────────────────────────\u001b[0m\u001b[31m \u001b[0m\u001b[1;31mTraceback \u001b[0m\u001b[1;2;31m(most recent call last)\u001b[0m\u001b[31m \u001b[0m\u001b[31m───────────────────────────────\u001b[0m\u001b[31m─╮\u001b[0m\n",
       "\u001b[31m│\u001b[0m in \u001b[92m<module>\u001b[0m:\u001b[94m1\u001b[0m                                                                                    \u001b[31m│\u001b[0m\n",
       "\u001b[31m│\u001b[0m                                                                                                  \u001b[31m│\u001b[0m\n",
       "\u001b[31m│\u001b[0m \u001b[31m❱ \u001b[0m1 WANDB = wandb.init(                                                                          \u001b[31m│\u001b[0m\n",
       "\u001b[31m│\u001b[0m   \u001b[2m2 \u001b[0m\u001b[2m│   │   \u001b[0mproject=\u001b[33m\"\u001b[0m\u001b[33mvalidator\u001b[0m\u001b[33m\"\u001b[0m,                                                                 \u001b[31m│\u001b[0m\n",
       "\u001b[31m│\u001b[0m   \u001b[2m3 \u001b[0m\u001b[2m│   │   \u001b[0mentity=\u001b[33m\"\u001b[0m\u001b[33mfelix-quinque-macrocosmos\u001b[0m\u001b[33m\"\u001b[0m                                                   \u001b[31m│\u001b[0m\n",
       "\u001b[31m│\u001b[0m   \u001b[2m4 \u001b[0m\u001b[2m│   \u001b[0m)                                                                                        \u001b[31m│\u001b[0m\n",
       "\u001b[31m│\u001b[0m                                                                                                  \u001b[31m│\u001b[0m\n",
       "\u001b[31m│\u001b[0m \u001b[2;33m/root/.cache/pypoetry/virtualenvs/prompting-fb5sw-i7-py3.10/lib/python3.10/site-packages/wandb/s\u001b[0m \u001b[31m│\u001b[0m\n",
       "\u001b[31m│\u001b[0m \u001b[2;33mdk/\u001b[0m\u001b[1;33mwandb_init.py\u001b[0m:\u001b[94m1195\u001b[0m in \u001b[92minit\u001b[0m                                                                    \u001b[31m│\u001b[0m\n",
       "\u001b[31m│\u001b[0m                                                                                                  \u001b[31m│\u001b[0m\n",
       "\u001b[31m│\u001b[0m   \u001b[2m1192 \u001b[0m\u001b[2m│   │   \u001b[0m                                                                                  \u001b[31m│\u001b[0m\n",
       "\u001b[31m│\u001b[0m   \u001b[2m1193 \u001b[0m\u001b[2m│   │   \u001b[0m\u001b[2m# Need to build delay into this sentry capture because our exit hooks\u001b[0m             \u001b[31m│\u001b[0m\n",
       "\u001b[31m│\u001b[0m   \u001b[2m1194 \u001b[0m\u001b[2m│   │   \u001b[0m\u001b[2m# mess with sentry's ability to send out errors before the program ends.\u001b[0m          \u001b[31m│\u001b[0m\n",
       "\u001b[31m│\u001b[0m \u001b[31m❱ \u001b[0m1195 \u001b[2m│   │   \u001b[0mwandb._sentry.reraise(e)                                                          \u001b[31m│\u001b[0m\n",
       "\u001b[31m│\u001b[0m   \u001b[2m1196 \u001b[0m\u001b[2m│   │   \u001b[0m\u001b[94mraise\u001b[0m \u001b[96mAssertionError\u001b[0m()  \u001b[2m# unreachable\u001b[0m                                             \u001b[31m│\u001b[0m\n",
       "\u001b[31m│\u001b[0m   \u001b[2m1197 \u001b[0m                                                                                          \u001b[31m│\u001b[0m\n",
       "\u001b[31m│\u001b[0m                                                                                                  \u001b[31m│\u001b[0m\n",
       "\u001b[31m│\u001b[0m \u001b[2;33m/root/.cache/pypoetry/virtualenvs/prompting-fb5sw-i7-py3.10/lib/python3.10/site-packages/wandb/a\u001b[0m \u001b[31m│\u001b[0m\n",
       "\u001b[31m│\u001b[0m \u001b[2;33mnalytics/\u001b[0m\u001b[1;33msentry.py\u001b[0m:\u001b[94m155\u001b[0m in \u001b[92mreraise\u001b[0m                                                                \u001b[31m│\u001b[0m\n",
       "\u001b[31m│\u001b[0m                                                                                                  \u001b[31m│\u001b[0m\n",
       "\u001b[31m│\u001b[0m   \u001b[2m152 \u001b[0m\u001b[2m│   │   \u001b[0m\u001b[96mself\u001b[0m.exception(exc)                                                                \u001b[31m│\u001b[0m\n",
       "\u001b[31m│\u001b[0m   \u001b[2m153 \u001b[0m\u001b[2m│   │   \u001b[0m\u001b[2m# this will messily add this \"reraise\" function to the stack trace,\u001b[0m                \u001b[31m│\u001b[0m\n",
       "\u001b[31m│\u001b[0m   \u001b[2m154 \u001b[0m\u001b[2m│   │   \u001b[0m\u001b[2m# but hopefully it's not too bad\u001b[0m                                                   \u001b[31m│\u001b[0m\n",
       "\u001b[31m│\u001b[0m \u001b[31m❱ \u001b[0m155 \u001b[2m│   │   \u001b[0m\u001b[94mraise\u001b[0m exc.with_traceback(sys.exc_info()[\u001b[94m2\u001b[0m])                                        \u001b[31m│\u001b[0m\n",
       "\u001b[31m│\u001b[0m   \u001b[2m156 \u001b[0m\u001b[2m│   \u001b[0m                                                                                       \u001b[31m│\u001b[0m\n",
       "\u001b[31m│\u001b[0m   \u001b[2m157 \u001b[0m\u001b[2m│   \u001b[0m\u001b[1;95m@_safe_noop\u001b[0m                                                                            \u001b[31m│\u001b[0m\n",
       "\u001b[31m│\u001b[0m   \u001b[2m158 \u001b[0m\u001b[2m│   \u001b[0m\u001b[94mdef\u001b[0m \u001b[92mstart_session\u001b[0m(\u001b[96mself\u001b[0m) -> \u001b[94mNone\u001b[0m:                                                       \u001b[31m│\u001b[0m\n",
       "\u001b[31m│\u001b[0m                                                                                                  \u001b[31m│\u001b[0m\n",
       "\u001b[31m│\u001b[0m \u001b[2;33m/root/.cache/pypoetry/virtualenvs/prompting-fb5sw-i7-py3.10/lib/python3.10/site-packages/wandb/s\u001b[0m \u001b[31m│\u001b[0m\n",
       "\u001b[31m│\u001b[0m \u001b[2;33mdk/\u001b[0m\u001b[1;33mwandb_init.py\u001b[0m:\u001b[94m1181\u001b[0m in \u001b[92minit\u001b[0m                                                                    \u001b[31m│\u001b[0m\n",
       "\u001b[31m│\u001b[0m                                                                                                  \u001b[31m│\u001b[0m\n",
       "\u001b[31m│\u001b[0m   \u001b[2m1178 \u001b[0m\u001b[2m│   \u001b[0m\u001b[94mtry\u001b[0m:                                                                                  \u001b[31m│\u001b[0m\n",
       "\u001b[31m│\u001b[0m   \u001b[2m1179 \u001b[0m\u001b[2m│   │   \u001b[0mwi = _WandbInit()                                                                 \u001b[31m│\u001b[0m\n",
       "\u001b[31m│\u001b[0m   \u001b[2m1180 \u001b[0m\u001b[2m│   │   \u001b[0mwi.setup(kwargs)                                                                  \u001b[31m│\u001b[0m\n",
       "\u001b[31m│\u001b[0m \u001b[31m❱ \u001b[0m1181 \u001b[2m│   │   \u001b[0m\u001b[94mreturn\u001b[0m wi.init()                                                                  \u001b[31m│\u001b[0m\n",
       "\u001b[31m│\u001b[0m   \u001b[2m1182 \u001b[0m\u001b[2m│   \u001b[0m                                                                                      \u001b[31m│\u001b[0m\n",
       "\u001b[31m│\u001b[0m   \u001b[2m1183 \u001b[0m\u001b[2m│   \u001b[0m\u001b[94mexcept\u001b[0m \u001b[96mKeyboardInterrupt\u001b[0m \u001b[94mas\u001b[0m e:                                                        \u001b[31m│\u001b[0m\n",
       "\u001b[31m│\u001b[0m   \u001b[2m1184 \u001b[0m\u001b[2m│   │   \u001b[0m\u001b[94mif\u001b[0m logger \u001b[95mis\u001b[0m \u001b[95mnot\u001b[0m \u001b[94mNone\u001b[0m:                                                            \u001b[31m│\u001b[0m\n",
       "\u001b[31m│\u001b[0m                                                                                                  \u001b[31m│\u001b[0m\n",
       "\u001b[31m│\u001b[0m \u001b[2;33m/root/.cache/pypoetry/virtualenvs/prompting-fb5sw-i7-py3.10/lib/python3.10/site-packages/wandb/s\u001b[0m \u001b[31m│\u001b[0m\n",
       "\u001b[31m│\u001b[0m \u001b[2;33mdk/\u001b[0m\u001b[1;33mwandb_init.py\u001b[0m:\u001b[94m785\u001b[0m in \u001b[92minit\u001b[0m                                                                     \u001b[31m│\u001b[0m\n",
       "\u001b[31m│\u001b[0m                                                                                                  \u001b[31m│\u001b[0m\n",
       "\u001b[31m│\u001b[0m   \u001b[2m 782 \u001b[0m\u001b[2m│   │   │   │   \u001b[0m\u001b[2m# we don't need to do console cleanup at this point\u001b[0m                       \u001b[31m│\u001b[0m\n",
       "\u001b[31m│\u001b[0m   \u001b[2m 783 \u001b[0m\u001b[2m│   │   │   │   \u001b[0mbackend.cleanup()                                                         \u001b[31m│\u001b[0m\n",
       "\u001b[31m│\u001b[0m   \u001b[2m 784 \u001b[0m\u001b[2m│   │   │   │   \u001b[0m\u001b[96mself\u001b[0m.teardown()                                                           \u001b[31m│\u001b[0m\n",
       "\u001b[31m│\u001b[0m \u001b[31m❱ \u001b[0m 785 \u001b[2m│   │   │   \u001b[0m\u001b[94mraise\u001b[0m error                                                                   \u001b[31m│\u001b[0m\n",
       "\u001b[31m│\u001b[0m   \u001b[2m 786 \u001b[0m\u001b[2m│   │   \u001b[0m                                                                                  \u001b[31m│\u001b[0m\n",
       "\u001b[31m│\u001b[0m   \u001b[2m 787 \u001b[0m\u001b[2m│   │   \u001b[0m\u001b[94massert\u001b[0m run_result \u001b[95mis\u001b[0m \u001b[95mnot\u001b[0m \u001b[94mNone\u001b[0m  \u001b[2m# for mypy\u001b[0m                                         \u001b[31m│\u001b[0m\n",
       "\u001b[31m│\u001b[0m   \u001b[2m 788 \u001b[0m                                                                                          \u001b[31m│\u001b[0m\n",
       "\u001b[31m╰──────────────────────────────────────────────────────────────────────────────────────────────────╯\u001b[0m\n",
       "\u001b[1;91mCommError: \u001b[0mIt appears that you do not have permission to access the requested resource. Please reach out to the \n",
       "project owner to grant you access. If you have the correct permissions, verify that there are no issues with your \n",
       "networking \u001b[1;35msetup.\u001b[0m\u001b[1m(\u001b[0mError \u001b[1;36m403\u001b[0m: Forbidden\u001b[1m)\u001b[0m\n"
      ]
     },
     "metadata": {},
     "output_type": "display_data"
    }
   ],
   "source": [
    "import wandb\n",
    "\n",
    "wandb.login(key=\"ae29a588c238d0e168d620e0b18a5e29e283935a\")\n",
    "\n",
    "WANDB = wandb.init(\n",
    "        project=\"validator\",\n",
    "        entity=\"felix-quinque-macrocosmos\"\n",
    "    )"
   ]
  },
  {
   "cell_type": "code",
   "execution_count": 5,
   "metadata": {},
   "outputs": [],
   "source": [
    "import bittensor as bt\n",
    "\n",
    "wallet = bt.wallet(name=\"dalkfjsl\", hotkey=None)\n",
    "metagraph = bt.metagraph(netuid=1)"
   ]
  },
  {
   "cell_type": "code",
   "execution_count": 25,
   "metadata": {},
   "outputs": [
    {
     "data": {
      "text/plain": [
       "False"
      ]
     },
     "execution_count": 25,
     "metadata": {},
     "output_type": "execute_result"
    }
   ],
   "source": [
    "class Version:\n",
    "    \"\"\"Same as packaging.version, but also supports comparison to strings\"\"\"\n",
    "\n",
    "    def __init__(self, version: str = \"1.2.3\"):\n",
    "        self.version: str = version\n",
    "\n",
    "    def __str__(self):\n",
    "        return f\"{self.version}\"\n",
    "\n",
    "    def __repr__(self):\n",
    "        return f\"{self.version}\"\n",
    "\n",
    "    def __eq__(self, other):\n",
    "        other = other.version if isinstance(other, Version) else other\n",
    "        return self.version == other\n",
    "\n",
    "    def __le__(self, other):\n",
    "        other = other.version if isinstance(other, Version) else other\n",
    "        return True if all([v <= o for v, o in zip(self.version.split(\".\"), other.split(\".\"))]) else False\n",
    "\n",
    "    def __lt__(self, other):\n",
    "        other = other.version if isinstance(other, Version) else other\n",
    "        return True if self <= other and self != other else False\n",
    "\n",
    "    def __ge__(self, other):\n",
    "        other = other.version if isinstance(other, Version) else other\n",
    "        return True if not (self < other) else False\n",
    "\n",
    "    def __gt__(self, other):\n",
    "        other = other.version if isinstance(other, Version) else other\n",
    "        return True if not (self <= other) else False\n",
    "\n",
    "\n",
    "\n",
    "Version(\"1.2.3\") < \"1.2.2.4\""
   ]
  },
  {
   "cell_type": "code",
   "execution_count": 12,
   "metadata": {},
   "outputs": [
    {
     "data": {
      "text/plain": [
       "1023"
      ]
     },
     "execution_count": 12,
     "metadata": {},
     "output_type": "execute_result"
    }
   ],
   "source": [
    "version_split = \"1.2.3\".split(\".\")\n",
    "(1000 * int(version_split[0])) + (10 * int(version_split[1])) + (1 * int(version_split[2]))"
   ]
  },
  {
   "cell_type": "code",
   "execution_count": 17,
   "metadata": {},
   "outputs": [
    {
     "name": "stdout",
     "output_type": "stream",
     "text": [
      "0.10034847259521484 seconds have passed\n",
      "0.10036730766296387 seconds have passed\n",
      "0.10026788711547852 seconds have passed\n",
      "0.10023331642150879 seconds have passed\n",
      "0.10031914710998535 seconds have passed\n",
      "0.10023617744445801 seconds have passed\n",
      "0.10024189949035645 seconds have passed\n",
      "0.10032510757446289 seconds have passed\n",
      "0.10022377967834473 seconds have passed\n",
      "0.10019159317016602 seconds have passed\n"
     ]
    }
   ],
   "source": [
    "import time\n",
    "i = 0\n",
    "\n",
    "start_time = time.time()\n",
    "for _ in range(10):\n",
    "    time.sleep(0.1)\n",
    "    print(f\"{-start_time+(start_time := time.time())} seconds have passed\")\n",
    "    # print(f\"{(start_time := time.time())-start_time} seconds have passed\")\n"
   ]
  },
  {
   "cell_type": "code",
   "execution_count": 1,
   "metadata": {},
   "outputs": [
    {
     "data": {
      "text/plain": [
       "{'_Foo__bar': 42}"
      ]
     },
     "execution_count": 1,
     "metadata": {},
     "output_type": "execute_result"
    }
   ],
   "source": [
    "class Foo():\n",
    "    def __init__(self):\n",
    "        self.__bar = 42\n",
    "\n",
    "foo = Foo()\n",
    "foo.__dict__"
   ]
  },
  {
   "cell_type": "code",
   "execution_count": 1,
   "metadata": {},
   "outputs": [],
   "source": [
    "import bittensor as bt"
   ]
  },
  {
   "cell_type": "code",
   "execution_count": 3,
   "metadata": {},
   "outputs": [],
   "source": [
    "metagraph = bt.metagraph(netuid=61, network=\"test\", sync=True, lite=False)"
   ]
  },
  {
   "cell_type": "code",
   "execution_count": 8,
   "metadata": {},
   "outputs": [
    {
     "data": {
      "text/plain": [
       "[AxonInfo( /ipv4/129.146.127.82:8091, 5DhKVLE5bsg8BYY7QC94AJzGHC1LJQ9oCW4R33GekuVMqDY1, 5G1XChmwskSD26xgmdPsJxd4t9EP1CCTHA5KvSNN6uJ73N8D, 660 ),\n",
       " AxonInfo( /ipv4/138.84.62.175:8091, 5CdJRFCwnahgTKquJ92HnbCdp2tb73LmPamvMtWfEUH1cdkp, 5G1XChmwskSD26xgmdPsJxd4t9EP1CCTHA5KvSNN6uJ73N8D, 681 ),\n",
       " AxonInfo( /ipv4/129.146.127.82:9002, 5H9AVNRo135552roWVL5BW8rLcoBi9HrRSQnrgfipE8vXdSH, 5G1XChmwskSD26xgmdPsJxd4t9EP1CCTHA5KvSNN6uJ73N8D, 660 ),\n",
       " AxonInfo( /ipv4/129.146.127.82:9003, 5Gk23dLJVdTpLU1fi1oAnkghc3VJQuPe2dQEJNUR2VqnBLZv, 5G1XChmwskSD26xgmdPsJxd4t9EP1CCTHA5KvSNN6uJ73N8D, 660 ),\n",
       " AxonInfo( /ipv4/129.146.127.82:9004, 5F1dDnWxQGnBCE5VDa7RvnPnKg7SYGdvEoLuf2mjnBu43WDJ, 5G1XChmwskSD26xgmdPsJxd4t9EP1CCTHA5KvSNN6uJ73N8D, 660 ),\n",
       " AxonInfo( /ipv4/129.146.127.82:9005, 5CdT2QvbpsWEiCu7ZkZr7XZG27vkQUg4mqdpTEeHSGXoZD6p, 5G1XChmwskSD26xgmdPsJxd4t9EP1CCTHA5KvSNN6uJ73N8D, 660 ),\n",
       " AxonInfo( /ipv4/129.146.127.82:9006, 5DrEZkh5KrpC7GpyXKy8ZKSj35iKHetniDnYg8Q6NJuTynAE, 5G1XChmwskSD26xgmdPsJxd4t9EP1CCTHA5KvSNN6uJ73N8D, 660 ),\n",
       " AxonInfo( /ipv4/129.146.127.82:9007, 5C83qhujAfEpezM97r6bvLfuPcmByKZ2UVzMcwaYcLrqRRbZ, 5G1XChmwskSD26xgmdPsJxd4t9EP1CCTHA5KvSNN6uJ73N8D, 660 ),\n",
       " AxonInfo( /ipv4/129.146.127.82:9008, 5FF11KxiYAJvrsPvWV2peopyDvZi82pwH7t8SzmZDpGrBcj4, 5G1XChmwskSD26xgmdPsJxd4t9EP1CCTHA5KvSNN6uJ73N8D, 660 ),\n",
       " AxonInfo( /ipv4/129.146.127.82:9009, 5H3rZ1aE31wSHpY9Fauerrn5hB12tSasVi1LE1NCHsEknSqw, 5G1XChmwskSD26xgmdPsJxd4t9EP1CCTHA5KvSNN6uJ73N8D, 660 ),\n",
       " AxonInfo( /ipv4/129.146.127.82:9010, 5GbvMECKS4H5poqzLg4Xagotu3ivbkffihei46JCBuhdqLkh, 5G1XChmwskSD26xgmdPsJxd4t9EP1CCTHA5KvSNN6uJ73N8D, 660 ),\n",
       " AxonInfo( /ipv4/129.146.127.82:9011, 5CkZ9Xrthh6LB9hKtyiAgRDvcajYfDCT8GJFT1vFK7WPb9TD, 5G1XChmwskSD26xgmdPsJxd4t9EP1CCTHA5KvSNN6uJ73N8D, 660 ),\n",
       " AxonInfo( /ipv4/141.193.30.26:8091, 5CaT1KRBVXASre9qtjLH4qMSocsKwuicVb13aq5KF2soJuaR, 5HiyCfKGduJg5GRA9YE9sH6e9pipNScFMAHCGYb97BxciQDs, 711 ),\n",
       " AxonInfo( /ipv4/45.135.57.174:9090, 5DsxJkSsAGuunT1cE3eYNVaugH4KMtqW3NjyejwHw8pJxnLm, 5D8E9HqYjNgtn1GtHHegsnv2uXEAuA3hT8bfqCEnthq2K819, 650 ),\n",
       " AxonInfo( /ipv4/141.193.30.26:40195, 5F7U991jo6WDLdBZYZVXqFBixzaoxqfU6kVGnaaJd26ip7z5, 5HiyCfKGduJg5GRA9YE9sH6e9pipNScFMAHCGYb97BxciQDs, 711 ),\n",
       " AxonInfo( /ipv4/69.30.85.15:22135, 5EZsXXxC5rYcJboUmYV4GmWGGuycZuRQ2ww2P75VJjzxy6V9, 5HiyCfKGduJg5GRA9YE9sH6e9pipNScFMAHCGYb97BxciQDs, 701 ),\n",
       " AxonInfo( /ipv4/69.30.85.16:9101, 5DhKi78J7Tx6owD2uWfhNKR9RoTHUo5pzzMtjLSrVejacR47, 5HiyCfKGduJg5GRA9YE9sH6e9pipNScFMAHCGYb97BxciQDs, 680 ),\n",
       " AxonInfo( /ipv4/69.30.85.17:9300, 5FPJH4QeYPca4HSbHQS6vN44RiZY9ioXVUWeLXv235BWEvEM, 5HiyCfKGduJg5GRA9YE9sH6e9pipNScFMAHCGYb97BxciQDs, 660 ),\n",
       " AxonInfo( /ipv4/38.147.83.12:8091, 5GRBME6fn4UT3pFhHoDdQNF15d4AgWH59TeZJyajdLhg2v7r, 5GgYinWgdY3ygLAZYFj3okWJHo6DiWJ2YDp4DPNRkvLagzAc, 701 ),\n",
       " AxonInfo( /ipv4/73.150.32.202:9200, 5E4FwiywDMHyhv3bHGwyRKBHU36AUbXuFikUYgNfmyGAE9rv, 5DAUBoXCqTsA9CHCSeQ1VjRy3Thcba65NtMzY1QNS8gp65b3, 660 ),\n",
       " AxonInfo( /ipv4/192.9.139.126:9100, 5EWaLbtsdSRc5pVkbsf8Gf4LA2a1WvshciYpqjcfA5QrdpP9, 5HiyCfKGduJg5GRA9YE9sH6e9pipNScFMAHCGYb97BxciQDs, 660 ),\n",
       " AxonInfo( /ipv4/69.30.85.17:9101, 5Ew4u6enCAWe1vnv2eU8oT3QtMPVvfnoqzvQh3GeAaMwsLiG, 5HiyCfKGduJg5GRA9YE9sH6e9pipNScFMAHCGYb97BxciQDs, 660 ),\n",
       " AxonInfo( /ipv4/69.30.85.17:9600, 5EyKa2mEqw6xfUtVa9sT8gJp2975Gc5Y4zMFzaFMcoX5uYLo, 5HiyCfKGduJg5GRA9YE9sH6e9pipNScFMAHCGYb97BxciQDs, 660 ),\n",
       " AxonInfo( /ipv4/104.171.202.244:8091, 5GvYD2cyb8UKGm41AYuErbya66QsMmHizsB2GexHH6XyeTNq, 5D9kGC6fWERpXnwTB8tqmDgYxQvyf2UXqv13hK3qUZFQvAjh, 650 ),\n",
       " AxonInfo( /ipv4/198.16.234.0:9100, 5E7kEjThgDZebbBpRpcJGU8Jdaosc5qy2W4TJu4bGsiLEKmX, 5HiyCfKGduJg5GRA9YE9sH6e9pipNScFMAHCGYb97BxciQDs, 660 ),\n",
       " AxonInfo( /ipv4/69.30.85.17:9800, 5EhpAAXZvMP1FyaedwvQ94JvqKLTzvW6U8Ch4R7YvS4X7JJF, 5HiyCfKGduJg5GRA9YE9sH6e9pipNScFMAHCGYb97BxciQDs, 660 ),\n",
       " AxonInfo( /ipv4/69.30.85.17:9700, 5FvoGzwJf6YDAwf62Hz6AU1itMXsp6YYd4hpagTdSuDjTwPn, 5HiyCfKGduJg5GRA9YE9sH6e9pipNScFMAHCGYb97BxciQDs, 660 ),\n",
       " AxonInfo( /ipv4/69.30.85.17:9900, 5FJ9vwq5zNDSs3MRobZaYHfniVtCwrSRoB23WMB7Sh1fnLSB, 5HiyCfKGduJg5GRA9YE9sH6e9pipNScFMAHCGYb97BxciQDs, 660 ),\n",
       " AxonInfo( /ipv4/100.38.79.176:8091, 5DfBk4fo4g4KpnurrV8We3nqvobemoR3293jfxpxw6kUppHm, 5GCUPqE6Kd6NYsqTzvPbTbhsBiGsHgt7gbV4FqZwfuVitJ2K, 661 ),\n",
       " AxonInfo( /ipv4/3.89.36.67:8091, 5Eq14XJSnooQEwQeBQxETJ3sgJD3KfXBQD7VUhzP3MCmH1x5, 5DFLvMV2gxEB41ZHKdHqGz1xBtaSPFicsPFcxT2L8YyKd4V7, 660 ),\n",
       " AxonInfo( /ipv4/204.12.201.58:6485, 5DvuSUDqR1UUsun9ZkQe67SYcqyTy1VxJiiu7v2YFWtKZ7yt, 5CcE5Lm62GG2241MR29EtFKeojfosVVdyQzGQZN3Q9cfVmN1, 660 ),\n",
       " AxonInfo( /ipv4/204.12.201.58:6487, 5ExvvGortR82msWECGpC1awYrepJFEHg3NLBTbFywPwc95Vz, 5CcE5Lm62GG2241MR29EtFKeojfosVVdyQzGQZN3Q9cfVmN1, 660 ),\n",
       " AxonInfo( /ipv4/3.89.36.67:8092, 5HVxEmN87qFjTFtekWzrTaXx6BYfE49hubcgEqq6U2iZ3Eba, 5DFLvMV2gxEB41ZHKdHqGz1xBtaSPFicsPFcxT2L8YyKd4V7, 660 ),\n",
       " AxonInfo( /ipv4/3.89.36.67:8093, 5HaftpEppTVcsLhEQbt4ZYrRYsV7ePQ2jiMgZnFLeVx37UsB, 5DFLvMV2gxEB41ZHKdHqGz1xBtaSPFicsPFcxT2L8YyKd4V7, 660 ),\n",
       " AxonInfo( /ipv4/23.16.27.129:3405, 5EncH6qELTNnYJcyDk5wx8SrWoq82YNx1rc7MB3haVAZd9kw, 5DJWRbigpM4qifs2o1pfuuGowvRXDRznVJ2QbScvLzeWjCL6, 701 ),\n",
       " AxonInfo( /ipv4/207.216.69.8:8091, 5FHyXWRJ9FnQfChDdQT6B8zbeUoeEUcSAv9udy2AhTuDhXZB, 5G7NGi3eHR1rG7nWTLiGuhHzfB1Rexq7ynpx9Czn5f2LFNWR, 671 ),\n",
       " AxonInfo( /ipv4/207.216.69.8:8091, 5FC4zTUMt9f9cyZ3MWrkGiQrhczQXyWaR2drZVje9oXWvW6u, 5G7NGi3eHR1rG7nWTLiGuhHzfB1Rexq7ynpx9Czn5f2LFNWR, 671 ),\n",
       " AxonInfo( /ipv4/152.70.121.20:8091, 5EesC6hoQpVvbZmvUTsPaJZLuQS13X3CMJHoD1bp89dBhHFh, 5GgYinWgdY3ygLAZYFj3okWJHo6DiWJ2YDp4DPNRkvLagzAc, 660 ),\n",
       " AxonInfo( /ipv4/207.216.69.8:8091, 5Eqy7jXeEzuiMF2Cr5YftJuygnLS3X3LbDMWS8TnNmubhGb9, 5G7NGi3eHR1rG7nWTLiGuhHzfB1Rexq7ynpx9Czn5f2LFNWR, 671 ),\n",
       " AxonInfo( /ipv4/199.254.199.179:3333, 5HGweQKxBuGwpGXAZ6YMs7tSVgVZJHqsBimRVfHxsgTyLXz8, 5GRKyc9Xbv3woffLTPs1Zw3J58i3DmBD4sVWs8pG2Jei67ik, 660 ),\n",
       " AxonInfo( /ipv4/38.147.83.17:35836, 5GjaXxtpAbQRmuBjQTffGfTrdwt7oKZiXMMdD5XqmW1ARLWC, 5FmrUrpH3BnPYTptw44C2Yro9Tn7fjLsfhYQazMcDDapMkbk, 660 ),\n",
       " AxonInfo( /ipv4/38.128.233.241:37323, 5ES4Bzri4yhin3KMt5Go4APT85ByeHbeVCfSCsy597YAKcvX, 5FmrUrpH3BnPYTptw44C2Yro9Tn7fjLsfhYQazMcDDapMkbk, 660 ),\n",
       " AxonInfo( /ipv0/0.0.0.0:0, 5Fzu6mRvzwTneDDctkroKaCnrPvkuWJ2gHrVVEt1j8J2exzg, 5FGuZ4F5KCPGGZB5mEssf4KqTXPsJxApuyHTPzDmVSB77DLS, 0 ),\n",
       " AxonInfo( /ipv4/38.242.246.240:8091, 5EUCg5tXaAF5owHxuwcrwTskqs5tPBZeHJxgfHzpCp5c7UDP, 5CFJiSf5ru3Bqqi97yQTLkTisHqbGPnXQZdPnajY2uaaMLNh, 660 ),\n",
       " AxonInfo( /ipv0/0.0.0.0:0, 5CfGy362JLQDmL9WhXpz9hUoVm4Ue4fuqLLMZBLmbHmq4tkz, 5HKMUq5dCuFbabNczHGH2mJp5e8RTk7Xk1NC4VU3t8d4nj9K, 0 ),\n",
       " AxonInfo( /ipv4/37.60.250.179:8091, 5HDkAHMRqBymFSetiZzsDMjvEupEBgHUQyeCZMy83g2Qwhv4, 5CFJiSf5ru3Bqqi97yQTLkTisHqbGPnXQZdPnajY2uaaMLNh, 660 ),\n",
       " AxonInfo( /ipv4/152.70.121.20:8092, 5H6ot1rR2FD4ibwZ9b3p9TJE2rDS2EUbjxZ6qexTxtvKKMgP, 5GgYinWgdY3ygLAZYFj3okWJHo6DiWJ2YDp4DPNRkvLagzAc, 660 ),\n",
       " AxonInfo( /ipv4/38.242.246.240:8093, 5EPf8pWtS1trvyQ1gxiV4zumy2pNe5NFqY1yJksyhXHDvm14, 5CFJiSf5ru3Bqqi97yQTLkTisHqbGPnXQZdPnajY2uaaMLNh, 660 ),\n",
       " AxonInfo( /ipv4/38.242.246.240:8091, 5GKxydvCJTmXzNT9KbxirwV6g7AumpHXBsKdxBnffJAtEjar, 5CFJiSf5ru3Bqqi97yQTLkTisHqbGPnXQZdPnajY2uaaMLNh, 660 ),\n",
       " AxonInfo( /ipv4/207.216.69.8:8091, 5DX7foD5jz4DDJBRQHGpNMLr9fA9MCGrEVxZapgYif7in3kt, 5G7NGi3eHR1rG7nWTLiGuhHzfB1Rexq7ynpx9Czn5f2LFNWR, 681 ),\n",
       " AxonInfo( /ipv4/132.145.131.52:8091, 5ENgDSsiHvSUwVr62hbSXwSbAPfcqTfpgmYkNHCh6GAzCoJH, 5FmrUrpH3BnPYTptw44C2Yro9Tn7fjLsfhYQazMcDDapMkbk, 660 ),\n",
       " AxonInfo( /ipv4/50.20.127.188:8092, 5ECH1YsW4nAFfFULdPqf1VFhptN77c6RG9vMXAFjC1NTdYd3, 5CFJiSf5ru3Bqqi97yQTLkTisHqbGPnXQZdPnajY2uaaMLNh, 671 ),\n",
       " AxonInfo( /ipv4/213.181.122.2:49152, 5FuwAkRcyKV2CReeMrMHMvCf84m6A95JAPjB5dCzP2Vs6D7b, 5CFJiSf5ru3Bqqi97yQTLkTisHqbGPnXQZdPnajY2uaaMLNh, 671 ),\n",
       " AxonInfo( /ipv4/87.120.210.108:8091, 5CdGcifGP59BQxqJjbDJyG12Mm6MtziCvwEhoA4v4mcSFGru, 5GL89eSKonqMBGTEkHTvPtAkrxRrFvtZhhMNvMCSrMDFEoG1, 660 ),\n",
       " AxonInfo( /ipv4/213.173.109.4:18502, 5DFhjb9QBbf4dGm3jq78NoQXHwEGaM1Y4S3i8mKnBfKG4xLF, 5FmrUrpH3BnPYTptw44C2Yro9Tn7fjLsfhYQazMcDDapMkbk, 660 ),\n",
       " AxonInfo( /ipv4/213.173.105.6:8091, 5Cd7d6etRL8QXTLq18qQ3rR6TZUepaaBEysyhk3VvmoiZWST, 5H6chWbZDXVEk7CWicizpwJmgmLw9DD1g2PY6GsfoH3d3d4x, 682 ),\n",
       " AxonInfo( /ipv4/89.187.159.47:8091, 5EPSefpokRh3VQcx4gC7KQ11qi4xAFoauRtmJNJGRr3e59N9, 5CyHsKuKoHxmevcbtSLMbHBZej7Rhmnm2zXkXYrtYthvCuKx, 660 ),\n",
       " AxonInfo( /ipv4/38.147.83.17:35837, 5H3Yq1o2dgZjvY1VammgkYkX8eDNdetvFie9FmPxAayVUuyr, 5FmrUrpH3BnPYTptw44C2Yro9Tn7fjLsfhYQazMcDDapMkbk, 660 ),\n",
       " AxonInfo( /ipv4/194.68.245.121:8091, 5C4qKdnGsN3akEewhSnsvJxSWXe1TgXWXBjnr6RaK8giyFJt, 5GgYinWgdY3ygLAZYFj3okWJHo6DiWJ2YDp4DPNRkvLagzAc, 660 ),\n",
       " AxonInfo( /ipv4/163.1.176.44:8091, 5HYVhuMGgoYR8BmNkfmAfEwrzLw9XDQJkX8QtHzgpzBKiKke, 5C7Wt4865tDCCuCcMo7t92fHYdxFr445QnMDRPKyQZb2Dhhn, 660 ),\n",
       " AxonInfo( /ipv4/216.234.102.170:50061, 5CXLhbxpGHBEWqyYPJfufRwHH3VpAgQ9zfLGqhFXwwPL3vTt, 5GgkypCvWvVDCW6oxhfbbHJmPg9iSrc4DvCj2iHq9JnP6mEj, 660 ),\n",
       " AxonInfo( /ipv4/67.164.152.87:25565, 5HQUNW9YcKA6uw65jLALxPpgkRUp1pt1n6KbMPABKSUBrtcS, 5F78AJyYvvRNXtYcKPzqVHMVv8HNszgZJfpUpxs3d3sjBbQk, 660 ),\n",
       " AxonInfo( /ipv4/209.44.107.2:8091, 5Fbxmi4xHGy1KLagtDSutNMUNb48hkdbFhByQGSqXJCXcK7G, 5DkNgo1GMce3afPs7G46SYAPpgxWFXTdFcb9kAdMjfVnhoNh, 660 ),\n",
       " AxonInfo( /ipv4/68.7.144.5:8091, 5DA57jF7GcYjSwVJ1LQsfXp1y5mGzZqgd7KNzBnSkav3hLaJ, 5GWbAAGmdW3t1bnjMseCNVQ8wBPjXrqGWrD2aXt84s5mS4DD, 660 ),\n",
       " AxonInfo( /ipv4/213.173.108.24:13367, 5Fn93jtWKrZ9YvAmMCQxXgXm52g4ZHd1hiJtE2GizG6Rzjmb, 5GQs5tewbpFWjFZ8kCjGaZdQ1miqhaJZTSBAPe7Go8QWF8Cj, 660 ),\n",
       " AxonInfo( /ipv4/86.253.200.203:8091, 5HNAiAYCYhJWLjWnKB13zE6sQfm6EfTN419YHa5rGC1sCFSu, 5F7dhKJq4F2ocAY6cq412DgcMyLFdfEuFuub13yy213S9RnH, 681 ),\n",
       " AxonInfo( /ipv4/68.7.144.5:8091, 5HigYbd35N6jo6UyLUjb6ipHKyHTVtGryEsqRwZfE4URKmaE, 5GWbAAGmdW3t1bnjMseCNVQ8wBPjXrqGWrD2aXt84s5mS4DD, 660 ),\n",
       " AxonInfo( /ipv4/108.185.112.173:8091, 5Co6NvdjJ58fHxNHZuWNxprrUTKVp17nYGQgtn12hn5sgzWh, 5C7ej16kRtaAusA1kkp2oAERATWwA4abMMiVJioyMF2aiZtV, 693 ),\n",
       " AxonInfo( /ipv4/172.124.13.160:8091, 5G6Hw8zqxVEkEunKmBB9oCyeMFULXjvpTJXsSGfaxBXpxWTm, 5DFid3wYnxGsqyD7dyjGbaso8thaDCCqngHtXNVkHfmLGzEi, 660 ),\n",
       " AxonInfo( /ipv4/44.197.108.215:3334, 5EUr8sokbCqsGYeYFfs3eSzWo9BPB8ZLjSs5EzUqagYpuiNz, 5HSxjHmx8Sgf6f9pgpnsVg9gmnzSKwrWk1EkdKk2WpbjWN1y, 701 ),\n",
       " AxonInfo( /ipv4/73.23.250.244:8091, 5FFXLX8i1kLdaxDe7tkLp1U1EE5dCguvrpd9MZc3PW4CBmur, 5CJCectfgDgcDqptE5SnEEqvMXcqeSoi4g1mmPtamsstf3sY, 660 ),\n",
       " AxonInfo( /ipv4/207.189.112.60:56393, 5EX8DepPvPzaHJSYB554tgDBi6gW6nid9AdNZdNuuDyQJUNf, 5ECRM7En2fe5LsAv15aTp79A3fx6ZHstLvGPojvMsogQcFF6, 660 ),\n",
       " AxonInfo( /ipv4/91.89.252.33:12507, 5DPMP2NzTH6Xa3j79McepL3dTFrAqQP9AqUWfsEWNftZxaLE, 5CD6Bm48ZcRRaxZQPEB9487kL7azoKYomhP44nktLCEiJoAJ, 660 ),\n",
       " AxonInfo( /ipv4/103.95.173.76:3333, 5Gbmbi1K9FpGJxMu4VCKrzfNTUTKwojtFA4iXQ16roHw3KKb, 5Gbmbi1K9FpGJxMu4VCKrzfNTUTKwojtFA4iXQ16roHw3KKb, 682 ),\n",
       " AxonInfo( /ipv0/0.0.0.0:0, 5Ew1QtWLa5Jp6SJ42asF1GHGxzR72astob3T19NuNnFXZiTQ, 5F9nC1p13hLNgEdFbzbtsFHf7AsTWKYZ5gaJJNWpGbmq4Dn3, 0 ),\n",
       " AxonInfo( /ipv4/73.23.250.244:8091, 5GRad67YBXPqrpPXDj6pbumZYNaWf3gZQvaKaY9AZmcLNj9D, 5GxigCMGjSeDuneysarR5E8BANVUp2PbwsiDF8rxowB5C7cS, 660 ),\n",
       " AxonInfo( /ipv4/34.204.205.131:3333, 5DnsSkZ8hGb3auYobEfit8uKsvdKpzNoPrSVqvFysp43SscV, 5HSxjHmx8Sgf6f9pgpnsVg9gmnzSKwrWk1EkdKk2WpbjWN1y, 701 ),\n",
       " AxonInfo( /ipv4/172.206.235.241:8091, 5DhhpydCNv8trMekFt6s1iUDnT6Sc6NWJDpkjjZ5StjjX377, 5H6j8U2Dqj6fJXZWUsG9G3PsT4ZHeam7WKtERXroR6rWqioQ, 682 ),\n",
       " AxonInfo( /ipv4/72.46.84.55:3333, 5GbFm7juX89MG4nVmZJjTJryRAnGa4vLKcbvHv1zvAhrQowE, 5Gbmbi1K9FpGJxMu4VCKrzfNTUTKwojtFA4iXQ16roHw3KKb, 660 ),\n",
       " AxonInfo( /ipv4/86.19.143.206:1111, 5EU3zBdqpXzAYaMrGqKqyratDTPZXNnhwJauoWwGGY8JAK8V, 5FZUKxTFSZpGyyz5EXRhm56kJAXJZDiY64Awx3JeiDjnAZ3a, 660 ),\n",
       " AxonInfo( /ipv4/98.56.55.150:8091, 5CMEb77GMD1tvw4JMQMWkxcHBLmoVMSJM2VP2TTwdGaPRRCP, 5HNdb4QtKEwQgQzDp9m7hpCFg6amabMF59SrfnkMDCw42QgR, 660 ),\n",
       " AxonInfo( /ipv4/174.57.100.54:8091, 5CUzS5o4MKakfSoaJgiyDzUB6Bzp3M1hzQ7BCkEMbNnrsPBn, 5HKMtKiNRsCCTBmb2zDHexSEBa3QfhKcj25PyN46ZyTDA1xH, 660 ),\n",
       " AxonInfo( /ipv4/98.56.55.150:8092, 5HBGN3eXfFzekPZr6M6NBW5V3URkixScT5YcTnNfLFqTR9Es, 5FCPbMP9TiEZNKk9oiEoBfDtPuiTyhMrArK2Ef5x9dE5CqBt, 660 ),\n",
       " AxonInfo( /ipv4/::2ebc:4960:9c62:0, 5FjEAos2NtEUVhV6jj7fSLj7ij8n9Mxz4zFUi8yu2QS27aL9, 5CUY8XV6uWNdJGhMSqyWk1QmGHvCgh7nPLhF7zmbh83vwLZ6, 693 ),\n",
       " AxonInfo( /ipv4/82.64.218.144:15001, 5EFiiNVJMuSBYP7JaQVdcBGa2bdtLbcUSsYjrxtk2rWJh1Wo, 5CoxgQtQ7gjbDNecnTiqu7R2XVGF5AP2pkKKPajhbRZ13rAr, 701 ),\n",
       " AxonInfo( /ipv4/38.147.83.15:18276, 5DX8revVsc7W1foqzxuKaRJgc1FjTCGSb6Q2kxKDYzeBxC4f, 5CZafpuvFxb2sXSEjKfrkC9EBNUJqA9jJckhDkUJxbVPS2R6, 660 ),\n",
       " AxonInfo( /ipv4/85.221.178.54:8091, 5F1Qro8uzhKjocjnKSSrLZnTaT8G6oxs67ymgjWQu6xbraPR, 5GnVYgF9jvX4DRsnM8M4g7hNpwTCtXRzTPxpPXhVdRES57EP, 660 ),\n",
       " AxonInfo( /ipv4/51.255.87.99:10010, 5G1NMxfXwycRVWMYvcDN4bF8ZtxhLNN1zdjcbRwM5fgZuG1U, 5EyXpG2zAGWcDxo3UtrsijjX5XEqdeNXyXPbLUiCFQVT2W8G, 660 ),\n",
       " AxonInfo( /ipv0/0.0.0.0:0, 5HByek7JQYeLGW7UrpE3HDquoWydg6RU8WTvjTA2smnnaGNq, 5EyXpG2zAGWcDxo3UtrsijjX5XEqdeNXyXPbLUiCFQVT2W8G, 0 ),\n",
       " AxonInfo( /ipv4/51.255.87.99:12300, 5HGPcjq316CmYyskeXgUVKGKLCHE96gLCWoUm1CEQkS19Nwk, 5EyXpG2zAGWcDxo3UtrsijjX5XEqdeNXyXPbLUiCFQVT2W8G, 660 ),\n",
       " AxonInfo( /ipv0/0.0.0.0:0, 5D9zxKiKQrJ34gHYiGpWvwatMLbYZLBNNx3Hgq4KwsLV78Yh, 5DF8APbCteN9ay7M1sKGYxM83eKGYPZ6ZqmfhzeP9weeVZmL, 0 ),\n",
       " AxonInfo( /ipv4/81.20.127.184:8091, 5En5ttgo6KUWTWMquswbz4wMnh2ySajxrekAbEifqkuta9P5, 5C7YWvoxjkehUikUNWyaQeiDs4gX7umpcYJbtqnXsB6B9Tuj, 691 ),\n",
       " AxonInfo( /ipv4/123.235.6.102:8091, 5GYVKBDSVVKhT4Se38f9Se4Yhih6fBN87pYMTf1MZ877Vjtx, 5F9YqCmpUj7uzoKETJaZqmVkiSkqUeCtjqPLWk2aPaTx7imx, 660 ),\n",
       " AxonInfo( /ipv4/65.109.73.2:7840, 5Fo2fNkkfCyZ1RSXCf2TyAySvNfKmv5LiwbVDA1KZ88eKFYi, 5CJAoLWjqms2mrXo4o9NbAvk1yprRCCp67dRs5yiM6Wu7YGZ, 660 ),\n",
       " AxonInfo( /ipv4/172.32.19.17:8091, 5CeoYQyojmHYpq3PAsZdwZm9QVnepKxa6CBPFWLoY8Pqqf2Z, 5GKVqx46GtJpKcT8C7KNoU4rBUiPpgC7UUqXjpZyTfCa34ko, 660 ),\n",
       " AxonInfo( /ipv4/47.254.73.201:8091, 5HEuYzyTKnQAx779W9UYNJpSGpjioEF63oVPZNcixV8HvkZn, 5FmvQSwHGFkwtxkHvW3Wrrj4tzHFCQLBH134J4HHACKApCtY, 660 ),\n",
       " AxonInfo( /ipv4/38.80.122.21:8091, 5FnqSkvnQEXCpSv4hyCzY9Y7EgX7CxsGvoJ4daKsVioURtBx, 5HioLZTRG653SCn5vyeyMr2FdkV2SqwN7wHfFAxyz6DaSToS, 660 ),\n",
       " AxonInfo( /ipv4/64.247.206.242:8091, 5DPCYJ7S2KMm2jgA9KdEVDCsr2e9GX5bT5fTUsZSusnNFBPo, 5FxWzFxTx52gUYuLYyTVqPsDS43ynLqorgxLMEVkhnAQSfi7, 660 ),\n",
       " AxonInfo( /ipv0/0.0.0.0:0, 5DAX4grTJrYAoHLVbqqei7aroVFh85kGmAXUk5oG4ckWP1Q1, 5CMf5ApexWk4g4aUdaRVHPEQ72vWU3FoVp9sSbdFrHzaozgR, 0 ),\n",
       " AxonInfo( /ipv4/64.247.206.240:8091, 5HgYCiHWek3w3BvTR1BNDaCH8HrLeo6ESXSw7taZaABANSXY, 5GxGBZU1Tr38RPriarUzg9cQNoysP2GCNKm2iVHYpjcjcCkZ, 660 ),\n",
       " AxonInfo( /ipv4/94.101.98.201:8091, 5GzzVDhaN2xheW1RqiJmwdAR9Y7mMy86LrDphLYhRdrWfYq2, 5Ci1pKAGp9HU9DptNoAX3U5WLPGWR7HCXbw8Q4Ww3UAvpaQw, 660 ),\n",
       " AxonInfo( /ipv0/0.0.0.0:0, 5CnhvTKUqq5YURg3aH1LVUDy1P618ghoUdYt9h9YmY2fzP6q, 5Ci1pKAGp9HU9DptNoAX3U5WLPGWR7HCXbw8Q4Ww3UAvpaQw, 0 ),\n",
       " AxonInfo( /ipv0/0.0.0.0:0, 5GKpBFCV2ZotEv9iYsxi8Go7GyyJXAjLJzxcm5D8F9Gm56F5, 5GVqwN2bWH5ATh5dGAFygEqExsbR2erxNDm7gXDQZBsfTrYm, 0 ),\n",
       " AxonInfo( /ipv4/172.28.143.38:8090, 5CHryiARZccauEgFkN8BzvpQ714AkTcC7YwcSTHzaLmURJm8, 5EACyG41bydbBvSW9PfWcE5kbZ5aU8tsDeNS6URpHLWbn282, 660 ),\n",
       " AxonInfo( /ipv4/89.187.159.52:8091, 5GZTqNkXwLPXXDs8Z4N7W2qQCK1LVciFySi42XFeuGGKukvS, 5Ef848ReW7EXjReypNkUWdsXdy6AFuAbZjRBJFUZxSaRKsK8, 660 ),\n",
       " AxonInfo( /ipv4/24.51.54.193:8091, 5HENGMGYDy2pBoxMEvQrZYiRwhHt6xCKThA8JkUVXyhKGLbv, 5GzqhxHbyfzMgFp5oiaE7jcL5WwLiJswscF9rLdM6dHzx9LG, 660 ),\n",
       " AxonInfo( /ipv4/69.129.120.4:8091, 5DwMX98sJAaAdb6Hr18H69kr4Py1EQXUHcqDoKnLfZqM617N, 5Hmwur4mjdJoAK5YbwRqVfwUcUFP5XSGkZzYsdGiU1n6tJk7, 660 ),\n",
       " AxonInfo( /ipv4/173.212.228.222:8888, 5CG8XyHCX1BGJ6ye98EXe8H8NYMtMC36eEdUzqYnyXgWkY2g, 5F2AjTM9s9KZHFCuf23nbDpekLWaqcvfVtaqEPgNxdbGLMvU, 660 ),\n",
       " AxonInfo( /ipv4/194.68.245.13:22148, 5Fvo8FhKxrSzM8ucfjsorHVChbC1xWoExfi1nFvxXwdCBAbz, 5E57qHzajW7SLgiucve3Ys1rDJBr57isjo5WPwcnSvL1NU3V, 660 ),\n",
       " AxonInfo( /ipv4/89.187.159.44:8091, 5G9UnPztwCzmmzZekudZoeR2EGWEzZwmXtvJ2wJDFh5h1Xcq, 5HW54zcLk3UZZRKZemgxqmRAqCWWcKCs6qozwyhXXqzJE9UB, 660 ),\n",
       " AxonInfo( /ipv4/94.101.98.201:8091, 5C5kreDQ3BXFiLTZgo5fn8HgpTLcyFenqN5M4q7KBpvJqJB5, 5C8QoxcmYF7DCSVVJoHPch8mQJJroNeV27UvQqey7L2knSCn, 660 ),\n",
       " AxonInfo( /ipv4/69.30.85.13:9200, 5GYKzsXGgoHEuhcmuDJFRv9aFMRVDqh7o27WpTnp5fQLn3iH, 5HiyCfKGduJg5GRA9YE9sH6e9pipNScFMAHCGYb97BxciQDs, 660 ),\n",
       " AxonInfo( /ipv0/0.0.0.0:0, 5FmyyS5dZnKYYPFweoevVFsFwmKNPcapV5EMerB4ADywK5Qi, 5HjiqPbGxnxPju6dDhVjQzHUvJ6mqQ5urNYZRixmtenoYkPk, 0 ),\n",
       " AxonInfo( /ipv4/3.13.114.84:8081, 5GzxfH7Qn4hQVouvNruQvLYs2rdRGj5Yue2TSi7SYqKGpURn, 5FYoLpxYtH7sBaaLfg2c1n2aynKxkvnVbeUGTRKa7DJSV5f6, 660 ),\n",
       " AxonInfo( /ipv4/194.68.245.167:22045, 5EnyCra8nCBgePj3mkshyc8cmvxyNoFNjms2GVYNFMvSVbAB, 5CwDgZZXPEJ17YnmZUcJzAin4vdkJUMGujUwXmHBbW7GroKd, 660 ),\n",
       " AxonInfo( /ipv0/0.0.0.0:0, 5CXDVFtoiBSeymfNyd6oqSdnFdntoHK86gPPzUVssxarzBLA, 5Df1bEmPUXFkU7vAvE2a9SrQkVqM97DBTAKjmjottGxkDdon, 0 ),\n",
       " AxonInfo( /ipv4/194.68.245.167:22047, 5CiKzoPGV9P1APr8rhY8Ajgz1G8LVowzRU19T32NxJS7hDuM, 5D7v9S8LXFPCXg4aVayEch1c1gryLsi49cCzGuPjXJYfmrUR, 660 ),\n",
       " AxonInfo( /ipv4/194.68.245.167:22060, 5F7ZF3JKRXiLVgvgjqb3Fd9NeMYSLqtwTkbiynuWHGPjGtn1, 5D7v9S8LXFPCXg4aVayEch1c1gryLsi49cCzGuPjXJYfmrUR, 660 ),\n",
       " AxonInfo( /ipv4/194.68.245.33:8091, 5FPQEJczuhJSCui7L1KBQv8DL5Fon77YFBY2RSVwfQpAEBHm, 5Dss6FJKUK9r9kLj59V4Cx1seh9fGmhDqB1zxkF9Doo9YhmN, 701 ),\n",
       " AxonInfo( /ipv4/213.181.110.225:30836, 5FbUSyt9pFsnMbWCWJYEPkawEReyYVGYtcnyGxe3PKrPq3YQ, 5EcJZ5bCPYSoqoxGURt714KdjgDgPjerJmRk4YvG32JDb9rK, 660 ),\n",
       " AxonInfo( /ipv4/24.199.109.224:8081, 5GsRqw5XVn6Uhb7qgnpfVHjdQ9RPcdbgbaYgGorP17BV55aZ, 5DcfaXuURKpb7aCkMo9TKVt6QfBWSVn9LgpCcgQaoMYTvjSe, 660 ),\n",
       " AxonInfo( /ipv4/123.235.6.102:8090, 5GEXtUJZ4YaycdcmTo7WbQj9n1JzZH8T2sriLyppomdGToQy, 5EACyG41bydbBvSW9PfWcE5kbZ5aU8tsDeNS6URpHLWbn282, 660 ),\n",
       " AxonInfo( /ipv4/213.173.108.24:13320, 5F4dS8VeQ9GkW8MHVeYtiuGgW6VcEK1zcTYFH8JwBuZPWhzp, 5G21XzBoWSpKsD12Xf6AfiSVVXdubDXWQNHGnv8KtiYsJHaB, 711 ),\n",
       " AxonInfo( /ipv4/35.234.169.95:8091, 5HEeUEVZmAuhuk7mQq5ARZh1ih1VG8dszuf1emsRkba4Y5L5, 5Dt4BN58GvDhcHhkZRiunatZZSJMn9BAhWPf1HHYuufpdPQS, 660 ),\n",
       " AxonInfo( /ipv4/209.137.198.89:21988, 5CDZVvH5roq7vTjzi3yTCXMvW1gCf9KCmhWBpySaWbmAJRNS, 5Ff9GGnCoK9VPzuwdpFBZyCbxJupMKVNvQMswmccz1AjWUFY, 660 ),\n",
       " AxonInfo( /ipv4/54.201.116.148:20001, 5Cf9spRvgae84aHBSjeQrBdDj4Nf3dUpYxbDP1k2gWT3YgFj, 5CRvidbqbQdDmE3Njz1W2n7StsrexD143mvmVX2MfT8pqsUq, 660 ),\n",
       " AxonInfo( /ipv4/42.119.86.146:21989, 5F7Jrp5Riag5NFAuYTPSqKFiqfxuc8jR3iFZkmFLSkPfnfyL, 5HBLapysPtrZEDpZX3MrxPEB9WK1bvZRHkXNthJCHUWRHVdB, 660 ),\n",
       " AxonInfo( /ipv4/116.233.193.85:5556, 5GZ2LS3sj4P3tuhqtJqf6p6TJsqaFWHwyvwivNYjsEvQsqcW, 5G6R2MFuxmBDGVuX43wmC3e18irgXQK63ABgVh4zVdaHyBYi, 721 ),\n",
       " AxonInfo( /ipv0/0.0.0.0:0, 5Ci9sR15pCwG9r6WgXRQKqWrcwz8tDhUZ8wihr2sSG94wakw, 5FFTq2d6obcmV4z2Th27EShZzhhBLnVL2LoGjaFHB2TehYPb, 0 ),\n",
       " AxonInfo( /ipv0/0.0.0.0:0, 5E4Z4WX1Z1cCxYAFAQftfG1DUVuBqfCwpNqu2tCXAs37dkRP, 5FFTq2d6obcmV4z2Th27EShZzhhBLnVL2LoGjaFHB2TehYPb, 0 ),\n",
       " AxonInfo( /ipv0/0.0.0.0:0, 5DyAMhJE7esgCJFf7DsFNq2bAkWt9545jkL1zVLDkXRqjsiE, 5FFTq2d6obcmV4z2Th27EShZzhhBLnVL2LoGjaFHB2TehYPb, 0 ),\n",
       " AxonInfo( /ipv0/0.0.0.0:0, 5GNVaReU3KkTAPWbJL26gkhPQH2hEX8ZfazqTF46JFYSZ9H9, 5FFTq2d6obcmV4z2Th27EShZzhhBLnVL2LoGjaFHB2TehYPb, 0 ),\n",
       " AxonInfo( /ipv4/213.173.109.167:21988, 5FCgf2neexWpQsdqCLEhMEAfttuLKc8eWxJ7EHzpwaemciyu, 5FFTq2d6obcmV4z2Th27EShZzhhBLnVL2LoGjaFHB2TehYPb, 701 ),\n",
       " AxonInfo( /ipv4/43.205.34.191:21988, 5DDUm8k6EJU4GDqhvV6Mj9tX5KXokgMX6m8ee4rLo9UBRcNA, 5DkLPih4RkRbjKHfu46iHXTPefctwAJGZWvCMKs16BSAB7Rx, 660 ),\n",
       " AxonInfo( /ipv4/38.147.83.18:8091, 5E2RfFLFBF1xfEFWHutGRV3qje16Hrnb93s1BDtqSrzu4kQq, 5GnSgowgRMtaGTh2eHH6ByK2quBogY5eFnTEd6vqS3LAU3Wm, 701 ),\n",
       " AxonInfo( /ipv4/38.128.232.109:8091, 5CnqNkvNnupo617YB1sZVCoeW49HPyLaZwqMEeyihzXfv5vA, 5F1bmJLGbgP5sboE6UT9K6Y1ibreAchgPbtsuDU1xhfG8qVF, 701 ),\n",
       " AxonInfo( /ipv4/59.124.90.236:8094, 5FX9SSfCTA1ficYqGeEhUUR3BWqQ3W18z2QqxPrnCiGcbewF, 5DcSF14b97w7LyMXQ8BGhskw16ehBVrSfL1fujTrKq5oqENJ, 701 ),\n",
       " AxonInfo( /ipv4/103.88.232.189:50000, 5Gehhtx6oL7YStkGvV2z8em7bp8eb9Wmv5R4iMTFsBHmbuyt, 5HDo6fkfTHQ3G9YDp7jMJFGK4sdAhmEoBtvvYBz2ayw3C69u, 710 ),\n",
       " AxonInfo( /ipv4/187.207.4.96:21988, 5GbM5R3hfuNWsNzVnKVRqUY2QESKJP4YhWTcgFKP8NcFuSJu, 5HpR6L5qtPwdLZgohC2ckc3SeFUuca9pQNC3ika3xTeM39Yy, 701 ),\n",
       " AxonInfo( /ipv4/194.68.245.34:22129, 5EZ6wgcCLwVAAgnWic1LHyysZk55sP19tqAkc3uvkLPJhbXX, 5Ecq2idA8d4B4Q2ei6YSgRVSh8nfC8mtDbGip5Eoo51XMYSE, 701 ),\n",
       " AxonInfo( /ipv4/86.98.179.34:8091, 5Gir13ngkE1B8D4i4eB7uMHaSmeikoxAvp4RPLQFKFXALtzx, 5EfFdGaa3ytvKdrJxp6PDS5Ux3umXkUVoTppYJ9epT45W95t, 710 ),\n",
       " AxonInfo( /ipv4/47.186.58.92:53006, 5Ei5A4uX6LZV5LEKCyySZekFKYNXK2LSWLccHSfMt6Fic5ET, 5F6dk6MiHmfHNVBWwvXLxGcnfQLwnDFnvfWsq4k3ZU6TiJzQ, 701 ),\n",
       " AxonInfo( /ipv4/66.114.112.126:58356, 5H15ma42nLpJED1qGWQGM6iMe1BVvaXBUTe4tAasPXLRJKwN, 5GR6uuGmusEog3VBeSqtGPVttgeFVjJ8vAQaVmW4NDGi2YzK, 711 ),\n",
       " AxonInfo( /ipv4/79.116.48.205:22427, 5HowRJyWufju4uUe2gc31KRZKrGASbhes3t9iqv4U2cuY3Rq, 5CUtUY8FLLTtqfQd2f2UAPmmHFbngbLQauLveuYXbMnNUaN3, 701 ),\n",
       " AxonInfo( /ipv4/66.114.112.70:19005, 5Gjcg8ZsNJ2syHNhSCm2tLy2b8YyVm1pcT7a2ez4sKHjCAmx, 5C7RyuGubCowQvtqhh2o2ZtMS7s53ayfKGYv7yit7zqtroHp, 693 ),\n",
       " AxonInfo( /ipv4/218.172.86.190:42097, 5GxMZQZEoQS1CDzgzUgDXycZS9ggmhK8vjf54MuDFLn5qZYW, 5D51fxG2hS3dT9kEXfYqok3LasEAxof5LydeX64QBs8JMD1k, 720 ),\n",
       " AxonInfo( /ipv4/66.114.112.70:19011, 5DHXfzJnhMhcprrhAf7XMD5vyhCmxXgP341FuRmdPSTQZ4f4, 5C7RyuGubCowQvtqhh2o2ZtMS7s53ayfKGYv7yit7zqtroHp, 693 ),\n",
       " AxonInfo( /ipv4/213.173.107.78:19313, 5FLaJEA2UpCfep8Xfjp9AJfRhdNepdbR2LFusWDYzeCKqCvL, 5FFQ6dZerUnfnDzU2sLJWnSrqm91qLAjXXnjJNbrLhR2xxuv, 701 ),\n",
       " AxonInfo( /ipv4/69.30.85.5:22086, 5E7oqwkoicrW1HAtS7wrKRYd6WZtKkN6a35b9n2S2wWD56NH, 5D5PhKUHknrQovkeALyzoYC37QTctbPAGm1T5ASwLvZcfAkJ, 7003001 ),\n",
       " AxonInfo( /ipv4/194.68.245.15:22065, 5EvUdsmrHJchET6aGCvsU7fN5WmSHmncFfk57UQJs8CV1frB, 5CkaEjtrk7uwvJrJio7xRcEfLgh6Q5ijxZ1YQ9R9Z2FQ8GCp, 701 ),\n",
       " AxonInfo( /ipv4/213.173.107.78:19969, 5EJUEXvb2tcGSAV1B6iCeBvSzyWjhfQ4GyLZckspvBjq7eCK, 5FFQ6dZerUnfnDzU2sLJWnSrqm91qLAjXXnjJNbrLhR2xxuv, 701 ),\n",
       " AxonInfo( /ipv4/142.122.4.69:10522, 5Cf31qYbVDkCtzkiHV2tAXzUAYtx7XiDe93NSKJAZxEJXWff, 5HbazsiGTvynFZXBdA4e8nEyNsSMqZ5Km3XqCu9PEeXNaFPe, 701 ),\n",
       " AxonInfo( /ipv4/142.122.4.69:10685, 5Ff2kkfFECR3GL8iyRPGxUYuWsFt78TREJNbon9o1U74JmYM, 5HbazsiGTvynFZXBdA4e8nEyNsSMqZ5Km3XqCu9PEeXNaFPe, 701 ),\n",
       " AxonInfo( /ipv4/38.104.142.5:32331, 5GTv5uT3MfdSD3hxGWh72Hpggr4dtJQXfXnKnf6HZpkn6UeH, 5H9BE1N1S2yFt5UtC4LPcwDp8kcr4UpsTghxVFVkwGhYnPPi, 701 ),\n",
       " AxonInfo( /ipv4/69.30.85.226:21988, 5D2p9SLRcw4fsDZk2UyZFNZSyDGbXhH8w7Ngv94rDvJbzcY1, 5Gmg8DuxsGmX1ZSC9G2Dnn6Wrb4kzniFTM7kkyiBj8wqihiQ, 701 ),\n",
       " AxonInfo( /ipv4/64.247.206.230:18237, 5GHDdxsMDJxn1KR3TdD22FgSyjiFy3YLQRA5TVva6LQufxyF, 5EhuidzzdkcGXGdf631JMe447zjCbDazxSjPQj6UGyrjEbJi, 701 ),\n",
       " AxonInfo( /ipv4/136.243.130.82:22200, 5ED6jwDECEmNvSp98R2qyEUPHDv9pi14E6n3TS8CicD6YfhL, 5CST3gftj5GzR8DfVS12GsV9kbhmMurp14QPsYdHNabxKwdT, 701 ),\n",
       " AxonInfo( /ipv4/46.233.0.83:40154, 5GbUeyjybwrjEAYpC5hQQ2ChxdrEz3pCjWPfQisSCHutWSiX, 5ELooM9gVxVCQQ47gQJaD9zr8mSzva8K6sd1QGHQws4genfa, 701 ),\n",
       " AxonInfo( /ipv4/194.68.245.43:8091, 5CqkBGYZCeu2pu4PNFPPCk2d5CTf428fR84uhRc74VwDGRgH, 5CfNvz8opJGDFA1wuJtH6xXmLn8T6xy2DiLbPmgoEzqzBLyp, 701 ),\n",
       " AxonInfo( /ipv4/34.125.54.237:21988, 5Gdia9dxqvkDnA6QaPAFAkA3kBBf7jeY41noK5pmGEPSvB6J, 5HBgHgntHFp1PjppkUMke7ZsdavVifRmkscSWbxt4ccYz6Dj, 701 ),\n",
       " AxonInfo( /ipv4/119.74.229.65:21988, 5CSxwSMHqqVT3LtEESdtQoHrusjkDYUfEiMD12VRGqTHUNcX, 5E6xfQnokBeAcx6fRrECqE65f7HbqUSy9reV2sn73AwqARgi, 701 ),\n",
       " AxonInfo( /ipv0/0.0.0.0:0, 5CwWWkbL9j54gHzxWGJ3ayuBvxpS9qvwfoSpzSEogkPs7Ewp, 5HgmjSgZxSE8fEDwnErgvKHcqbbSN6ffbW8r9KcVsXDNTDSB, 0 ),\n",
       " AxonInfo( /ipv0/0.0.0.0:0, 5FgjQfSkHdQEkidyPR54eFw9oLMS5Yw5D7TTtNDzfZcXksUH, 5HgmjSgZxSE8fEDwnErgvKHcqbbSN6ffbW8r9KcVsXDNTDSB, 0 ),\n",
       " AxonInfo( /ipv4/38.128.233.87:3000, 5GHAnrHn742HJXnrETVa2ypdvFWotCt1k5udPxVdwiqgs8RR, 5HgmjSgZxSE8fEDwnErgvKHcqbbSN6ffbW8r9KcVsXDNTDSB, 701 ),\n",
       " AxonInfo( /ipv4/38.128.233.87:3000, 5HEwWAgKLgdW2a67YDsW3MxFWL6jCSJCPM8u3JGHvxHQC3o3, 5HgmjSgZxSE8fEDwnErgvKHcqbbSN6ffbW8r9KcVsXDNTDSB, 701 ),\n",
       " AxonInfo( /ipv4/69.30.85.12:22019, 5Dns6VfaWCwD728qFCCzTGUvL8rC3VBx64YiRCVzuRo3j3Po, 5GERyYXeiH6HuK95Z9mUxT66Fx559ZH1pWnGgn1DDMjf8viH, 711 ),\n",
       " AxonInfo( /ipv4/141.193.30.26:42172, 5Fk35HgrTqqUffK7WN8FG4euZ8MpKx35mUYz9kgwj3UDnNHr, 5GKjbgqqjphGBKvXQPKfDAx2psooR2RSs4iSRhNNxsah7pNo, 712 ),\n",
       " AxonInfo( /ipv4/141.193.30.26:8091, 5EjqaAQfxp7vo3ss9Gpovp2nnguu1fVmGw5QfW3Ri8TWfCQZ, 5E9dvaTT6GsY5GgL3nV2z8uVbz1KgRajy5Vejk3do83su4Vd, 712 ),\n",
       " AxonInfo( /ipv4/149.102.156.137:21988, 5E4Q8T85DAhEkTMFCEGHyomuEurSVjcgh9iSTEvumrtzX1BY, 5C4yZL2gEophPAePcxDwLMqmUq5WeHZonCWNtVgHoynxnbFy, 701 ),\n",
       " AxonInfo( /ipv4/64.247.206.145:8091, 5HWGrV1ANR8zMgnrgioxqP2zL5FuhfwtoaKhNaYBf11m71ht, 5E9dvaTT6GsY5GgL3nV2z8uVbz1KgRajy5Vejk3do83su4Vd, 701 ),\n",
       " AxonInfo( /ipv0/0.0.0.0:0, 5EHSN855U6WopJrJKrfjgW7BkQDSGpd1tJfecrxsQ337ESRe, 5DnTYiNQrJniH73CBPbf96nYebsHYnqnmk4a7KQ6SuUf9Axo, 0 ),\n",
       " AxonInfo( /ipv0/0.0.0.0:0, 5H1MUgHP3DUEM9WJ8TmZe343T6iAaSH948Lh8xzEUwtcmcJ2, 5F1HuwbiXMibFSY9CiBxxYrxDxm2anSsitmhv4vm6rXi4q7U, 0 ),\n",
       " AxonInfo( /ipv0/0.0.0.0:0, 5F7AHwD4zp6cJ3xFzVg9ieUHbuDcYXXqp4kzTompd6CAGXXX, 5EefRb2jd95rRVvWpWthu7GjV7ASVoDzHtqntJeAcXmzmtD3, 0 ),\n",
       " AxonInfo( /ipv4/141.193.30.26:8091, 5Dr9CDq2DsY19K3z2qb14kVBYZqWtWwgwjryqNnCNj2JLaix, 5E9dvaTT6GsY5GgL3nV2z8uVbz1KgRajy5Vejk3do83su4Vd, 701 ),\n",
       " AxonInfo( /ipv4/38.242.206.87:8000, 5EEjvMCY5gRjtKTV4zmMpfQg34csn8APxaqJjPv1hyUPN3ub, 5DFAz5m2VyMicohzzwYW1o9RdNEVdFwyj9LqBAiT4jUkGYX6, 721 ),\n",
       " AxonInfo( /ipv4/44.223.6.37:8091, 5Ef1yLFPJUJ4qFkSM8sdfoYmQ56X834bxCpQSMSxYHwdbvjC, 5EA7bfMcN2n5H1Kv6nsLi4NFhWkdNSz5Nd1gVADC8e7v6ygo, 701 ),\n",
       " AxonInfo( /ipv0/0.0.0.0:0, 5DnvGaiEcQwEKKvuXfnoqD3HKoberSibHfP7yXPGPzzgtJhs, 5CQHgsPSzpiT1fVzkBLAo2FNxsBqFWhKCx5jbFcy6KLh5Vc3, 0 ),\n",
       " AxonInfo( /ipv4/44.204.223.165:10005, 5HGceMnu9R62eqfLWZg6LJnEYvm9qPZE84UZwrsYCvVKfkXT, 5DZPbo8TgwxNKWbDL2q8EUL4Vkv7NW522NG2g2hsDytYuNrK, 711 ),\n",
       " AxonInfo( /ipv4/65.109.75.50:3067, 5GvB9HkrqyCzZopdfrwXL5jLFnviT7uSanzHcqZEKhkWgHjy, 5HmkxhP54TPnq4MFY5tDChGaysSedpdwj5qot1WKQ64YRHHH, 701 ),\n",
       " AxonInfo( /ipv0/0.0.0.0:0, 5EeottZy88Gn94dnBLyE3Wqw2TVQ5CvQLfDoHysPgUESi1GM, 5CQHgsPSzpiT1fVzkBLAo2FNxsBqFWhKCx5jbFcy6KLh5Vc3, 0 ),\n",
       " AxonInfo( /ipv0/0.0.0.0:0, 5FKZwCSijAQGWpFQdp7ASEHCMntbQeJAj7zJDAgsZT4Mk8Gd, 5CQHgsPSzpiT1fVzkBLAo2FNxsBqFWhKCx5jbFcy6KLh5Vc3, 0 ),\n",
       " AxonInfo( /ipv0/0.0.0.0:0, 5CnxdYXJ5YdGXmwuJzSvL4Ave1ezBx7WFHZDSHHPzBqoi14Q, 5CQHgsPSzpiT1fVzkBLAo2FNxsBqFWhKCx5jbFcy6KLh5Vc3, 0 ),\n",
       " AxonInfo( /ipv0/0.0.0.0:0, 5EHkzeTGpN3MB4PeLkt9WuanEzb2B35VVszj7NtPvfjuZrL8, 5CQHgsPSzpiT1fVzkBLAo2FNxsBqFWhKCx5jbFcy6KLh5Vc3, 0 ),\n",
       " AxonInfo( /ipv4/::5e64:1a06:1f9b:0, 5Ci3ptzSwPXFyi8fMTdv2GYyhu2A8De7DjXF2Ed46zeHYcxB, 5HW9tgzMvcrcdFsXoh6nVb7Ztp35GeY3AVm7YH6JuBtxLcCH, 700 ),\n",
       " AxonInfo( /ipv4/46.188.73.96:40105, 5GeXcdm4euY1fGbv3ZefCsQGEnoGKSxF3y6guNUvFPLGigPr, 5ELooM9gVxVCQQ47gQJaD9zr8mSzva8K6sd1QGHQws4genfa, 701 ),\n",
       " AxonInfo( /ipv4/147.45.246.121:8091, 5GjB8U3Rn9odhqXtikrKHSTNvJxXhGPo1fyguKQjZ3NN99PC, 5FNiu5ucW1afEZnwHgE9FVF7VutKLmnRCFed5pxZ9JC19fAn, 701 ),\n",
       " AxonInfo( /ipv4/::a2f4:52b1:1f9e:0, 5CFCawAuMHysd5xQ83nzL83dGiMUMEj4ywiWxeM9Mctcx3zU, 5FUGCWMcVLb9ckgbuqEGLusk7gDejPTbr13fRkwaLNkHWTp7, 701 ),\n",
       " AxonInfo( /ipv0/0.0.0.0:0, 5EWcQMLVwKNbwbFVN148BFVrTtcxwTuMx3WMSyjTqAZHxJ98, 5GZZA6CREiBVbUz7njYLPxW8nmdXwsZ43ckXSdfA4vZBL5tL, 0 ),\n",
       " AxonInfo( /ipv0/0.0.0.0:0, 5G1Yvofr12qhHkhZ6AJEhgFPt6Q1LuVVuwcTgxGhGSeuguta, 5DvrU8CvFe4vEMEcsmHTv9Y3bNkahwzzNPVsbzwKgeFmnHXk, 0 ),\n",
       " AxonInfo( /ipv0/0.0.0.0:0, 5EWYk71Tmc4jpomCvmycMbTS6p3WReLZtdQYQ7KKwkdd4Zbs, 5HNXW3kGwFnkVM9tmo9GdVDv8NgQkq7ea2f5ur3N7vnSSZdz, 0 ),\n",
       " AxonInfo( /ipv0/0.0.0.0:0, 5GeUAypCmyQeRdH2Hkg8NVUuymrXFV5T7JW1BeEFVkJfYsEj, 5C4iCxPTGnSqLqyiFFNPCPFumDWNPViiYkdKvHFCRfzxUU6P, 0 ),\n",
       " AxonInfo( /ipv0/0.0.0.0:0, 5E9guCMJEWBG86GsAHqpbhEst2d86mNkHQgGiA6tTkPh6MZK, 5EcTyDWkdEvrYrX2p6xMaaCnUfBEP5CTzKupNJp93nizKb9b, 0 ),\n",
       " AxonInfo( /ipv4/188.65.8.131:21988, 5CPX9yBWBHc4cJLLpAtMM3LpEvzDHtwWT2fNEFwSyYdD5Yem, 5FsJ2Qi8zMjLqoykziDYcfMqwCbcyf5bFi4dpNTFGFT6Kkj3, 701 ),\n",
       " AxonInfo( /ipv4/141.193.30.26:40339, 5HTekq8MU4AbyUs7mkKmzYnn7BSURYqkSe7Dw2dq3kkyRfV7, 5E9dvaTT6GsY5GgL3nV2z8uVbz1KgRajy5Vejk3do83su4Vd, 701 ),\n",
       " AxonInfo( /ipv0/0.0.0.0:0, 5DekJvCSPhbQa5uMaE54SdyvmMhdP4dxFQvffv5CDF6FvHm4, 5Ei4jboFsURz3zFprvBBXRVrZtC5RyJQ7XXb7NDvTMMsHxsx, 0 ),\n",
       " AxonInfo( /ipv0/0.0.0.0:0, 5E2GjLjiuzUv4btg9MBvZimE2kWMSeLS5aRHZBY7x8GoNSD1, 5ERNjnimWmj4C6cXYtiCmYMEEj1EeoXVq7d4rRXrscQUXAYi, 0 ),\n",
       " AxonInfo( /ipv4/3.143.224.115:3333, 5EXDR7VzDPzFCTEareQ1EoKv2Yeu42gUnG2MN33LRt87PtRe, 5D7HPxKh97ZgWxxfPomA3ZrC2kHnkXawmG6tca8Um3RxbopM, 701 ),\n",
       " AxonInfo( /ipv4/38.60.163.190:21988, 5E9n5znEjtD577FJNiRbjjJnUMzMR5jUmMKTYiPDKHPR4pBR, 5CJAd5tnCLPUHYP2UKarpmcys27QG2UptH1fZt5bRPcHwPQF, 711 ),\n",
       " AxonInfo( /ipv4/213.173.107.84:8099, 5FWigwJoVYtBttiqXKNHyWGTNE9egRZz3qwvcMuK5unMpmcG, 5FRz2kQenJ8mA9r34zfRjcGwJ7Q7J9A8PyAGQeNCoKXLpvJg, 701 ),\n",
       " AxonInfo( /ipv4/161.97.156.125:8101, 5C7x9TohSN5jXTd3B2fPqhC9rQruaiNx9eT6UDRKhvpZSXEL, 5EM1NChDWV7UTniMLa7msxbmaY9HocdHVftayFmMtz2TLDjx, 711 ),\n",
       " AxonInfo( /ipv4/20.62.195.114:41945, 5DttJxF9gvzRo34fZjmabxTLHWrxNNn7xnd4co3GmbxcqrPM, 5CGNjcqcgkkE5AHZQsdDZmXTqcHEwnvXDVFbSfsRkSh5kfbq, 711 ),\n",
       " AxonInfo( /ipv4/38.60.163.87:21988, 5CJAd5tnCLPUHYP2UKarpmcys27QG2UptH1fZt5bRPcHwPQF, 5FRz2kQenJ8mA9r34zfRjcGwJ7Q7J9A8PyAGQeNCoKXLpvJg, 7002000 ),\n",
       " AxonInfo( /ipv4/38.60.163.87:21988, 5H9FfNMRZcspL6xm3krZkAxegDmbeMvrtH4Sp7VU3dJ6jdpd, 5HeKWUvndnAxgR2akyonQ4E45FfGBqig8EtmypLzDyLdsZhf, 7002000 ),\n",
       " AxonInfo( /ipv4/141.193.30.26:8091, 5CdMYMSddyrB2u3epPaTyqr41nYoxxmgZHgnW1mWkN6NynMb, 5E9dvaTT6GsY5GgL3nV2z8uVbz1KgRajy5Vejk3do83su4Vd, 711 ),\n",
       " AxonInfo( /ipv0/0.0.0.0:0, 5FZK9wWyzsrQQrBetVmwW5De2hF113fJUEj1KRMdNWetsM8M, 5DkGsq5wXptsLRKiyaojkXSFwAZR88Kdb7hiJaCnmykhbg7u, 0 ),\n",
       " AxonInfo( /ipv4/44.204.223.165:10005, 5F3owHgfBBU8tCqEX5acxrnC69pHo85tiBQev1QNZvrXv1XB, 5F6aEdaZ4nBJ41r9U7qmMPQmcoVnDyAea4h3bVF8ekHRWrPb, 711 ),\n",
       " AxonInfo( /ipv4/62.169.159.170:21988, 5Cu1kdxpF24EfoEK81Q15oqDc37gMe5wGnKG2dGjYdZpDJTs, 5Fzuv6wax3mqA5S4gcZefYku1dJtY4NYSXy9dNwPGkcFmq6s, 711 ),\n",
       " AxonInfo( /ipv4/65.109.84.205:8091, 5Fnm5rVGyYxeLMcZuNSHCGLk4mCQTTdrRESaZSRtyrFZJ7kb, 5FTRsgTLbXP1TKRoaP4DUw7SRhJH9eaoKk5hkpABLAZM6GmM, 711 ),\n",
       " AxonInfo( /ipv4/213.181.110.225:30836, 5DRwwJSS2K3xpFh4GdUSoCjGmUubeSjxvKV7oF9P7Paojb4i, 5GqGy7dc4BABp5HLwJ8UZczZykBvwYyumD6bB4bdfrcdSVGU, 711 ),\n",
       " AxonInfo( /ipv0/0.0.0.0:0, 5FEzDqaNtxaLqnyjjHnHomZEfBeMqxLdaY3fDHBmmE3KxjHr, 5DhUbFTvPpXmoZaCdeSQj3h5rhyur5aPWYY2efJb9cFMWZsu, 0 ),\n",
       " AxonInfo( /ipv0/0.0.0.0:0, 5DcQrTd45LGT88WR3tBRqgyDxFJ73SQ2ULfUqNcrMNez2Vtx, 5C4tJGiGoF43aDSvvjcvv738QEYMXveKfMya8MU9BSd53eoP, 0 ),\n",
       " AxonInfo( /ipv4/195.0.159.206:43400, 5Ct14BX1HsRNh5yMrFqiCTduc4buZEYbZHnDdQpMMb5b2wjs, 5GEeMQsyWN46KeSkYE7YFFZWknZnXh7zrqS3KhuABN8H38YP, 711 ),\n",
       " AxonInfo( /ipv4/194.68.245.62:8091, 5EhMpL2evGTBiYD5FYZZBmKCmzjxmwZYRthSAByRftRp3tSe, 5C5jytgSYpafHRpaFqKbhHnnhFMRvXx2HCCD7THwCvDgFNy4, 7003001 ),\n",
       " AxonInfo( /ipv4/194.68.245.62:22116, 5He9Gtavge2jrb8FYQoQBg2Tq6qpqCAZtezbrJVjPXvSwZTp, 5Gs1mri7YxqcPxfh8v5M1bzxDoyNvBNs7nZbZ5dvUh4GWqor, 7003001 ),\n",
       " AxonInfo( /ipv0/0.0.0.0:0, 5FCPTnjevGqAuTttetBy4a24Ej3pH9fiQ8fmvP1ZkrVsLUoT, 5D2d3YMBdLfvdTJwmtEkNLnz3evDqGB97HgB9pGu72HZskx7, 0 ),\n",
       " AxonInfo( /ipv4/141.193.30.26:43764, 5E4AbG7x7pd4BZQs2TD9vATF8W7v3ZpjEh5Lm6qrEqfb2ZNp, 5DXeqx6aYP89vENGWwTi5j7FRLTPo6yjevnmEZf52pqnMkrJ, 712 ),\n",
       " AxonInfo( /ipv4/141.193.30.26:8091, 5DoXBcLN6PLUdQELzRuQLGkGD8TknLnwWJrUyAj3hJDoBwpb, 5DXeqx6aYP89vENGWwTi5j7FRLTPo6yjevnmEZf52pqnMkrJ, 712 ),\n",
       " AxonInfo( /ipv0/0.0.0.0:0, 5HgCfZhcduMK5zotCy2Mk9g3u4VuY5WLCYLBUd1vgpUKxND4, 5H4EDsAVQ4vvGHRbfXP5ASfTbyZXKRyz3f3ft1CVAeCrP1H8, 0 ),\n",
       " AxonInfo( /ipv4/69.30.85.48:22193, 5HMnbvQFWpEZcqq58hYJuwfF5GYaMDLuM5yt2iR1UrY5WvSL, 5Fv2jTn2tggoV6ojJJWowN1XQXx5X5TQRC6waaFXpGJbvVWm, 712 ),\n",
       " AxonInfo( /ipv4/86.207.31.114:8091, 5GKxz2E5CKodBt9TASp5S6wYGYsyqfTy6RnzwWb5X13RnY7p, 5DLGk9K9vgmRwS1PpGXnxJGZonF1BybfWyGzSTbQZ3BbRPCc, 7003000 ),\n",
       " AxonInfo( /ipv4/3.238.219.255:10005, 5GnNrAWHeijkKPzMY9J1dR7sqpWnnjJd7qfJwknjBP2GZquZ, 5F6aEdaZ4nBJ41r9U7qmMPQmcoVnDyAea4h3bVF8ekHRWrPb, 712 ),\n",
       " AxonInfo( /ipv4/69.30.85.48:22193, 5HpoMRQ6MyTShcAbh8cxDPjk3pzLyPH4qvFCZ1nkRtT7Xgix, 5Fv2jTn2tggoV6ojJJWowN1XQXx5X5TQRC6waaFXpGJbvVWm, 712 )]"
      ]
     },
     "execution_count": 8,
     "metadata": {},
     "output_type": "execute_result"
    }
   ],
   "source": [
    "metagraph.axons"
   ]
  },
  {
   "cell_type": "code",
   "execution_count": 18,
   "metadata": {},
   "outputs": [
    {
     "name": "stderr",
     "output_type": "stream",
     "text": [
      "/tmp/ipykernel_95078/659430835.py:7: DeprecationWarning: Conversion of an array with ndim > 0 to a scalar is deprecated, and will error in future. Ensure you extract a single element from your array before performing this operation. (Deprecated NumPy 1.25.)\n",
      "  float(x@y), x@y\n"
     ]
    },
    {
     "data": {
      "text/plain": [
       "(2.561555106557572, array([[2.56155511]]))"
      ]
     },
     "execution_count": 18,
     "metadata": {},
     "output_type": "execute_result"
    }
   ],
   "source": [
    "import numpy as np\n",
    "\n",
    "\n",
    "x = np.reshape(np.random.random(size=10), (1,-1))\n",
    "y = np.reshape(np.random.random(size=10), (-1,1))\n",
    "\n",
    "float(x@y), x@y"
   ]
  },
  {
   "cell_type": "code",
   "execution_count": 5,
   "metadata": {},
   "outputs": [
    {
     "name": "stderr",
     "output_type": "stream",
     "text": [
      "/root/.cache/pypoetry/virtualenvs/prompting-fb5sw-i7-py3.10/lib/python3.10/site-packages/tqdm/auto.py:21: TqdmWarning: IProgress not found. Please update jupyter and ipywidgets. See https://ipywidgets.readthedocs.io/en/stable/user_install.html\n",
      "  from .autonotebook import tqdm as notebook_tqdm\n",
      "2024-08-05 10:47:00,850\tINFO util.py:154 -- Missing packages: ['ipywidgets']. Run `pip install -U ipywidgets`, then restart the notebook server for rich notebook output.\n",
      "/root/.cache/pypoetry/virtualenvs/prompting-fb5sw-i7-py3.10/lib/python3.10/site-packages/pydantic/_internal/_fields.py:201: UserWarning: Field name \"name\" in \"WikiDateDataset\" shadows an attribute in parent \"BaseDataset\"\n",
      "  warnings.warn(\n"
     ]
    }
   ],
   "source": [
    "# from prompting.tasks.date_qa import DateQuestionAnsweringTask\n",
    "from prompting.tasks.base_task import BaseTask\n",
    "from prompting.rewards.reward import BaseRewardModel\n",
    "from prompting.tasks.summarization import SummarizationTask, SummarizationRewardConfig\n",
    "from prompting.tasks.qa import QuestionAnsweringTask, QARewardConfig\n",
    "\n",
    "from prompting.datasets.wiki import WikiDataset\n",
    "from prompting.datasets.base import BaseDataset\n",
    "from pydantic import BaseModel, ConfigDict\n",
    "import random\n",
    "from typing import ClassVar\n",
    "import bittensor as bt\n",
    "\n",
    "\n",
    "class TaskConfig(BaseModel):\n",
    "    task: BaseTask.__class__\n",
    "    probability: float\n",
    "    datasets: list[BaseDataset.__class__]\n",
    "    reward_model: BaseRewardModel.__class__\n",
    "\n",
    "    model_config = ConfigDict(arbitrary_types_allowed=True)\n",
    "\n",
    "\n",
    "class TaskRegistry(BaseModel):\n",
    "    tasks: ClassVar[list[TaskConfig]] = [\n",
    "        TaskConfig(task=QuestionAnsweringTask, probability=0.6, datasets=[WikiDataset], reward_model=QARewardConfig),\n",
    "        TaskConfig(\n",
    "            task=SummarizationTask, probability=0.4, datasets=[WikiDataset], reward_model=SummarizationRewardConfig\n",
    "        ),\n",
    "        # TaskConfig(task=DateQuestionAnsweringTask, probability=0.2, datasets=[WikiDateDataset])\n",
    "    ]\n",
    "\n",
    "    @classmethod\n",
    "    def random(self) -> TaskConfig:\n",
    "        probabilities = [task.probability for task in self.tasks]\n",
    "        selected_task = random.choices(self.tasks, probabilities)[0]\n",
    "        return selected_task\n",
    "\n",
    "    @classmethod\n",
    "    def get_task_datasets(self, task: BaseTask.__class__):\n",
    "        try:\n",
    "            return [t.datasets for t in self.tasks if task is t.task][0]\n",
    "        except Exception:\n",
    "            bt.logging.error(\"Tried accessing non-registered task\")\n",
    "            return []\n",
    "\n",
    "    @classmethod\n",
    "    def get_random_task_dataset(self, task: BaseTask.__class__) -> BaseDataset.__class__:\n",
    "        return random.choice(self.get_task_datasets(task))\n",
    "\n",
    "    @classmethod\n",
    "    def get_task_reward(self, task: BaseTask) -> BaseRewardModel:\n",
    "        try:\n",
    "            return [t.reward_model for t in self.tasks if task is t.task][0]\n",
    "        except Exception:\n",
    "            bt.logging.error(\"Tried accessing non-registered task\")\n",
    "            return []\n",
    "\n",
    "    @classmethod\n",
    "    def create_random_task(self, llm_pipeline) -> BaseTask:\n",
    "        task_config = self.random()\n",
    "        dataset = self.get_random_task_dataset(task_config.task)\n",
    "        return task_config.task(\n",
    "            llm_pipeline=llm_pipeline, context=dataset().next(), reward_config=task_config.reward_model()\n",
    "        )\n"
   ]
  },
  {
   "cell_type": "code",
   "execution_count": 9,
   "metadata": {},
   "outputs": [
    {
     "ename": "ValidationError",
     "evalue": "1 validation error for QuestionAnsweringTask\ncontext\n  Field required [type=missing, input_value={}, input_type=dict]\n    For further information visit https://errors.pydantic.dev/2.8/v/missing",
     "output_type": "error",
     "traceback": [
      "\u001b[0;31m---------------------------------------------------------------------------\u001b[0m",
      "\u001b[0;31mValidationError\u001b[0m                           Traceback (most recent call last)",
      "Cell \u001b[0;32mIn[9], line 1\u001b[0m\n\u001b[0;32m----> 1\u001b[0m TaskRegistry()\u001b[38;5;241m.\u001b[39mget_task_reward(\u001b[43mQuestionAnsweringTask\u001b[49m\u001b[43m(\u001b[49m\u001b[43m)\u001b[49m)\n",
      "File \u001b[0;32m~/.cache/pypoetry/virtualenvs/prompting-fb5sw-i7-py3.10/lib/python3.10/site-packages/pydantic/main.py:193\u001b[0m, in \u001b[0;36mBaseModel.__init__\u001b[0;34m(self, **data)\u001b[0m\n\u001b[1;32m    191\u001b[0m \u001b[38;5;66;03m# `__tracebackhide__` tells pytest and some other tools to omit this function from tracebacks\u001b[39;00m\n\u001b[1;32m    192\u001b[0m __tracebackhide__ \u001b[38;5;241m=\u001b[39m \u001b[38;5;28;01mTrue\u001b[39;00m\n\u001b[0;32m--> 193\u001b[0m \u001b[38;5;28;43mself\u001b[39;49m\u001b[38;5;241;43m.\u001b[39;49m\u001b[43m__pydantic_validator__\u001b[49m\u001b[38;5;241;43m.\u001b[39;49m\u001b[43mvalidate_python\u001b[49m\u001b[43m(\u001b[49m\u001b[43mdata\u001b[49m\u001b[43m,\u001b[49m\u001b[43m \u001b[49m\u001b[43mself_instance\u001b[49m\u001b[38;5;241;43m=\u001b[39;49m\u001b[38;5;28;43mself\u001b[39;49m\u001b[43m)\u001b[49m\n",
      "\u001b[0;31mValidationError\u001b[0m: 1 validation error for QuestionAnsweringTask\ncontext\n  Field required [type=missing, input_value={}, input_type=dict]\n    For further information visit https://errors.pydantic.dev/2.8/v/missing"
     ]
    }
   ],
   "source": [
    "TaskRegistry().get_task_reward(QuestionAnsweringTask)"
   ]
  }
 ],
 "metadata": {
  "kernelspec": {
   "display_name": "prompting-fb5sw-i7-py3.10",
   "language": "python",
   "name": "python3"
  },
  "language_info": {
   "codemirror_mode": {
    "name": "ipython",
    "version": 3
   },
   "file_extension": ".py",
   "mimetype": "text/x-python",
   "name": "python",
   "nbconvert_exporter": "python",
   "pygments_lexer": "ipython3",
   "version": "3.10.12"
  }
 },
 "nbformat": 4,
 "nbformat_minor": 2
}
